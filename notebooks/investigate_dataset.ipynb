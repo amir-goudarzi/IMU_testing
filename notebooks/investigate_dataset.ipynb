{
 "cells": [
  {
   "cell_type": "code",
   "execution_count": 13,
   "metadata": {},
   "outputs": [
    {
     "name": "stdout",
     "output_type": "stream",
     "text": [
      "cuda:0\n"
     ]
    }
   ],
   "source": [
    "import os\n",
    "import pandas as pd\n",
    "\n",
    "import torch\n",
    "import torch.nn as nn\n",
    "import torchaudio.transforms as T\n",
    "import torchvision\n",
    "import torch.optim as optim\n",
    "import scipy as sp\n",
    "import pandas as pd\n",
    "from torch.utils.data import Dataset, DataLoader\n",
    "import numpy as np\n",
    "import datetime\n",
    "\n",
    "DEVICE = torch.device(\"cuda:0\" if torch.cuda.is_available() else \"cpu\")\n",
    "print(DEVICE)"
   ]
  },
  {
   "cell_type": "code",
   "execution_count": 14,
   "metadata": {},
   "outputs": [],
   "source": [
    "root_dir = os.path.join('/data', 'EPIC-KITCHENS')\n",
    "annotations_dir = os.path.join('..', 'data', 'annotations')\n",
    "train = True\n",
    "filename_train = 'EPIC_100_train_clean.pkl'\n",
    "filename_valid = 'EPIC_100_validation.pkl'\n",
    "\n",
    "img_dir = os.path.join('..','reports','img','dataset_analysis')"
   ]
  },
  {
   "cell_type": "code",
   "execution_count": 3,
   "metadata": {},
   "outputs": [],
   "source": [
    "def load_data(filename):\n",
    "    '''\n",
    "    Load the WAV file and its label.\n",
    "    Args :\n",
    "        • filename: str. The path of a WAV file.\n",
    "    Returns A tuple of two Pandas DataFrame objects:\n",
    "        • signals: A DataFrame with the following columns:\n",
    "            • seconds: The time in seconds.\n",
    "            • AcclX: The acceleration along the x-axis.\n",
    "            • AcclY: The acceleration along the y-axis.\n",
    "            • AcclZ: The acceleration along the z-axis.\n",
    "            • GyroX: The angular velocity along the x-axis.\n",
    "            • GyroY: The angular velocity along the y-axis.\n",
    "            • GyroZ: The angular velocity along the z-axis.\n",
    "        • sampling_rate: The sampling rate of the WAV file.\n",
    "    '''\n",
    "    df_accl = pd.read_csv(filename + '-accl.csv').dropna().reset_index(drop=True)\n",
    "    df_gyro = pd.read_csv(filename + '-gyro.csv').dropna().reset_index(drop=True)\n",
    "\n",
    "    return df_accl, df_gyro"
   ]
  },
  {
   "cell_type": "code",
   "execution_count": 15,
   "metadata": {},
   "outputs": [
    {
     "data": {
      "text/html": [
       "<div>\n",
       "<style scoped>\n",
       "    .dataframe tbody tr th:only-of-type {\n",
       "        vertical-align: middle;\n",
       "    }\n",
       "\n",
       "    .dataframe tbody tr th {\n",
       "        vertical-align: top;\n",
       "    }\n",
       "\n",
       "    .dataframe thead th {\n",
       "        text-align: right;\n",
       "    }\n",
       "</style>\n",
       "<table border=\"1\" class=\"dataframe\">\n",
       "  <thead>\n",
       "    <tr style=\"text-align: right;\">\n",
       "      <th></th>\n",
       "      <th>participant_id</th>\n",
       "      <th>video_id</th>\n",
       "      <th>narration_timestamp</th>\n",
       "      <th>start_timestamp</th>\n",
       "      <th>stop_timestamp</th>\n",
       "      <th>start_frame</th>\n",
       "      <th>stop_frame</th>\n",
       "      <th>narration</th>\n",
       "      <th>verb</th>\n",
       "      <th>verb_class</th>\n",
       "      <th>noun</th>\n",
       "      <th>noun_class</th>\n",
       "      <th>all_nouns</th>\n",
       "      <th>all_noun_classes</th>\n",
       "    </tr>\n",
       "  </thead>\n",
       "  <tbody>\n",
       "    <tr>\n",
       "      <th>0</th>\n",
       "      <td>P01</td>\n",
       "      <td>P01_102</td>\n",
       "      <td>00:00:01.100</td>\n",
       "      <td>00:00:00.54</td>\n",
       "      <td>00:00:02.23</td>\n",
       "      <td>27</td>\n",
       "      <td>111</td>\n",
       "      <td>take knife and plate</td>\n",
       "      <td>take</td>\n",
       "      <td>0</td>\n",
       "      <td>knife</td>\n",
       "      <td>4</td>\n",
       "      <td>[knife, plate]</td>\n",
       "      <td>[4, 2]</td>\n",
       "    </tr>\n",
       "    <tr>\n",
       "      <th>1</th>\n",
       "      <td>P01</td>\n",
       "      <td>P01_102</td>\n",
       "      <td>00:00:07.600</td>\n",
       "      <td>00:00:07.49</td>\n",
       "      <td>00:00:09.05</td>\n",
       "      <td>374</td>\n",
       "      <td>452</td>\n",
       "      <td>move spatula and colander</td>\n",
       "      <td>move</td>\n",
       "      <td>11</td>\n",
       "      <td>spatula</td>\n",
       "      <td>20</td>\n",
       "      <td>[spatula, colander]</td>\n",
       "      <td>[20, 39]</td>\n",
       "    </tr>\n",
       "    <tr>\n",
       "      <th>2</th>\n",
       "      <td>P01</td>\n",
       "      <td>P01_102</td>\n",
       "      <td>00:00:29.851</td>\n",
       "      <td>00:00:29.66</td>\n",
       "      <td>00:00:30.84</td>\n",
       "      <td>1483</td>\n",
       "      <td>1542</td>\n",
       "      <td>take knife</td>\n",
       "      <td>take</td>\n",
       "      <td>0</td>\n",
       "      <td>knife</td>\n",
       "      <td>4</td>\n",
       "      <td>[knife]</td>\n",
       "      <td>[4]</td>\n",
       "    </tr>\n",
       "    <tr>\n",
       "      <th>3</th>\n",
       "      <td>P01</td>\n",
       "      <td>P01_102</td>\n",
       "      <td>00:03:44.600</td>\n",
       "      <td>00:03:44.45</td>\n",
       "      <td>00:03:45.00</td>\n",
       "      <td>11222</td>\n",
       "      <td>11250</td>\n",
       "      <td>wipe surface</td>\n",
       "      <td>wipe</td>\n",
       "      <td>2</td>\n",
       "      <td>surface</td>\n",
       "      <td>42</td>\n",
       "      <td>[surface]</td>\n",
       "      <td>[42]</td>\n",
       "    </tr>\n",
       "    <tr>\n",
       "      <th>4</th>\n",
       "      <td>P01</td>\n",
       "      <td>P01_102</td>\n",
       "      <td>00:03:45.600</td>\n",
       "      <td>00:03:45.61</td>\n",
       "      <td>00:03:46.01</td>\n",
       "      <td>11280</td>\n",
       "      <td>11300</td>\n",
       "      <td>move glass</td>\n",
       "      <td>move</td>\n",
       "      <td>11</td>\n",
       "      <td>glass</td>\n",
       "      <td>10</td>\n",
       "      <td>[glass]</td>\n",
       "      <td>[10]</td>\n",
       "    </tr>\n",
       "    <tr>\n",
       "      <th>...</th>\n",
       "      <td>...</td>\n",
       "      <td>...</td>\n",
       "      <td>...</td>\n",
       "      <td>...</td>\n",
       "      <td>...</td>\n",
       "      <td>...</td>\n",
       "      <td>...</td>\n",
       "      <td>...</td>\n",
       "      <td>...</td>\n",
       "      <td>...</td>\n",
       "      <td>...</td>\n",
       "      <td>...</td>\n",
       "      <td>...</td>\n",
       "      <td>...</td>\n",
       "    </tr>\n",
       "    <tr>\n",
       "      <th>37450</th>\n",
       "      <td>P37</td>\n",
       "      <td>P37_103</td>\n",
       "      <td>00:06:16.903</td>\n",
       "      <td>00:06:17.17</td>\n",
       "      <td>00:06:17.67</td>\n",
       "      <td>18858</td>\n",
       "      <td>18883</td>\n",
       "      <td>turn off tap</td>\n",
       "      <td>turn-off</td>\n",
       "      <td>8</td>\n",
       "      <td>tap</td>\n",
       "      <td>0</td>\n",
       "      <td>[tap]</td>\n",
       "      <td>[0]</td>\n",
       "    </tr>\n",
       "    <tr>\n",
       "      <th>37451</th>\n",
       "      <td>P37</td>\n",
       "      <td>P37_103</td>\n",
       "      <td>00:06:22.154</td>\n",
       "      <td>00:06:17.86</td>\n",
       "      <td>00:06:23.77</td>\n",
       "      <td>18893</td>\n",
       "      <td>19188</td>\n",
       "      <td>take pan</td>\n",
       "      <td>take</td>\n",
       "      <td>0</td>\n",
       "      <td>pan</td>\n",
       "      <td>5</td>\n",
       "      <td>[pan]</td>\n",
       "      <td>[5]</td>\n",
       "    </tr>\n",
       "    <tr>\n",
       "      <th>37452</th>\n",
       "      <td>P37</td>\n",
       "      <td>P37_103</td>\n",
       "      <td>00:06:26.404</td>\n",
       "      <td>00:06:23.45</td>\n",
       "      <td>00:06:32.66</td>\n",
       "      <td>19172</td>\n",
       "      <td>19633</td>\n",
       "      <td>pour out boiled water</td>\n",
       "      <td>pour-out</td>\n",
       "      <td>9</td>\n",
       "      <td>water:boiled</td>\n",
       "      <td>27</td>\n",
       "      <td>[water:boiled]</td>\n",
       "      <td>[27]</td>\n",
       "    </tr>\n",
       "    <tr>\n",
       "      <th>37453</th>\n",
       "      <td>P37</td>\n",
       "      <td>P37_103</td>\n",
       "      <td>00:00:41.151</td>\n",
       "      <td>00:00:40.57</td>\n",
       "      <td>00:00:44.19</td>\n",
       "      <td>2028</td>\n",
       "      <td>2209</td>\n",
       "      <td>debone chicken thighs</td>\n",
       "      <td>debone</td>\n",
       "      <td>30</td>\n",
       "      <td>thigh:chicken</td>\n",
       "      <td>57</td>\n",
       "      <td>[thigh:chicken]</td>\n",
       "      <td>[57]</td>\n",
       "    </tr>\n",
       "    <tr>\n",
       "      <th>37454</th>\n",
       "      <td>P37</td>\n",
       "      <td>P37_103</td>\n",
       "      <td>00:00:44.907</td>\n",
       "      <td>00:00:46.85</td>\n",
       "      <td>00:00:54.64</td>\n",
       "      <td>2342</td>\n",
       "      <td>2732</td>\n",
       "      <td>debone chicken thighs</td>\n",
       "      <td>debone</td>\n",
       "      <td>30</td>\n",
       "      <td>thigh:chicken</td>\n",
       "      <td>57</td>\n",
       "      <td>[thigh:chicken]</td>\n",
       "      <td>[57]</td>\n",
       "    </tr>\n",
       "  </tbody>\n",
       "</table>\n",
       "<p>37455 rows × 14 columns</p>\n",
       "</div>"
      ],
      "text/plain": [
       "      participant_id video_id  ...            all_nouns all_noun_classes\n",
       "0                P01  P01_102  ...       [knife, plate]           [4, 2]\n",
       "1                P01  P01_102  ...  [spatula, colander]         [20, 39]\n",
       "2                P01  P01_102  ...              [knife]              [4]\n",
       "3                P01  P01_102  ...            [surface]             [42]\n",
       "4                P01  P01_102  ...              [glass]             [10]\n",
       "...              ...      ...  ...                  ...              ...\n",
       "37450            P37  P37_103  ...                [tap]              [0]\n",
       "37451            P37  P37_103  ...                [pan]              [5]\n",
       "37452            P37  P37_103  ...       [water:boiled]             [27]\n",
       "37453            P37  P37_103  ...      [thigh:chicken]             [57]\n",
       "37454            P37  P37_103  ...      [thigh:chicken]             [57]\n",
       "\n",
       "[37455 rows x 14 columns]"
      ]
     },
     "execution_count": 15,
     "metadata": {},
     "output_type": "execute_result"
    }
   ],
   "source": [
    "df = pd.read_pickle(os.path.join(annotations_dir, filename_train))\n",
    "df = df.dropna()\n",
    "df = df.reset_index(drop=True)\n",
    "df"
   ]
  },
  {
   "cell_type": "code",
   "execution_count": 7,
   "metadata": {},
   "outputs": [
    {
     "data": {
      "text/html": [
       "<div>\n",
       "<style scoped>\n",
       "    .dataframe tbody tr th:only-of-type {\n",
       "        vertical-align: middle;\n",
       "    }\n",
       "\n",
       "    .dataframe tbody tr th {\n",
       "        vertical-align: top;\n",
       "    }\n",
       "\n",
       "    .dataframe thead th {\n",
       "        text-align: right;\n",
       "    }\n",
       "</style>\n",
       "<table border=\"1\" class=\"dataframe\">\n",
       "  <thead>\n",
       "    <tr style=\"text-align: right;\">\n",
       "      <th></th>\n",
       "      <th>participant_id</th>\n",
       "      <th>video_id</th>\n",
       "      <th>narration_timestamp</th>\n",
       "      <th>start_timestamp</th>\n",
       "      <th>stop_timestamp</th>\n",
       "      <th>start_frame</th>\n",
       "      <th>stop_frame</th>\n",
       "      <th>narration</th>\n",
       "      <th>verb</th>\n",
       "      <th>verb_class</th>\n",
       "      <th>noun</th>\n",
       "      <th>noun_class</th>\n",
       "      <th>all_nouns</th>\n",
       "      <th>all_noun_classes</th>\n",
       "    </tr>\n",
       "  </thead>\n",
       "  <tbody>\n",
       "    <tr>\n",
       "      <th>0</th>\n",
       "      <td>P01</td>\n",
       "      <td>P01_11</td>\n",
       "      <td>00:00:00.560</td>\n",
       "      <td>00:00:00.00</td>\n",
       "      <td>00:00:01.89</td>\n",
       "      <td>1</td>\n",
       "      <td>113</td>\n",
       "      <td>take plate</td>\n",
       "      <td>take</td>\n",
       "      <td>0</td>\n",
       "      <td>plate</td>\n",
       "      <td>2</td>\n",
       "      <td>[plate]</td>\n",
       "      <td>[2]</td>\n",
       "    </tr>\n",
       "    <tr>\n",
       "      <th>1</th>\n",
       "      <td>P01</td>\n",
       "      <td>P01_11</td>\n",
       "      <td>00:00:01.700</td>\n",
       "      <td>00:00:01.56</td>\n",
       "      <td>00:00:02.45</td>\n",
       "      <td>93</td>\n",
       "      <td>147</td>\n",
       "      <td>put down plate</td>\n",
       "      <td>put-down</td>\n",
       "      <td>1</td>\n",
       "      <td>plate</td>\n",
       "      <td>2</td>\n",
       "      <td>[plate]</td>\n",
       "      <td>[2]</td>\n",
       "    </tr>\n",
       "    <tr>\n",
       "      <th>2</th>\n",
       "      <td>P01</td>\n",
       "      <td>P01_11</td>\n",
       "      <td>00:00:48.500</td>\n",
       "      <td>00:00:49.15</td>\n",
       "      <td>00:00:50.95</td>\n",
       "      <td>2949</td>\n",
       "      <td>3057</td>\n",
       "      <td>take paper</td>\n",
       "      <td>take</td>\n",
       "      <td>0</td>\n",
       "      <td>paper</td>\n",
       "      <td>49</td>\n",
       "      <td>[paper]</td>\n",
       "      <td>[49]</td>\n",
       "    </tr>\n",
       "    <tr>\n",
       "      <th>3</th>\n",
       "      <td>P01</td>\n",
       "      <td>P01_11</td>\n",
       "      <td>00:05:27.840</td>\n",
       "      <td>00:05:27.28</td>\n",
       "      <td>00:05:31.97</td>\n",
       "      <td>19636</td>\n",
       "      <td>19918</td>\n",
       "      <td>wash cloth</td>\n",
       "      <td>wash</td>\n",
       "      <td>2</td>\n",
       "      <td>cloth</td>\n",
       "      <td>17</td>\n",
       "      <td>[cloth]</td>\n",
       "      <td>[17]</td>\n",
       "    </tr>\n",
       "    <tr>\n",
       "      <th>4</th>\n",
       "      <td>P01</td>\n",
       "      <td>P01_11</td>\n",
       "      <td>00:05:26.840</td>\n",
       "      <td>00:05:27.37</td>\n",
       "      <td>00:05:29.86</td>\n",
       "      <td>19642</td>\n",
       "      <td>19791</td>\n",
       "      <td>take cloth</td>\n",
       "      <td>take</td>\n",
       "      <td>0</td>\n",
       "      <td>cloth</td>\n",
       "      <td>17</td>\n",
       "      <td>[cloth]</td>\n",
       "      <td>[17]</td>\n",
       "    </tr>\n",
       "    <tr>\n",
       "      <th>...</th>\n",
       "      <td>...</td>\n",
       "      <td>...</td>\n",
       "      <td>...</td>\n",
       "      <td>...</td>\n",
       "      <td>...</td>\n",
       "      <td>...</td>\n",
       "      <td>...</td>\n",
       "      <td>...</td>\n",
       "      <td>...</td>\n",
       "      <td>...</td>\n",
       "      <td>...</td>\n",
       "      <td>...</td>\n",
       "      <td>...</td>\n",
       "      <td>...</td>\n",
       "    </tr>\n",
       "    <tr>\n",
       "      <th>9593</th>\n",
       "      <td>P32</td>\n",
       "      <td>P32_10</td>\n",
       "      <td>00:01:13.920</td>\n",
       "      <td>00:01:14.36</td>\n",
       "      <td>00:01:17.04</td>\n",
       "      <td>4461</td>\n",
       "      <td>4622</td>\n",
       "      <td>spray degreaser</td>\n",
       "      <td>spray</td>\n",
       "      <td>44</td>\n",
       "      <td>degreaser</td>\n",
       "      <td>22</td>\n",
       "      <td>[degreaser]</td>\n",
       "      <td>[22]</td>\n",
       "    </tr>\n",
       "    <tr>\n",
       "      <th>9594</th>\n",
       "      <td>P32</td>\n",
       "      <td>P32_10</td>\n",
       "      <td>00:01:17.729</td>\n",
       "      <td>00:01:18.69</td>\n",
       "      <td>00:01:33.75</td>\n",
       "      <td>4721</td>\n",
       "      <td>5625</td>\n",
       "      <td>wash cooker</td>\n",
       "      <td>wash</td>\n",
       "      <td>2</td>\n",
       "      <td>cooker</td>\n",
       "      <td>46</td>\n",
       "      <td>[cooker]</td>\n",
       "      <td>[46]</td>\n",
       "    </tr>\n",
       "    <tr>\n",
       "      <th>9595</th>\n",
       "      <td>P32</td>\n",
       "      <td>P32_10</td>\n",
       "      <td>00:01:40.790</td>\n",
       "      <td>00:01:39.52</td>\n",
       "      <td>00:01:59.64</td>\n",
       "      <td>5971</td>\n",
       "      <td>7178</td>\n",
       "      <td>rinse cooker</td>\n",
       "      <td>rinse</td>\n",
       "      <td>2</td>\n",
       "      <td>cooker</td>\n",
       "      <td>46</td>\n",
       "      <td>[cooker]</td>\n",
       "      <td>[46]</td>\n",
       "    </tr>\n",
       "    <tr>\n",
       "      <th>9596</th>\n",
       "      <td>P32</td>\n",
       "      <td>P32_10</td>\n",
       "      <td>00:02:01.070</td>\n",
       "      <td>00:02:00.48</td>\n",
       "      <td>00:02:09.11</td>\n",
       "      <td>7228</td>\n",
       "      <td>7746</td>\n",
       "      <td>rinse cloth</td>\n",
       "      <td>rinse</td>\n",
       "      <td>2</td>\n",
       "      <td>cloth</td>\n",
       "      <td>17</td>\n",
       "      <td>[cloth]</td>\n",
       "      <td>[17]</td>\n",
       "    </tr>\n",
       "    <tr>\n",
       "      <th>9597</th>\n",
       "      <td>P32</td>\n",
       "      <td>P32_10</td>\n",
       "      <td>00:02:22.799</td>\n",
       "      <td>00:02:09.98</td>\n",
       "      <td>00:02:25.73</td>\n",
       "      <td>7798</td>\n",
       "      <td>8743</td>\n",
       "      <td>rinse cooker</td>\n",
       "      <td>rinse</td>\n",
       "      <td>2</td>\n",
       "      <td>cooker</td>\n",
       "      <td>46</td>\n",
       "      <td>[cooker]</td>\n",
       "      <td>[46]</td>\n",
       "    </tr>\n",
       "  </tbody>\n",
       "</table>\n",
       "<p>9598 rows × 14 columns</p>\n",
       "</div>"
      ],
      "text/plain": [
       "     participant_id video_id narration_timestamp start_timestamp  \\\n",
       "0               P01   P01_11        00:00:00.560     00:00:00.00   \n",
       "1               P01   P01_11        00:00:01.700     00:00:01.56   \n",
       "2               P01   P01_11        00:00:48.500     00:00:49.15   \n",
       "3               P01   P01_11        00:05:27.840     00:05:27.28   \n",
       "4               P01   P01_11        00:05:26.840     00:05:27.37   \n",
       "...             ...      ...                 ...             ...   \n",
       "9593            P32   P32_10        00:01:13.920     00:01:14.36   \n",
       "9594            P32   P32_10        00:01:17.729     00:01:18.69   \n",
       "9595            P32   P32_10        00:01:40.790     00:01:39.52   \n",
       "9596            P32   P32_10        00:02:01.070     00:02:00.48   \n",
       "9597            P32   P32_10        00:02:22.799     00:02:09.98   \n",
       "\n",
       "     stop_timestamp  start_frame  stop_frame        narration      verb  \\\n",
       "0       00:00:01.89            1         113       take plate      take   \n",
       "1       00:00:02.45           93         147   put down plate  put-down   \n",
       "2       00:00:50.95         2949        3057       take paper      take   \n",
       "3       00:05:31.97        19636       19918       wash cloth      wash   \n",
       "4       00:05:29.86        19642       19791       take cloth      take   \n",
       "...             ...          ...         ...              ...       ...   \n",
       "9593    00:01:17.04         4461        4622  spray degreaser     spray   \n",
       "9594    00:01:33.75         4721        5625      wash cooker      wash   \n",
       "9595    00:01:59.64         5971        7178     rinse cooker     rinse   \n",
       "9596    00:02:09.11         7228        7746      rinse cloth     rinse   \n",
       "9597    00:02:25.73         7798        8743     rinse cooker     rinse   \n",
       "\n",
       "      verb_class       noun  noun_class    all_nouns all_noun_classes  \n",
       "0              0      plate           2      [plate]              [2]  \n",
       "1              1      plate           2      [plate]              [2]  \n",
       "2              0      paper          49      [paper]             [49]  \n",
       "3              2      cloth          17      [cloth]             [17]  \n",
       "4              0      cloth          17      [cloth]             [17]  \n",
       "...          ...        ...         ...          ...              ...  \n",
       "9593          44  degreaser          22  [degreaser]             [22]  \n",
       "9594           2     cooker          46     [cooker]             [46]  \n",
       "9595           2     cooker          46     [cooker]             [46]  \n",
       "9596           2      cloth          17      [cloth]             [17]  \n",
       "9597           2     cooker          46     [cooker]             [46]  \n",
       "\n",
       "[9598 rows x 14 columns]"
      ]
     },
     "execution_count": 7,
     "metadata": {},
     "output_type": "execute_result"
    }
   ],
   "source": [
    "df_valid = pd.read_pickle(os.path.join(annotations_dir, filename_valid))\n",
    "df_valid = df_valid.dropna()\n",
    "df_valid = df_valid.reset_index(drop=True)\n",
    "df_valid"
   ]
  },
  {
   "cell_type": "markdown",
   "metadata": {},
   "source": [
    "# IMU data size"
   ]
  },
  {
   "cell_type": "code",
   "execution_count": 12,
   "metadata": {},
   "outputs": [
    {
     "name": "stdout",
     "output_type": "stream",
     "text": [
      "Data Size:  3.411542139016092 GB\n"
     ]
    }
   ],
   "source": [
    "sz = 0\n",
    "for video_id in df['video_id'].unique():\n",
    "    participant_id = video_id.split('_')[0]\n",
    "    clip_path = os.path.join(root_dir, participant_id, 'meta_data', video_id)\n",
    "    sz += os.path.getsize(clip_path + '-accl.csv') + os.path.getsize(clip_path + '-gyro.csv')\n",
    "\n",
    "last = 'bytes'\n",
    "for x in ['bytes', 'KB', 'MB', 'GB', 'TB']:\n",
    "    if sz < 1024.0:\n",
    "        last = x\n",
    "        break\n",
    "    sz /= 1024.0\n",
    "print(\"Data Size: \", sz, last)"
   ]
  },
  {
   "cell_type": "code",
   "execution_count": null,
   "metadata": {},
   "outputs": [],
   "source": [
    "accl_data = pd.DataFrame(columns=['video_id', 'Milliseconds', 'AcclX', 'AcclY', 'AcclZ'])\n",
    "gyro_data = pd.DataFrame(columns=['video_id', 'Milliseconds', 'GyroX', 'GyroY', 'GyroZ'])"
   ]
  },
  {
   "cell_type": "code",
   "execution_count": 10,
   "metadata": {},
   "outputs": [
    {
     "data": {
      "text/html": [
       "<div>\n",
       "<style scoped>\n",
       "    .dataframe tbody tr th:only-of-type {\n",
       "        vertical-align: middle;\n",
       "    }\n",
       "\n",
       "    .dataframe tbody tr th {\n",
       "        vertical-align: top;\n",
       "    }\n",
       "\n",
       "    .dataframe thead th {\n",
       "        text-align: right;\n",
       "    }\n",
       "</style>\n",
       "<table border=\"1\" class=\"dataframe\">\n",
       "  <thead>\n",
       "    <tr style=\"text-align: right;\">\n",
       "      <th></th>\n",
       "      <th>verb</th>\n",
       "      <th>verb_class</th>\n",
       "    </tr>\n",
       "  </thead>\n",
       "  <tbody>\n",
       "    <tr>\n",
       "      <th>12</th>\n",
       "      <td>put-down</td>\n",
       "      <td>1.0</td>\n",
       "    </tr>\n",
       "    <tr>\n",
       "      <th>23</th>\n",
       "      <td>put-down</td>\n",
       "      <td>1.0</td>\n",
       "    </tr>\n",
       "    <tr>\n",
       "      <th>24</th>\n",
       "      <td>put-down</td>\n",
       "      <td>1.0</td>\n",
       "    </tr>\n",
       "    <tr>\n",
       "      <th>26</th>\n",
       "      <td>put-onto</td>\n",
       "      <td>1.0</td>\n",
       "    </tr>\n",
       "    <tr>\n",
       "      <th>34</th>\n",
       "      <td>put-down</td>\n",
       "      <td>1.0</td>\n",
       "    </tr>\n",
       "    <tr>\n",
       "      <th>...</th>\n",
       "      <td>...</td>\n",
       "      <td>...</td>\n",
       "    </tr>\n",
       "    <tr>\n",
       "      <th>37414</th>\n",
       "      <td>put-down</td>\n",
       "      <td>1.0</td>\n",
       "    </tr>\n",
       "    <tr>\n",
       "      <th>37421</th>\n",
       "      <td>put-down</td>\n",
       "      <td>1.0</td>\n",
       "    </tr>\n",
       "    <tr>\n",
       "      <th>37427</th>\n",
       "      <td>put-down</td>\n",
       "      <td>1.0</td>\n",
       "    </tr>\n",
       "    <tr>\n",
       "      <th>37434</th>\n",
       "      <td>put-down</td>\n",
       "      <td>1.0</td>\n",
       "    </tr>\n",
       "    <tr>\n",
       "      <th>37437</th>\n",
       "      <td>put-down</td>\n",
       "      <td>1.0</td>\n",
       "    </tr>\n",
       "  </tbody>\n",
       "</table>\n",
       "<p>7295 rows × 2 columns</p>\n",
       "</div>"
      ],
      "text/plain": [
       "           verb  verb_class\n",
       "12     put-down         1.0\n",
       "23     put-down         1.0\n",
       "24     put-down         1.0\n",
       "26     put-onto         1.0\n",
       "34     put-down         1.0\n",
       "...         ...         ...\n",
       "37414  put-down         1.0\n",
       "37421  put-down         1.0\n",
       "37427  put-down         1.0\n",
       "37434  put-down         1.0\n",
       "37437  put-down         1.0\n",
       "\n",
       "[7295 rows x 2 columns]"
      ]
     },
     "execution_count": 10,
     "metadata": {},
     "output_type": "execute_result"
    }
   ],
   "source": [
    "df[['verb', 'verb_class']].where(df['verb_class'] == 1).dropna()"
   ]
  },
  {
   "cell_type": "markdown",
   "metadata": {},
   "source": [
    "# 1. Actions Duration"
   ]
  },
  {
   "cell_type": "code",
   "execution_count": 5,
   "metadata": {},
   "outputs": [
    {
     "data": {
      "text/plain": [
       "array(['take', 'move', 'wipe', 'throw-into', 'put-down', 'wash', 'pour',\n",
       "       'turn-off', 'rinse', 'dry', 'put-onto', 'close', 'open',\n",
       "       'put-into', 'turn-on', 'move-into', 'adjust', 'empty', 'pick-up',\n",
       "       'put', 'attach-onto', 'pour-into', 'fold', 'shake', 'twist-off',\n",
       "       'unfold', 'squeeze', 'hand', 'dice', 'stir', 'peel', 'take-from',\n",
       "       'grind', 'slice', 'take-off', 'tap', 'cut', 'flatten', 'open-with',\n",
       "       'throw', 'compress', 'separate', 'wipe-off', 'pull-down',\n",
       "       'take-out', 'remove', 'lift', 'lay', 'pat-down', 'set', 'lather',\n",
       "       'grab', 'drain', 'scoop', 'spoon', 'immerge', 'spray', 'throw-off',\n",
       "       'pick', 'check', 'lower', 'move-onto', 'scrape', 'crush',\n",
       "       'take-up', 'remove-from', 'sprinkle', 'gather', 'wipe-with',\n",
       "       'press', 'rotate', 'drink', 'crack', 'split', 'eat', 'get',\n",
       "       'pour-onto', 'press-down', 'distribute', 'move-around', 'flip',\n",
       "       'hang', 'wrap', 'wrap-around', 'wrap-with', 'fix', 'switch-on',\n",
       "       'put-in', 'dry-with', 'place', 'turn', 'hold', 'put-on', 'spread',\n",
       "       'clean', 'pour-from', 'hit', 'pour-in', 'mix-in', 'turn-in',\n",
       "       'move-to', 'insert-into', 'fill', 'set-off', 'hold-down',\n",
       "       'drain-on', 'transfer-from', 'grate-on', 'transfer', 'stir-in',\n",
       "       'soak', 'sponge', 'return', 'arrange', 'switch-off', 'throw-for',\n",
       "       'put-inside', 'throw-in', 'return-into', 'slide', 'put-back',\n",
       "       'rub', 'lock-into', 'step-on', 'test', 'clear', 'mix', 'pick-from',\n",
       "       'add-from', 'shape', 'put-of', 'stretch', 'cover', 'wear', 'tie',\n",
       "       'empty-from', 'step-off', 'tear', 'unlock', 'attach', 'press-onto',\n",
       "       'return-to', 'clean-from', 'leave-in', 'slice-through', 'leave',\n",
       "       'scrape-off', 'distribute-in', 'get-from', 'break', 'cover-with',\n",
       "       'brush', 'chop', 'slide-onto', 'oil', 'knead', 'place-on',\n",
       "       'place-in', 'taste', 'mix-with', 'spread-on', 'uncover',\n",
       "       'fill-with', 'cut-into', 'put-with', 'fill-into', 'check-in',\n",
       "       'lock', 'soften', 'rest-onto', 'unlock-from', 'blend', 'rest-on',\n",
       "       'tap-on', 'gather-in', 'unplug', 'plug', 'unroll', 'throw-on',\n",
       "       'place-inside', 'mark-on', 'unattach', 'sort', 'adjust-in',\n",
       "       'search', 'slide-from', 'hold-in', 'move-in', 'hang-on', 'hit-on',\n",
       "       'seal', 'crack-in', 'whisk', 'mix-so', 'stab', 'lift-from',\n",
       "       'crumple', 'catch', 'pile', 'scrub', 'fit-inside', 'leave-with',\n",
       "       'swallow', 'soak-in', 'lock-in', 'adjust-on', 'slide-into',\n",
       "       'slide-on', 'attach-to', 'cut-in', 'return-from', 'insert',\n",
       "       'put-to', 'slide-inside', 'unroll-from', 'tear-from', 'crumble',\n",
       "       'scoop-from', 'throw-inside', 'combine-into', 'press-into',\n",
       "       'form-into', 'roll', 'drink-from', 'turn-to', 'fall-on',\n",
       "       'wash-out', 'wipe-down', 'squeeze-out', 'rinse-out', 'pour-out',\n",
       "       'pull-out', 'twist', 'tie-in', 'spread-onto', 'get-out', 'cut-off',\n",
       "       'stack', 'unfurl', 'spin', 'start', 'drop', 'place-into',\n",
       "       'open-up', 'push-in', 'strain-from', 'spoon-into', 'tap-against',\n",
       "       'shake-off', 'fill-up', 'hang-up', 'lift-up', 'scrub-down',\n",
       "       'wipe-around', 'wet', 'wash-around', 'increase', 'peel-off',\n",
       "       'slice-onto', 'create', 'lift-off', 'turn-down', 'grate-into',\n",
       "       'place-onto', 'push-out', 'sweep', 'sweep-into', 'throw-onto',\n",
       "       'scoop-out', 'scrape-from', 'spoon-onto', 'rinse-off',\n",
       "       'sprinkle-onto', 'screw-on', 'wash-with', 'move-from', 'empty-out',\n",
       "       'snap-in', 'pull-up', 'tear-off', 'tip-into', 'flip-through',\n",
       "       'bend', 'break-apart', 'pump-onto', 'roll-on', 'move-on',\n",
       "       'zest-into', 'halve', 'juice', 'take-of', 'crack-into', 'turn-up',\n",
       "       'whisk-in', 'scrape-out', 'spread-out', 'zero', 'peel-back',\n",
       "       'rewrap', 'break-into', 'scrape-into', 'scrape-against',\n",
       "       'stir-into', 'empty-into', 'ladle', 'scrape-around', 'scrape-in',\n",
       "       'touch', 'stretch-around', 'stretch-onto', 'brush-off', 'look-for',\n",
       "       'smell', 'scoop-with', 'push', 'squeeze-into', 'pull',\n",
       "       'straighten', 'squirt', 'look-at', 'screw-in', 'push-down',\n",
       "       'screw-off', 'transfer-to', 'sniff', 'rummage-in', 'look-in',\n",
       "       'turn-over', 'open-on', 'tear-on', 'scrape-with', 'put-under',\n",
       "       'shake-into', 'scrape-on', 'feel', 'wipe-on', 'wash-under',\n",
       "       'pull-off', 'squeeze-around', 'rub-over', 'upturn', 'examine',\n",
       "       'press-on', 'poke', 'push-into', 'scoop-up', 'cut-with', 'lick',\n",
       "       'see-off', 'stretch-out', 'rub-in', 'roll-into', 'brush-onto',\n",
       "       'dab-in', 'fold-over', 'slide-off', 'mark', 'squeeze-in',\n",
       "       'flip-over', 'straighten-out', 'fold-in', 'crumple-up',\n",
       "       'brush-with', 'smooth-into', 'rub-into', 'slide-out', 'roll-out',\n",
       "       'dip', 'rub-on', 'drop-into', 'pat', 'lay-out', 'align',\n",
       "       'flatten-out', 'let', 'squidge-with', 'rub-onto', 'lay-down',\n",
       "       'inspect', 'waft', 'sprinkle-over', 'wipe-onto', 'lay-over',\n",
       "       'sprinkle-on', 'hold-out', 'measure-out', 'drop-in', 'pass-to',\n",
       "       'lay-on', 'rotate-around', 'check-on', 'scratch', 'hold-onto',\n",
       "       'lay-onto', 'slide-acros', 'look-behind', 'count', 'spread-over',\n",
       "       'switch-to', 'roll-around', 'tuck-under', 'look-under', 'plug-in',\n",
       "       'swirl-in', 'chuck-into', 'wipe-into', 'slice-in', 'toss',\n",
       "       'roll-down', 'rearrange', 'fasten', 'shake-out', 'julienne',\n",
       "       'tilt', 'fumble-for', 'tear-in', 'tear-into', 'break-up',\n",
       "       'drain-from', 'tip-out', 'set-on', 'wipe-up', 'push-off',\n",
       "       'slice-into', 'pierce', 'roll-over', 'steam', 'lift-out', 'tip',\n",
       "       'move-with', 'spread-into', 'select', 'move-off', 'wipe-over',\n",
       "       'dry-on', 'prod', 'peel-from', 'unclip', 'put-around',\n",
       "       'rifle-through', 'scrunch-up', 'put-over', 'roll-in', 'rub-off',\n",
       "       'pick-off', 'tip-to', 'sweep-off', 'sweep-from', 'separate-from',\n",
       "       'jiggle', 'unsheathe', 'score', 'sheathe', 'scratch-off', 'flick',\n",
       "       'fold-up', 'lock-on', 'sheath', 'unscrew-from', 'rinse-under',\n",
       "       'tap-with', 'tip-from', 'crack-on', 'retrieve', 'grind-into',\n",
       "       'look', 'look-inside', 'untilt', 'shake-onto', 'grate-onto',\n",
       "       'drop-on', 'turn-around', 'hold-along', 'look-through', 'read',\n",
       "       'pop-out', 'screw', 'put-away', 'throw-down', 'measure',\n",
       "       'flick-up', 'rinse-from', 'pick-out', 'unscrew', 'hold-over',\n",
       "       'screw-onto', 'hit-with', 'pull-through', 'drag-through',\n",
       "       'shake-over', 'squeeze-onto', 'crush-with', 'stack-in', 'rub-with',\n",
       "       'move-through', 'rest-against', 'drag-around', 'bash-against',\n",
       "       'move-along', 'pull-from', 'slice-with', 'tip-over', 'slide-along',\n",
       "       'hold-with', 'scour', 'shake-with', 'scoop-in', 'mop-up',\n",
       "       'peel-with', 'wipe-from', 'clean-up', 'drain-into', 'stir-with',\n",
       "       'pull-on', 'fold-into', 'squeeze-from', 'pop-into', 'sharpen',\n",
       "       'deburr', 'unwrap', 'roll-up', 'rubbish-in', 'scrape-onto',\n",
       "       'wash-up', 'unravel', 'wrap-in', 'sieve', 'get-off', 'grate',\n",
       "       'cover-in', 'rip', 'search-in', 'squash', 'uncork', 'add',\n",
       "       'add-to', 'pour-on', 'fry', 'take-in', 'take-to', 'trash',\n",
       "       'spray-on', 'scramble', 'place-down', 'turn-away', 'dry-off',\n",
       "       'hone', 'throw-away', 'swap', 'shut', 'push-onto', 'transition',\n",
       "       'spoon-out', 'spray-down', 'recycle', 'unload', 'move-within',\n",
       "       'pour-over', 'cut-on', 'sweep-up', 'pour-down', 'reattach',\n",
       "       'scrape-up', 'throw-from', 'put-from', 'release-from', 'break-off',\n",
       "       'scrape-down', 'clean-with', 'wipe-of', 'pierce-in', 'eat-from',\n",
       "       'tighten', 'extract', 'wring', 'assemble', 'disassemble',\n",
       "       'search-for', 'collect', 'twist-on', 'immerse', 'use', 'calibrate',\n",
       "       'coil', 'browse', 'weigh', 'apply', 'damp', 'pout', 'reconstruct',\n",
       "       'submerge', 'split-into', 'remove-inside', 'remove-into',\n",
       "       'marinate', 'stir-fry', 'transfer-into', 'apply-to', 'combine',\n",
       "       'collect-into', 'drizzle-on', 'scoop-into', 'chop-up',\n",
       "       'gather-with', 'gather-into', 'chop-off', 'distribute-onto',\n",
       "       'drizzle-into', 'crush-into', 'hoover', 'dose', 'ball-up',\n",
       "       'brush-into', 'shovel-up', 'wring-out', 'smash', 'discard',\n",
       "       'rinse-in', 'debone', 'shred', 'add-into', 'get-with'],\n",
       "      dtype=object)"
      ]
     },
     "execution_count": 5,
     "metadata": {},
     "output_type": "execute_result"
    }
   ],
   "source": [
    "unique_verbs = df['verb'].unique()\n",
    "unique_verbs"
   ]
  },
  {
   "cell_type": "markdown",
   "metadata": {},
   "source": [
    "## Discrepanza col dataset\n",
    "Dovrebbero esserci:\n",
    "* verbs: 97\n",
    "* nouns: 300"
   ]
  },
  {
   "cell_type": "code",
   "execution_count": 5,
   "metadata": {},
   "outputs": [
    {
     "data": {
      "text/plain": [
       "(89, 622)"
      ]
     },
     "execution_count": 5,
     "metadata": {},
     "output_type": "execute_result"
    }
   ],
   "source": [
    "len(df['verb_class'].unique()), len(df['verb'].unique())"
   ]
  },
  {
   "cell_type": "code",
   "execution_count": 6,
   "metadata": {},
   "outputs": [
    {
     "data": {
      "text/plain": [
       "(251, 1267)"
      ]
     },
     "execution_count": 6,
     "metadata": {},
     "output_type": "execute_result"
    }
   ],
   "source": [
    "len(df['noun_class'].unique()), len(df['noun'].unique())"
   ]
  },
  {
   "cell_type": "code",
   "execution_count": 10,
   "metadata": {},
   "outputs": [],
   "source": [
    "tmp_df = df\n",
    "tmp_df['start_timestamp'] = pd.to_datetime(df['start_timestamp'], format='%H:%M:%S.%f')\n",
    "tmp_df['stop_timestamp'] = pd.to_datetime(df['stop_timestamp'], format='%H:%M:%S.%f')\n",
    "\n",
    "diff_df = pd.DataFrame({\n",
    "    'diff': df['stop_timestamp'] - df['start_timestamp'],\n",
    "    'verb': df['verb'],\n",
    "    'verb_class': df['verb_class'],\n",
    "    'noun': df['noun'],\n",
    "    'noun_class': df['noun_class'],\n",
    "})"
   ]
  },
  {
   "cell_type": "code",
   "execution_count": 11,
   "metadata": {},
   "outputs": [
    {
     "data": {
      "text/html": [
       "<div>\n",
       "<style scoped>\n",
       "    .dataframe tbody tr th:only-of-type {\n",
       "        vertical-align: middle;\n",
       "    }\n",
       "\n",
       "    .dataframe tbody tr th {\n",
       "        vertical-align: top;\n",
       "    }\n",
       "\n",
       "    .dataframe thead th {\n",
       "        text-align: right;\n",
       "    }\n",
       "</style>\n",
       "<table border=\"1\" class=\"dataframe\">\n",
       "  <thead>\n",
       "    <tr style=\"text-align: right;\">\n",
       "      <th></th>\n",
       "      <th>diff</th>\n",
       "      <th>verb</th>\n",
       "      <th>verb_class</th>\n",
       "      <th>noun</th>\n",
       "      <th>noun_class</th>\n",
       "    </tr>\n",
       "  </thead>\n",
       "  <tbody>\n",
       "    <tr>\n",
       "      <th>0</th>\n",
       "      <td>0 days 00:00:01.690000</td>\n",
       "      <td>take</td>\n",
       "      <td>0</td>\n",
       "      <td>knife</td>\n",
       "      <td>4</td>\n",
       "    </tr>\n",
       "    <tr>\n",
       "      <th>1</th>\n",
       "      <td>0 days 00:00:01.560000</td>\n",
       "      <td>move</td>\n",
       "      <td>11</td>\n",
       "      <td>spatula</td>\n",
       "      <td>20</td>\n",
       "    </tr>\n",
       "    <tr>\n",
       "      <th>2</th>\n",
       "      <td>0 days 00:00:01.180000</td>\n",
       "      <td>take</td>\n",
       "      <td>0</td>\n",
       "      <td>knife</td>\n",
       "      <td>4</td>\n",
       "    </tr>\n",
       "    <tr>\n",
       "      <th>3</th>\n",
       "      <td>0 days 00:00:00.550000</td>\n",
       "      <td>wipe</td>\n",
       "      <td>2</td>\n",
       "      <td>surface</td>\n",
       "      <td>42</td>\n",
       "    </tr>\n",
       "    <tr>\n",
       "      <th>4</th>\n",
       "      <td>0 days 00:00:00.400000</td>\n",
       "      <td>move</td>\n",
       "      <td>11</td>\n",
       "      <td>glass</td>\n",
       "      <td>10</td>\n",
       "    </tr>\n",
       "    <tr>\n",
       "      <th>...</th>\n",
       "      <td>...</td>\n",
       "      <td>...</td>\n",
       "      <td>...</td>\n",
       "      <td>...</td>\n",
       "      <td>...</td>\n",
       "    </tr>\n",
       "    <tr>\n",
       "      <th>37450</th>\n",
       "      <td>0 days 00:00:00.500000</td>\n",
       "      <td>turn-off</td>\n",
       "      <td>8</td>\n",
       "      <td>tap</td>\n",
       "      <td>0</td>\n",
       "    </tr>\n",
       "    <tr>\n",
       "      <th>37451</th>\n",
       "      <td>0 days 00:00:05.910000</td>\n",
       "      <td>take</td>\n",
       "      <td>0</td>\n",
       "      <td>pan</td>\n",
       "      <td>5</td>\n",
       "    </tr>\n",
       "    <tr>\n",
       "      <th>37452</th>\n",
       "      <td>0 days 00:00:09.210000</td>\n",
       "      <td>pour-out</td>\n",
       "      <td>9</td>\n",
       "      <td>water:boiled</td>\n",
       "      <td>27</td>\n",
       "    </tr>\n",
       "    <tr>\n",
       "      <th>37453</th>\n",
       "      <td>0 days 00:00:03.620000</td>\n",
       "      <td>debone</td>\n",
       "      <td>30</td>\n",
       "      <td>thigh:chicken</td>\n",
       "      <td>57</td>\n",
       "    </tr>\n",
       "    <tr>\n",
       "      <th>37454</th>\n",
       "      <td>0 days 00:00:07.790000</td>\n",
       "      <td>debone</td>\n",
       "      <td>30</td>\n",
       "      <td>thigh:chicken</td>\n",
       "      <td>57</td>\n",
       "    </tr>\n",
       "  </tbody>\n",
       "</table>\n",
       "<p>37455 rows × 5 columns</p>\n",
       "</div>"
      ],
      "text/plain": [
       "                        diff      verb  verb_class           noun  noun_class\n",
       "0     0 days 00:00:01.690000      take           0          knife           4\n",
       "1     0 days 00:00:01.560000      move          11        spatula          20\n",
       "2     0 days 00:00:01.180000      take           0          knife           4\n",
       "3     0 days 00:00:00.550000      wipe           2        surface          42\n",
       "4     0 days 00:00:00.400000      move          11          glass          10\n",
       "...                      ...       ...         ...            ...         ...\n",
       "37450 0 days 00:00:00.500000  turn-off           8            tap           0\n",
       "37451 0 days 00:00:05.910000      take           0            pan           5\n",
       "37452 0 days 00:00:09.210000  pour-out           9   water:boiled          27\n",
       "37453 0 days 00:00:03.620000    debone          30  thigh:chicken          57\n",
       "37454 0 days 00:00:07.790000    debone          30  thigh:chicken          57\n",
       "\n",
       "[37455 rows x 5 columns]"
      ]
     },
     "execution_count": 11,
     "metadata": {},
     "output_type": "execute_result"
    }
   ],
   "source": [
    "diff_df"
   ]
  },
  {
   "cell_type": "code",
   "execution_count": 14,
   "metadata": {},
   "outputs": [
    {
     "data": {
      "text/plain": [
       "count                        37455\n",
       "mean     0 days 00:00:02.627286076\n",
       "std      0 days 00:00:05.191817418\n",
       "min         0 days 00:00:00.200000\n",
       "25%         0 days 00:00:00.850000\n",
       "50%         0 days 00:00:01.340000\n",
       "75%         0 days 00:00:02.540000\n",
       "max         0 days 00:04:57.150000\n",
       "Name: diff, dtype: object"
      ]
     },
     "execution_count": 14,
     "metadata": {},
     "output_type": "execute_result"
    }
   ],
   "source": [
    "diff_df['diff'].describe()"
   ]
  },
  {
   "cell_type": "code",
   "execution_count": 102,
   "metadata": {},
   "outputs": [
    {
     "data": {
      "image/png": "[encoded data removed]",
      "text/plain": [
       "<Figure size 640x480 with 1 Axes>"
      ]
     },
     "metadata": {},
     "output_type": "display_data"
    },
    {
     "data": {
      "text/plain": [
       "<Figure size 640x480 with 0 Axes>"
      ]
     },
     "metadata": {},
     "output_type": "display_data"
    }
   ],
   "source": [
    "from scipy.stats import norm\n",
    "import matplotlib.pyplot as plt\n",
    "\n",
    "# Calculate mean and standard deviation\n",
    "mean = diff_df['diff'].mean().total_seconds()\n",
    "std = diff_df['diff'].std().total_seconds()\n",
    "\n",
    "# Generate x values for the Gaussian curve\n",
    "x = np.linspace(mean - 3*std, mean + 3*std, 100)\n",
    "\n",
    "# Calculate y values using the Gaussian distribution\n",
    "y = norm.pdf(x, mean, std)\n",
    "\n",
    "# Plot the Gaussian curve\n",
    "plt.plot(x, y)\n",
    "plt.xlabel('Duration (seconds)')\n",
    "plt.ylabel('Probability Density')\n",
    "plt.title('Gaussian Distribution of Durations')\n",
    "plt.xlim(left=0)\n",
    "plt.show()\n",
    "plt.savefig(os.path.join(img_dir, 'duration_distribution_pdf.svg'))\n"
   ]
  },
  {
   "cell_type": "code",
   "execution_count": 22,
   "metadata": {},
   "outputs": [
    {
     "data": {
      "text/plain": [
       "count    37455.000000\n",
       "mean         2.627286\n",
       "std          5.191817\n",
       "min          0.200000\n",
       "25%          0.850000\n",
       "50%          1.340000\n",
       "75%          2.540000\n",
       "max        297.150000\n",
       "Name: diff, dtype: float64"
      ]
     },
     "execution_count": 22,
     "metadata": {},
     "output_type": "execute_result"
    }
   ],
   "source": [
    "diff_df['diff'].dt.total_seconds().describe()"
   ]
  },
  {
   "cell_type": "code",
   "execution_count": 101,
   "metadata": {},
   "outputs": [
    {
     "data": {
      "image/png": "[encoded data removed]",
      "text/plain": [
       "<Figure size 640x480 with 1 Axes>"
      ]
     },
     "metadata": {},
     "output_type": "display_data"
    },
    {
     "data": {
      "text/plain": [
       "<Figure size 640x480 with 0 Axes>"
      ]
     },
     "metadata": {},
     "output_type": "display_data"
    }
   ],
   "source": [
    "import matplotlib.pyplot as plt\n",
    "\n",
    "stats = np.ceil(diff_df['diff'].dt.total_seconds().to_numpy()).astype(int)\n",
    "limit = 20\n",
    "\n",
    "labels, counts = np.unique(stats, return_counts=True)\n",
    "x = np.arange(labels.max())\n",
    "# Plot the distribution of 'diff' column\n",
    "plt.bar(labels.astype(str), counts, data=counts, align='center')\n",
    "plt.xlabel('Duration (seconds)')\n",
    "plt.ylabel('Frequency')\n",
    "plt.title('Distribution of Durations')\n",
    "plt.margins(x=0.01, y=0.1)\n",
    "plt.xlim(0, 20)\n",
    "plt.show()\n",
    "plt.savefig(os.path.join(img_dir, 'duration_distribution_bar.svg'))"
   ]
  },
  {
   "cell_type": "markdown",
   "metadata": {},
   "source": [
    "# Label frequencies"
   ]
  },
  {
   "cell_type": "code",
   "execution_count": 5,
   "metadata": {},
   "outputs": [
    {
     "data": {
      "text/plain": [
       "<Axes: xlabel='verb_class'>"
      ]
     },
     "execution_count": 5,
     "metadata": {},
     "output_type": "execute_result"
    },
    {
     "data": {
      "image/png": "[encoded data removed]",
      "text/plain": [
       "<Figure size 640x480 with 1 Axes>"
      ]
     },
     "metadata": {},
     "output_type": "display_data"
    }
   ],
   "source": [
    "df['verb_class'].value_counts().head(20).plot(kind='bar')"
   ]
  },
  {
   "cell_type": "markdown",
   "metadata": {},
   "source": [
    "# IMU splits"
   ]
  },
  {
   "cell_type": "markdown",
   "metadata": {},
   "source": []
  },
  {
   "cell_type": "code",
   "execution_count": 1,
   "metadata": {},
   "outputs": [
    {
     "name": "stdout",
     "output_type": "stream",
     "text": [
      "/home/gatanasio/SSPT_IMU\n"
     ]
    },
    {
     "name": "stderr",
     "output_type": "stream",
     "text": [
      "/home/gatanasio/miniconda3/envs/audio-mae/lib/python3.11/site-packages/IPython/core/magics/osm.py:417: UserWarning: using dhist requires you to install the `pickleshare` library.\n",
      "  self.shell.db['dhist'] = compress_dhist(dhist)[-100:]\n"
     ]
    }
   ],
   "source": [
    "%cd .."
   ]
  },
  {
   "cell_type": "code",
   "execution_count": 3,
   "metadata": {},
   "outputs": [
    {
     "name": "stdout",
     "output_type": "stream",
     "text": [
      "/home/gatanasio/SSPT_IMU/src\n"
     ]
    },
    {
     "name": "stderr",
     "output_type": "stream",
     "text": [
      "/home/gatanasio/miniconda3/envs/audio-mae/lib/python3.11/site-packages/IPython/core/magics/osm.py:417: UserWarning: using dhist requires you to install the `pickleshare` library.\n",
      "  self.shell.db['dhist'] = compress_dhist(dhist)[-100:]\n"
     ]
    }
   ],
   "source": [
    "%cd src"
   ]
  },
  {
   "cell_type": "code",
   "execution_count": 6,
   "metadata": {},
   "outputs": [],
   "source": [
    "from data.epic_dataset import EpicDataset\n",
    "import os"
   ]
  },
  {
   "cell_type": "code",
   "execution_count": 18,
   "metadata": {},
   "outputs": [],
   "source": [
    "root_dir = os.path.join('/data', 'EPIC-KITCHENS')\n",
    "annotations_dir = os.path.join('..', 'data', 'annotations')\n",
    "train = True\n",
    "filename_train = 'EPIC_100_train_clean.pkl'"
   ]
  },
  {
   "cell_type": "code",
   "execution_count": 19,
   "metadata": {},
   "outputs": [
    {
     "name": "stdout",
     "output_type": "stream",
     "text": [
      "37279\n"
     ]
    }
   ],
   "source": [
    "dataset = EpicDataset(\n",
    "    src_dir=root_dir,\n",
    "    annotations=annotations_dir,\n",
    "    filename=filename_train,\n",
    ")\n",
    "\n",
    "annotations = dataset.annotations"
   ]
  },
  {
   "cell_type": "code",
   "execution_count": 20,
   "metadata": {},
   "outputs": [
    {
     "data": {
      "text/plain": [
       "(37279, 37455)"
      ]
     },
     "execution_count": 20,
     "metadata": {},
     "output_type": "execute_result"
    }
   ],
   "source": [
    "del dataset\n",
    "len(annotations), len(df)"
   ]
  },
  {
   "cell_type": "code",
   "execution_count": 21,
   "metadata": {},
   "outputs": [
    {
     "data": {
      "text/plain": [
       "participant_id\n",
       "P04    5585\n",
       "P02    4854\n",
       "P22    4670\n",
       "P35    2829\n",
       "P30    2828\n",
       "P01    2384\n",
       "P03    2301\n",
       "P27    1785\n",
       "P26    1648\n",
       "P28    1514\n",
       "P25    1443\n",
       "P06    1221\n",
       "P12    1001\n",
       "P23     981\n",
       "P07     821\n",
       "P11     625\n",
       "P37     601\n",
       "P09     188\n",
       "Name: count, dtype: int64"
      ]
     },
     "execution_count": 21,
     "metadata": {},
     "output_type": "execute_result"
    }
   ],
   "source": [
    "actions_count_per_pid = annotations['participant_id'].value_counts()\n",
    "actions_count_per_pid"
   ]
  },
  {
   "cell_type": "code",
   "execution_count": 22,
   "metadata": {},
   "outputs": [
    {
     "data": {
      "image/png": "[encoded data removed]",
      "text/plain": [
       "<Figure size 640x480 with 1 Axes>"
      ]
     },
     "metadata": {},
     "output_type": "display_data"
    }
   ],
   "source": [
    "actions_count_per_pid.plot(kind='bar', ylabel='# actions').get_figure().savefig(os.path.join(img_dir, 'num_actions_per_pid.svg'))"
   ]
  },
  {
   "cell_type": "code",
   "execution_count": 23,
   "metadata": {},
   "outputs": [
    {
     "data": {
      "text/plain": [
       "'total=37279, train=27961, val=3727, test=5591'"
      ]
     },
     "execution_count": 23,
     "metadata": {},
     "output_type": "execute_result"
    }
   ],
   "source": [
    "total = len(annotations)\n",
    "val = int(total * 0.1)\n",
    "test = int(total * 0.15)\n",
    "train = total - (val + test)\n",
    "f'{total=}, {train=}, {val=}, {test=}'"
   ]
  },
  {
   "cell_type": "code",
   "execution_count": 24,
   "metadata": {},
   "outputs": [
    {
     "data": {
      "text/plain": [
       "37279"
      ]
     },
     "execution_count": 24,
     "metadata": {},
     "output_type": "execute_result"
    }
   ],
   "source": [
    "train + val + test"
   ]
  },
  {
   "cell_type": "code",
   "execution_count": 25,
   "metadata": {},
   "outputs": [
    {
     "data": {
      "text/plain": [
       "({'sum': 27236,\n",
       "  'pid_arr': ['P04', 'P02', 'P22', 'P35', 'P30', 'P01', 'P03', 'P27']},\n",
       " {'sum': 3162, 'pid_arr': ['P26', 'P28']},\n",
       " {'sum': 5467, 'pid_arr': ['P25', 'P06', 'P12', 'P23', 'P07']},\n",
       " participant_id\n",
       " P11    625\n",
       " P37    601\n",
       " P09    188\n",
       " Name: count, dtype: int64)"
      ]
     },
     "execution_count": 25,
     "metadata": {},
     "output_type": "execute_result"
    }
   ],
   "source": [
    "from copy import deepcopy\n",
    "\n",
    "train_split = {\n",
    "    'sum': 0,\n",
    "    'pid_arr': []\n",
    "}\n",
    "val_split = deepcopy(train_split)\n",
    "test_split = deepcopy(train_split)\n",
    "\n",
    "def create_split(obj: dict, split_num: int):\n",
    "    for (pid, value) in actions_count_per_pid.items():\n",
    "        tmp_sum = obj['sum'] + value\n",
    "        if tmp_sum < split_num:\n",
    "            obj['sum'] = tmp_sum\n",
    "            obj['pid_arr'].append(pid)\n",
    "            actions_count_per_pid.drop(pid, inplace=True)\n",
    "        else:\n",
    "            break\n",
    "    return obj\n",
    "\n",
    "train_split = create_split(train_split, train)\n",
    "val_split = create_split(val_split, val)\n",
    "test_split = create_split(test_split, test)\n",
    "train_split, val_split, test_split, actions_count_per_pid"
   ]
  },
  {
   "cell_type": "code",
   "execution_count": 37,
   "metadata": {},
   "outputs": [
    {
     "data": {
      "text/plain": [
       "participant_id\n",
       "P11    625\n",
       "P37    601\n",
       "P09    188\n",
       "Name: count, dtype: int64"
      ]
     },
     "execution_count": 37,
     "metadata": {},
     "output_type": "execute_result"
    }
   ],
   "source": [
    "actions_count_per_pid"
   ]
  },
  {
   "cell_type": "code",
   "execution_count": 38,
   "metadata": {},
   "outputs": [],
   "source": [
    "train_split['sum'] = actions_count_per_pid['P11']\n",
    "train_split['pid_arr'].append('P11')\n",
    "\n",
    "val_split['sum'] = actions_count_per_pid['P09']\n",
    "val_split['pid_arr'].append('P09')\n",
    "\n",
    "test_split['sum'] = actions_count_per_pid['P37']\n",
    "test_split['pid_arr'].append('P37')"
   ]
  },
  {
   "cell_type": "code",
   "execution_count": 39,
   "metadata": {},
   "outputs": [],
   "source": [
    "train_df = annotations.loc[annotations['participant_id'].isin(train_split['pid_arr'])]\n",
    "val_df = annotations.loc[annotations['participant_id'].isin(val_split['pid_arr'])]\n",
    "test_df = annotations.loc[annotations['participant_id'].isin(test_split['pid_arr'])]"
   ]
  },
  {
   "cell_type": "code",
   "execution_count": 40,
   "metadata": {},
   "outputs": [],
   "source": [
    "train_df.to_pickle(os.path.join(annotations_dir, 'EPIC_100_train_clean_split.pkl'))\n",
    "val_df.to_pickle(os.path.join(annotations_dir, 'EPIC_100_validation_split.pkl'))\n",
    "test_df.to_pickle(os.path.join(annotations_dir, 'EPIC_100_test_split.pkl'))"
   ]
  }
 ],
 "metadata": {
  "kernelspec": {
   "display_name": "audio-mae",
   "language": "python",
   "name": "python3"
  },
  "language_info": {
   "codemirror_mode": {
    "name": "ipython",
    "version": 3
   },
   "file_extension": ".py",
   "mimetype": "text/x-python",
   "name": "python",
   "nbconvert_exporter": "python",
   "pygments_lexer": "ipython3",
   "version": "3.11.8"
  }
 },
 "nbformat": 4,
 "nbformat_minor": 2
}
