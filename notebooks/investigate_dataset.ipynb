{
 "cells": [
  {
   "cell_type": "code",
   "execution_count": 1,
   "metadata": {},
   "outputs": [
    {
     "name": "stdout",
     "output_type": "stream",
     "text": [
      "cuda:0\n"
     ]
    }
   ],
   "source": [
    "import os\n",
    "import pandas as pd\n",
    "import pickle as pkl\n",
    "\n",
    "import torch\n",
    "import torch.nn as nn\n",
    "import torchaudio.transforms as T\n",
    "import torchvision\n",
    "import torch.optim as optim\n",
    "import scipy as sp\n",
    "import pandas as pd\n",
    "from torch.utils.data import Dataset, DataLoader\n",
    "import numpy as np\n",
    "import datetime\n",
    "\n",
    "DEVICE = torch.device(\"cuda:0\" if torch.cuda.is_available() else \"cpu\")\n",
    "print(DEVICE)"
   ]
  },
  {
   "cell_type": "code",
   "execution_count": 2,
   "metadata": {},
   "outputs": [],
   "source": [
    "root_dir = os.path.join('/data', 'EPIC-KITCHENS')\n",
    "annotations_dir = os.path.join('..', 'data', 'annotations')\n",
    "train = True\n",
    "filename_tot = 'EPIC_100_train_clean.pkl'\n",
    "filename_train = 'EPIC_100_train_clean_split.pkl'\n",
    "filename_valid = 'EPIC_100_validation_split.pkl'\n",
    "filename_test = 'EPIC_100_test_split.pkl'\n",
    "\n",
    "img_dir = os.path.join('..','reports','img','dataset_analysis')"
   ]
  },
  {
   "cell_type": "code",
   "execution_count": 3,
   "metadata": {},
   "outputs": [],
   "source": [
    "def load_data(filename):\n",
    "    '''\n",
    "    Load the WAV file and its label.\n",
    "    Args :\n",
    "        • filename: str. The path of a WAV file.\n",
    "    Returns A tuple of two Pandas DataFrame objects:\n",
    "        • signals: A DataFrame with the following columns:\n",
    "            • seconds: The time in seconds.\n",
    "            • AcclX: The acceleration along the x-axis.\n",
    "            • AcclY: The acceleration along the y-axis.\n",
    "            • AcclZ: The acceleration along the z-axis.\n",
    "            • GyroX: The angular velocity along the x-axis.\n",
    "            • GyroY: The angular velocity along the y-axis.\n",
    "            • GyroZ: The angular velocity along the z-axis.\n",
    "        • sampling_rate: The sampling rate of the WAV file.\n",
    "    '''\n",
    "    df_accl = pd.read_csv(filename + '-accl.csv').dropna().reset_index(drop=True)\n",
    "    df_gyro = pd.read_csv(filename + '-gyro.csv').dropna().reset_index(drop=True)\n",
    "\n",
    "    return df_accl, df_gyro"
   ]
  },
  {
   "cell_type": "code",
   "execution_count": 4,
   "metadata": {},
   "outputs": [
    {
     "data": {
      "text/html": [
       "<div>\n",
       "<style scoped>\n",
       "    .dataframe tbody tr th:only-of-type {\n",
       "        vertical-align: middle;\n",
       "    }\n",
       "\n",
       "    .dataframe tbody tr th {\n",
       "        vertical-align: top;\n",
       "    }\n",
       "\n",
       "    .dataframe thead th {\n",
       "        text-align: right;\n",
       "    }\n",
       "</style>\n",
       "<table border=\"1\" class=\"dataframe\">\n",
       "  <thead>\n",
       "    <tr style=\"text-align: right;\">\n",
       "      <th></th>\n",
       "      <th>participant_id</th>\n",
       "      <th>video_id</th>\n",
       "      <th>narration_timestamp</th>\n",
       "      <th>start_timestamp</th>\n",
       "      <th>stop_timestamp</th>\n",
       "      <th>start_frame</th>\n",
       "      <th>stop_frame</th>\n",
       "      <th>narration</th>\n",
       "      <th>verb</th>\n",
       "      <th>verb_class</th>\n",
       "      <th>noun</th>\n",
       "      <th>noun_class</th>\n",
       "      <th>all_nouns</th>\n",
       "      <th>all_noun_classes</th>\n",
       "    </tr>\n",
       "  </thead>\n",
       "  <tbody>\n",
       "    <tr>\n",
       "      <th>0</th>\n",
       "      <td>P01</td>\n",
       "      <td>P01_102</td>\n",
       "      <td>00:00:07.600</td>\n",
       "      <td>7.49</td>\n",
       "      <td>9.05</td>\n",
       "      <td>374</td>\n",
       "      <td>452</td>\n",
       "      <td>move spatula and colander</td>\n",
       "      <td>move</td>\n",
       "      <td>11</td>\n",
       "      <td>spatula</td>\n",
       "      <td>20</td>\n",
       "      <td>[spatula, colander]</td>\n",
       "      <td>[20, 39]</td>\n",
       "    </tr>\n",
       "    <tr>\n",
       "      <th>1</th>\n",
       "      <td>P01</td>\n",
       "      <td>P01_102</td>\n",
       "      <td>00:00:29.851</td>\n",
       "      <td>29.66</td>\n",
       "      <td>30.84</td>\n",
       "      <td>1483</td>\n",
       "      <td>1542</td>\n",
       "      <td>take knife</td>\n",
       "      <td>take</td>\n",
       "      <td>0</td>\n",
       "      <td>knife</td>\n",
       "      <td>4</td>\n",
       "      <td>[knife]</td>\n",
       "      <td>[4]</td>\n",
       "    </tr>\n",
       "    <tr>\n",
       "      <th>2</th>\n",
       "      <td>P01</td>\n",
       "      <td>P01_102</td>\n",
       "      <td>00:03:44.600</td>\n",
       "      <td>224.45</td>\n",
       "      <td>225.00</td>\n",
       "      <td>11222</td>\n",
       "      <td>11250</td>\n",
       "      <td>wipe surface</td>\n",
       "      <td>wipe</td>\n",
       "      <td>2</td>\n",
       "      <td>surface</td>\n",
       "      <td>42</td>\n",
       "      <td>[surface]</td>\n",
       "      <td>[42]</td>\n",
       "    </tr>\n",
       "    <tr>\n",
       "      <th>3</th>\n",
       "      <td>P01</td>\n",
       "      <td>P01_102</td>\n",
       "      <td>00:03:45.600</td>\n",
       "      <td>225.61</td>\n",
       "      <td>226.01</td>\n",
       "      <td>11280</td>\n",
       "      <td>11300</td>\n",
       "      <td>move glass</td>\n",
       "      <td>move</td>\n",
       "      <td>11</td>\n",
       "      <td>glass</td>\n",
       "      <td>10</td>\n",
       "      <td>[glass]</td>\n",
       "      <td>[10]</td>\n",
       "    </tr>\n",
       "    <tr>\n",
       "      <th>4</th>\n",
       "      <td>P01</td>\n",
       "      <td>P01_102</td>\n",
       "      <td>00:03:46.851</td>\n",
       "      <td>226.06</td>\n",
       "      <td>226.56</td>\n",
       "      <td>11303</td>\n",
       "      <td>11328</td>\n",
       "      <td>wipe surface</td>\n",
       "      <td>wipe</td>\n",
       "      <td>2</td>\n",
       "      <td>surface</td>\n",
       "      <td>42</td>\n",
       "      <td>[surface]</td>\n",
       "      <td>[42]</td>\n",
       "    </tr>\n",
       "    <tr>\n",
       "      <th>...</th>\n",
       "      <td>...</td>\n",
       "      <td>...</td>\n",
       "      <td>...</td>\n",
       "      <td>...</td>\n",
       "      <td>...</td>\n",
       "      <td>...</td>\n",
       "      <td>...</td>\n",
       "      <td>...</td>\n",
       "      <td>...</td>\n",
       "      <td>...</td>\n",
       "      <td>...</td>\n",
       "      <td>...</td>\n",
       "      <td>...</td>\n",
       "      <td>...</td>\n",
       "    </tr>\n",
       "    <tr>\n",
       "      <th>27856</th>\n",
       "      <td>P35</td>\n",
       "      <td>P35_109</td>\n",
       "      <td>00:04:55.363</td>\n",
       "      <td>292.09</td>\n",
       "      <td>297.36</td>\n",
       "      <td>14604</td>\n",
       "      <td>14868</td>\n",
       "      <td>put down scissors</td>\n",
       "      <td>put-down</td>\n",
       "      <td>1</td>\n",
       "      <td>scissors</td>\n",
       "      <td>79</td>\n",
       "      <td>[scissors]</td>\n",
       "      <td>[79]</td>\n",
       "    </tr>\n",
       "    <tr>\n",
       "      <th>27857</th>\n",
       "      <td>P35</td>\n",
       "      <td>P35_109</td>\n",
       "      <td>00:05:00.120</td>\n",
       "      <td>296.85</td>\n",
       "      <td>300.98</td>\n",
       "      <td>14842</td>\n",
       "      <td>15049</td>\n",
       "      <td>pick up mug</td>\n",
       "      <td>pick-up</td>\n",
       "      <td>0</td>\n",
       "      <td>mug</td>\n",
       "      <td>13</td>\n",
       "      <td>[mug]</td>\n",
       "      <td>[13]</td>\n",
       "    </tr>\n",
       "    <tr>\n",
       "      <th>27858</th>\n",
       "      <td>P35</td>\n",
       "      <td>P35_109</td>\n",
       "      <td>00:05:01.617</td>\n",
       "      <td>301.08</td>\n",
       "      <td>302.20</td>\n",
       "      <td>15054</td>\n",
       "      <td>15110</td>\n",
       "      <td>put down mug</td>\n",
       "      <td>put-down</td>\n",
       "      <td>1</td>\n",
       "      <td>mug</td>\n",
       "      <td>13</td>\n",
       "      <td>[mug]</td>\n",
       "      <td>[13]</td>\n",
       "    </tr>\n",
       "    <tr>\n",
       "      <th>27859</th>\n",
       "      <td>P35</td>\n",
       "      <td>P35_109</td>\n",
       "      <td>00:05:02.363</td>\n",
       "      <td>302.82</td>\n",
       "      <td>303.71</td>\n",
       "      <td>15141</td>\n",
       "      <td>15185</td>\n",
       "      <td>pick up mug</td>\n",
       "      <td>pick-up</td>\n",
       "      <td>0</td>\n",
       "      <td>mug</td>\n",
       "      <td>13</td>\n",
       "      <td>[mug]</td>\n",
       "      <td>[13]</td>\n",
       "    </tr>\n",
       "    <tr>\n",
       "      <th>27860</th>\n",
       "      <td>P35</td>\n",
       "      <td>P35_109</td>\n",
       "      <td>00:05:04.363</td>\n",
       "      <td>304.19</td>\n",
       "      <td>305.03</td>\n",
       "      <td>15209</td>\n",
       "      <td>15251</td>\n",
       "      <td>put down mug</td>\n",
       "      <td>put-down</td>\n",
       "      <td>1</td>\n",
       "      <td>mug</td>\n",
       "      <td>13</td>\n",
       "      <td>[mug]</td>\n",
       "      <td>[13]</td>\n",
       "    </tr>\n",
       "  </tbody>\n",
       "</table>\n",
       "<p>27861 rows × 14 columns</p>\n",
       "</div>"
      ],
      "text/plain": [
       "      participant_id video_id narration_timestamp  start_timestamp  \\\n",
       "0                P01  P01_102        00:00:07.600             7.49   \n",
       "1                P01  P01_102        00:00:29.851            29.66   \n",
       "2                P01  P01_102        00:03:44.600           224.45   \n",
       "3                P01  P01_102        00:03:45.600           225.61   \n",
       "4                P01  P01_102        00:03:46.851           226.06   \n",
       "...              ...      ...                 ...              ...   \n",
       "27856            P35  P35_109        00:04:55.363           292.09   \n",
       "27857            P35  P35_109        00:05:00.120           296.85   \n",
       "27858            P35  P35_109        00:05:01.617           301.08   \n",
       "27859            P35  P35_109        00:05:02.363           302.82   \n",
       "27860            P35  P35_109        00:05:04.363           304.19   \n",
       "\n",
       "       stop_timestamp  start_frame  stop_frame                  narration  \\\n",
       "0                9.05          374         452  move spatula and colander   \n",
       "1               30.84         1483        1542                 take knife   \n",
       "2              225.00        11222       11250               wipe surface   \n",
       "3              226.01        11280       11300                 move glass   \n",
       "4              226.56        11303       11328               wipe surface   \n",
       "...               ...          ...         ...                        ...   \n",
       "27856          297.36        14604       14868          put down scissors   \n",
       "27857          300.98        14842       15049                pick up mug   \n",
       "27858          302.20        15054       15110               put down mug   \n",
       "27859          303.71        15141       15185                pick up mug   \n",
       "27860          305.03        15209       15251               put down mug   \n",
       "\n",
       "           verb  verb_class      noun  noun_class            all_nouns  \\\n",
       "0          move          11   spatula          20  [spatula, colander]   \n",
       "1          take           0     knife           4              [knife]   \n",
       "2          wipe           2   surface          42            [surface]   \n",
       "3          move          11     glass          10              [glass]   \n",
       "4          wipe           2   surface          42            [surface]   \n",
       "...         ...         ...       ...         ...                  ...   \n",
       "27856  put-down           1  scissors          79           [scissors]   \n",
       "27857   pick-up           0       mug          13                [mug]   \n",
       "27858  put-down           1       mug          13                [mug]   \n",
       "27859   pick-up           0       mug          13                [mug]   \n",
       "27860  put-down           1       mug          13                [mug]   \n",
       "\n",
       "      all_noun_classes  \n",
       "0             [20, 39]  \n",
       "1                  [4]  \n",
       "2                 [42]  \n",
       "3                 [10]  \n",
       "4                 [42]  \n",
       "...                ...  \n",
       "27856             [79]  \n",
       "27857             [13]  \n",
       "27858             [13]  \n",
       "27859             [13]  \n",
       "27860             [13]  \n",
       "\n",
       "[27861 rows x 14 columns]"
      ]
     },
     "execution_count": 4,
     "metadata": {},
     "output_type": "execute_result"
    }
   ],
   "source": [
    "df_train = pd.read_pickle(os.path.join(annotations_dir, filename_train))\n",
    "df_train = df_train.dropna().reset_index(drop=True)\n",
    "df_train"
   ]
  },
  {
   "cell_type": "code",
   "execution_count": 5,
   "metadata": {},
   "outputs": [
    {
     "data": {
      "text/html": [
       "<div>\n",
       "<style scoped>\n",
       "    .dataframe tbody tr th:only-of-type {\n",
       "        vertical-align: middle;\n",
       "    }\n",
       "\n",
       "    .dataframe tbody tr th {\n",
       "        vertical-align: top;\n",
       "    }\n",
       "\n",
       "    .dataframe thead th {\n",
       "        text-align: right;\n",
       "    }\n",
       "</style>\n",
       "<table border=\"1\" class=\"dataframe\">\n",
       "  <thead>\n",
       "    <tr style=\"text-align: right;\">\n",
       "      <th></th>\n",
       "      <th>participant_id</th>\n",
       "      <th>video_id</th>\n",
       "      <th>narration_timestamp</th>\n",
       "      <th>start_timestamp</th>\n",
       "      <th>stop_timestamp</th>\n",
       "      <th>start_frame</th>\n",
       "      <th>stop_frame</th>\n",
       "      <th>narration</th>\n",
       "      <th>verb</th>\n",
       "      <th>verb_class</th>\n",
       "      <th>noun</th>\n",
       "      <th>noun_class</th>\n",
       "      <th>all_nouns</th>\n",
       "      <th>all_noun_classes</th>\n",
       "    </tr>\n",
       "  </thead>\n",
       "  <tbody>\n",
       "    <tr>\n",
       "      <th>0</th>\n",
       "      <td>P09</td>\n",
       "      <td>P09_103</td>\n",
       "      <td>00:00:06.704</td>\n",
       "      <td>5.13</td>\n",
       "      <td>9.38</td>\n",
       "      <td>256</td>\n",
       "      <td>469</td>\n",
       "      <td>turn on stove</td>\n",
       "      <td>turn-on</td>\n",
       "      <td>6</td>\n",
       "      <td>stove</td>\n",
       "      <td>24</td>\n",
       "      <td>[stove]</td>\n",
       "      <td>[24]</td>\n",
       "    </tr>\n",
       "    <tr>\n",
       "      <th>1</th>\n",
       "      <td>P09</td>\n",
       "      <td>P09_103</td>\n",
       "      <td>00:00:09.980</td>\n",
       "      <td>9.47</td>\n",
       "      <td>10.38</td>\n",
       "      <td>473</td>\n",
       "      <td>519</td>\n",
       "      <td>take oil bottle</td>\n",
       "      <td>take</td>\n",
       "      <td>0</td>\n",
       "      <td>bottle:oil</td>\n",
       "      <td>15</td>\n",
       "      <td>[bottle:oil]</td>\n",
       "      <td>[15]</td>\n",
       "    </tr>\n",
       "    <tr>\n",
       "      <th>2</th>\n",
       "      <td>P09</td>\n",
       "      <td>P09_103</td>\n",
       "      <td>00:01:10.840</td>\n",
       "      <td>70.09</td>\n",
       "      <td>127.91</td>\n",
       "      <td>3504</td>\n",
       "      <td>6395</td>\n",
       "      <td>slice chicken</td>\n",
       "      <td>slice</td>\n",
       "      <td>7</td>\n",
       "      <td>chicken</td>\n",
       "      <td>57</td>\n",
       "      <td>[chicken]</td>\n",
       "      <td>[57]</td>\n",
       "    </tr>\n",
       "    <tr>\n",
       "      <th>3</th>\n",
       "      <td>P09</td>\n",
       "      <td>P09_103</td>\n",
       "      <td>00:02:21.660</td>\n",
       "      <td>139.00</td>\n",
       "      <td>146.32</td>\n",
       "      <td>6950</td>\n",
       "      <td>7316</td>\n",
       "      <td>add chicken breast to pan</td>\n",
       "      <td>add</td>\n",
       "      <td>46</td>\n",
       "      <td>breast:chicken</td>\n",
       "      <td>57</td>\n",
       "      <td>[breast:chicken]</td>\n",
       "      <td>[57]</td>\n",
       "    </tr>\n",
       "    <tr>\n",
       "      <th>4</th>\n",
       "      <td>P09</td>\n",
       "      <td>P09_103</td>\n",
       "      <td>00:02:31.140</td>\n",
       "      <td>149.58</td>\n",
       "      <td>155.15</td>\n",
       "      <td>7478</td>\n",
       "      <td>7757</td>\n",
       "      <td>clean hands</td>\n",
       "      <td>clean</td>\n",
       "      <td>2</td>\n",
       "      <td>hand</td>\n",
       "      <td>11</td>\n",
       "      <td>[hand]</td>\n",
       "      <td>[11]</td>\n",
       "    </tr>\n",
       "    <tr>\n",
       "      <th>...</th>\n",
       "      <td>...</td>\n",
       "      <td>...</td>\n",
       "      <td>...</td>\n",
       "      <td>...</td>\n",
       "      <td>...</td>\n",
       "      <td>...</td>\n",
       "      <td>...</td>\n",
       "      <td>...</td>\n",
       "      <td>...</td>\n",
       "      <td>...</td>\n",
       "      <td>...</td>\n",
       "      <td>...</td>\n",
       "      <td>...</td>\n",
       "      <td>...</td>\n",
       "    </tr>\n",
       "    <tr>\n",
       "      <th>3345</th>\n",
       "      <td>P28</td>\n",
       "      <td>P28_113</td>\n",
       "      <td>00:04:37.408</td>\n",
       "      <td>275.17</td>\n",
       "      <td>280.95</td>\n",
       "      <td>13758</td>\n",
       "      <td>14047</td>\n",
       "      <td>take rubbish bag</td>\n",
       "      <td>take</td>\n",
       "      <td>0</td>\n",
       "      <td>bag:rubbish</td>\n",
       "      <td>19</td>\n",
       "      <td>[bag:rubbish]</td>\n",
       "      <td>[19]</td>\n",
       "    </tr>\n",
       "    <tr>\n",
       "      <th>3346</th>\n",
       "      <td>P28</td>\n",
       "      <td>P28_113</td>\n",
       "      <td>00:04:42.151</td>\n",
       "      <td>281.64</td>\n",
       "      <td>282.53</td>\n",
       "      <td>14082</td>\n",
       "      <td>14126</td>\n",
       "      <td>close drawer</td>\n",
       "      <td>close</td>\n",
       "      <td>4</td>\n",
       "      <td>drawer</td>\n",
       "      <td>8</td>\n",
       "      <td>[drawer]</td>\n",
       "      <td>[8]</td>\n",
       "    </tr>\n",
       "    <tr>\n",
       "      <th>3347</th>\n",
       "      <td>P28</td>\n",
       "      <td>P28_113</td>\n",
       "      <td>00:04:48.408</td>\n",
       "      <td>288.32</td>\n",
       "      <td>294.43</td>\n",
       "      <td>14416</td>\n",
       "      <td>14721</td>\n",
       "      <td>place rubbish bag in bin</td>\n",
       "      <td>place</td>\n",
       "      <td>1</td>\n",
       "      <td>bag:rubbish</td>\n",
       "      <td>19</td>\n",
       "      <td>[bag:rubbish, bin]</td>\n",
       "      <td>[19, 36]</td>\n",
       "    </tr>\n",
       "    <tr>\n",
       "      <th>3348</th>\n",
       "      <td>P28</td>\n",
       "      <td>P28_113</td>\n",
       "      <td>00:04:54.906</td>\n",
       "      <td>294.92</td>\n",
       "      <td>295.60</td>\n",
       "      <td>14746</td>\n",
       "      <td>14780</td>\n",
       "      <td>close bin lid</td>\n",
       "      <td>close</td>\n",
       "      <td>4</td>\n",
       "      <td>lid:bin</td>\n",
       "      <td>6</td>\n",
       "      <td>[lid:bin]</td>\n",
       "      <td>[6]</td>\n",
       "    </tr>\n",
       "    <tr>\n",
       "      <th>3349</th>\n",
       "      <td>P28</td>\n",
       "      <td>P28_113</td>\n",
       "      <td>00:05:01.153</td>\n",
       "      <td>295.64</td>\n",
       "      <td>310.60</td>\n",
       "      <td>14782</td>\n",
       "      <td>15530</td>\n",
       "      <td>take out sticker from bell pepper</td>\n",
       "      <td>take-out</td>\n",
       "      <td>12</td>\n",
       "      <td>sticker</td>\n",
       "      <td>222</td>\n",
       "      <td>[sticker, pepper:bell]</td>\n",
       "      <td>[222, 37]</td>\n",
       "    </tr>\n",
       "  </tbody>\n",
       "</table>\n",
       "<p>3350 rows × 14 columns</p>\n",
       "</div>"
      ],
      "text/plain": [
       "     participant_id video_id narration_timestamp  start_timestamp  \\\n",
       "0               P09  P09_103        00:00:06.704             5.13   \n",
       "1               P09  P09_103        00:00:09.980             9.47   \n",
       "2               P09  P09_103        00:01:10.840            70.09   \n",
       "3               P09  P09_103        00:02:21.660           139.00   \n",
       "4               P09  P09_103        00:02:31.140           149.58   \n",
       "...             ...      ...                 ...              ...   \n",
       "3345            P28  P28_113        00:04:37.408           275.17   \n",
       "3346            P28  P28_113        00:04:42.151           281.64   \n",
       "3347            P28  P28_113        00:04:48.408           288.32   \n",
       "3348            P28  P28_113        00:04:54.906           294.92   \n",
       "3349            P28  P28_113        00:05:01.153           295.64   \n",
       "\n",
       "      stop_timestamp  start_frame  stop_frame  \\\n",
       "0               9.38          256         469   \n",
       "1              10.38          473         519   \n",
       "2             127.91         3504        6395   \n",
       "3             146.32         6950        7316   \n",
       "4             155.15         7478        7757   \n",
       "...              ...          ...         ...   \n",
       "3345          280.95        13758       14047   \n",
       "3346          282.53        14082       14126   \n",
       "3347          294.43        14416       14721   \n",
       "3348          295.60        14746       14780   \n",
       "3349          310.60        14782       15530   \n",
       "\n",
       "                              narration      verb  verb_class            noun  \\\n",
       "0                         turn on stove   turn-on           6           stove   \n",
       "1                       take oil bottle      take           0      bottle:oil   \n",
       "2                         slice chicken     slice           7         chicken   \n",
       "3             add chicken breast to pan       add          46  breast:chicken   \n",
       "4                           clean hands     clean           2            hand   \n",
       "...                                 ...       ...         ...             ...   \n",
       "3345                   take rubbish bag      take           0     bag:rubbish   \n",
       "3346                       close drawer     close           4          drawer   \n",
       "3347           place rubbish bag in bin     place           1     bag:rubbish   \n",
       "3348                      close bin lid     close           4         lid:bin   \n",
       "3349  take out sticker from bell pepper  take-out          12         sticker   \n",
       "\n",
       "      noun_class               all_nouns all_noun_classes  \n",
       "0             24                 [stove]             [24]  \n",
       "1             15            [bottle:oil]             [15]  \n",
       "2             57               [chicken]             [57]  \n",
       "3             57        [breast:chicken]             [57]  \n",
       "4             11                  [hand]             [11]  \n",
       "...          ...                     ...              ...  \n",
       "3345          19           [bag:rubbish]             [19]  \n",
       "3346           8                [drawer]              [8]  \n",
       "3347          19      [bag:rubbish, bin]         [19, 36]  \n",
       "3348           6               [lid:bin]              [6]  \n",
       "3349         222  [sticker, pepper:bell]        [222, 37]  \n",
       "\n",
       "[3350 rows x 14 columns]"
      ]
     },
     "execution_count": 5,
     "metadata": {},
     "output_type": "execute_result"
    }
   ],
   "source": [
    "df_valid = pd.read_pickle(os.path.join(annotations_dir, filename_valid))\n",
    "df_valid = df_valid.dropna()\n",
    "df_valid = df_valid.reset_index(drop=True)\n",
    "df_valid"
   ]
  },
  {
   "cell_type": "code",
   "execution_count": 6,
   "metadata": {},
   "outputs": [
    {
     "data": {
      "text/html": [
       "<div>\n",
       "<style scoped>\n",
       "    .dataframe tbody tr th:only-of-type {\n",
       "        vertical-align: middle;\n",
       "    }\n",
       "\n",
       "    .dataframe tbody tr th {\n",
       "        vertical-align: top;\n",
       "    }\n",
       "\n",
       "    .dataframe thead th {\n",
       "        text-align: right;\n",
       "    }\n",
       "</style>\n",
       "<table border=\"1\" class=\"dataframe\">\n",
       "  <thead>\n",
       "    <tr style=\"text-align: right;\">\n",
       "      <th></th>\n",
       "      <th>participant_id</th>\n",
       "      <th>video_id</th>\n",
       "      <th>narration_timestamp</th>\n",
       "      <th>start_timestamp</th>\n",
       "      <th>stop_timestamp</th>\n",
       "      <th>start_frame</th>\n",
       "      <th>stop_frame</th>\n",
       "      <th>narration</th>\n",
       "      <th>verb</th>\n",
       "      <th>verb_class</th>\n",
       "      <th>noun</th>\n",
       "      <th>noun_class</th>\n",
       "      <th>all_nouns</th>\n",
       "      <th>all_noun_classes</th>\n",
       "    </tr>\n",
       "  </thead>\n",
       "  <tbody>\n",
       "    <tr>\n",
       "      <th>0</th>\n",
       "      <td>P06</td>\n",
       "      <td>P06_101</td>\n",
       "      <td>00:00:02.903</td>\n",
       "      <td>2.20</td>\n",
       "      <td>3.95</td>\n",
       "      <td>110</td>\n",
       "      <td>197</td>\n",
       "      <td>open fridge</td>\n",
       "      <td>open</td>\n",
       "      <td>3</td>\n",
       "      <td>fridge</td>\n",
       "      <td>12</td>\n",
       "      <td>[fridge]</td>\n",
       "      <td>[12]</td>\n",
       "    </tr>\n",
       "    <tr>\n",
       "      <th>1</th>\n",
       "      <td>P06</td>\n",
       "      <td>P06_101</td>\n",
       "      <td>00:00:04.654</td>\n",
       "      <td>3.97</td>\n",
       "      <td>5.70</td>\n",
       "      <td>198</td>\n",
       "      <td>285</td>\n",
       "      <td>pull drawer</td>\n",
       "      <td>pull</td>\n",
       "      <td>31</td>\n",
       "      <td>drawer</td>\n",
       "      <td>8</td>\n",
       "      <td>[drawer]</td>\n",
       "      <td>[8]</td>\n",
       "    </tr>\n",
       "    <tr>\n",
       "      <th>2</th>\n",
       "      <td>P06</td>\n",
       "      <td>P06_101</td>\n",
       "      <td>00:00:25.655</td>\n",
       "      <td>25.06</td>\n",
       "      <td>26.02</td>\n",
       "      <td>1253</td>\n",
       "      <td>1301</td>\n",
       "      <td>pick up sweet potato</td>\n",
       "      <td>pick-up</td>\n",
       "      <td>0</td>\n",
       "      <td>potato:sweet</td>\n",
       "      <td>30</td>\n",
       "      <td>[potato:sweet]</td>\n",
       "      <td>[30]</td>\n",
       "    </tr>\n",
       "    <tr>\n",
       "      <th>3</th>\n",
       "      <td>P06</td>\n",
       "      <td>P06_101</td>\n",
       "      <td>00:06:01.405</td>\n",
       "      <td>361.78</td>\n",
       "      <td>366.59</td>\n",
       "      <td>18089</td>\n",
       "      <td>18329</td>\n",
       "      <td>chop garlic</td>\n",
       "      <td>chop</td>\n",
       "      <td>7</td>\n",
       "      <td>garlic</td>\n",
       "      <td>51</td>\n",
       "      <td>[garlic]</td>\n",
       "      <td>[51]</td>\n",
       "    </tr>\n",
       "    <tr>\n",
       "      <th>4</th>\n",
       "      <td>P06</td>\n",
       "      <td>P06_101</td>\n",
       "      <td>00:06:07.904</td>\n",
       "      <td>367.62</td>\n",
       "      <td>372.31</td>\n",
       "      <td>18381</td>\n",
       "      <td>18615</td>\n",
       "      <td>chop garlic</td>\n",
       "      <td>chop</td>\n",
       "      <td>7</td>\n",
       "      <td>garlic</td>\n",
       "      <td>51</td>\n",
       "      <td>[garlic]</td>\n",
       "      <td>[51]</td>\n",
       "    </tr>\n",
       "    <tr>\n",
       "      <th>...</th>\n",
       "      <td>...</td>\n",
       "      <td>...</td>\n",
       "      <td>...</td>\n",
       "      <td>...</td>\n",
       "      <td>...</td>\n",
       "      <td>...</td>\n",
       "      <td>...</td>\n",
       "      <td>...</td>\n",
       "      <td>...</td>\n",
       "      <td>...</td>\n",
       "      <td>...</td>\n",
       "      <td>...</td>\n",
       "      <td>...</td>\n",
       "      <td>...</td>\n",
       "    </tr>\n",
       "    <tr>\n",
       "      <th>6063</th>\n",
       "      <td>P37</td>\n",
       "      <td>P37_103</td>\n",
       "      <td>00:06:16.404</td>\n",
       "      <td>376.42</td>\n",
       "      <td>377.29</td>\n",
       "      <td>18821</td>\n",
       "      <td>18864</td>\n",
       "      <td>wash hands</td>\n",
       "      <td>wash</td>\n",
       "      <td>2</td>\n",
       "      <td>hand</td>\n",
       "      <td>11</td>\n",
       "      <td>[hand]</td>\n",
       "      <td>[11]</td>\n",
       "    </tr>\n",
       "    <tr>\n",
       "      <th>6064</th>\n",
       "      <td>P37</td>\n",
       "      <td>P37_103</td>\n",
       "      <td>00:06:16.903</td>\n",
       "      <td>377.17</td>\n",
       "      <td>377.67</td>\n",
       "      <td>18858</td>\n",
       "      <td>18883</td>\n",
       "      <td>turn off tap</td>\n",
       "      <td>turn-off</td>\n",
       "      <td>8</td>\n",
       "      <td>tap</td>\n",
       "      <td>0</td>\n",
       "      <td>[tap]</td>\n",
       "      <td>[0]</td>\n",
       "    </tr>\n",
       "    <tr>\n",
       "      <th>6065</th>\n",
       "      <td>P37</td>\n",
       "      <td>P37_103</td>\n",
       "      <td>00:06:22.154</td>\n",
       "      <td>377.86</td>\n",
       "      <td>383.77</td>\n",
       "      <td>18893</td>\n",
       "      <td>19188</td>\n",
       "      <td>take pan</td>\n",
       "      <td>take</td>\n",
       "      <td>0</td>\n",
       "      <td>pan</td>\n",
       "      <td>5</td>\n",
       "      <td>[pan]</td>\n",
       "      <td>[5]</td>\n",
       "    </tr>\n",
       "    <tr>\n",
       "      <th>6066</th>\n",
       "      <td>P37</td>\n",
       "      <td>P37_103</td>\n",
       "      <td>00:00:41.151</td>\n",
       "      <td>40.57</td>\n",
       "      <td>44.19</td>\n",
       "      <td>2028</td>\n",
       "      <td>2209</td>\n",
       "      <td>debone chicken thighs</td>\n",
       "      <td>debone</td>\n",
       "      <td>30</td>\n",
       "      <td>thigh:chicken</td>\n",
       "      <td>57</td>\n",
       "      <td>[thigh:chicken]</td>\n",
       "      <td>[57]</td>\n",
       "    </tr>\n",
       "    <tr>\n",
       "      <th>6067</th>\n",
       "      <td>P37</td>\n",
       "      <td>P37_103</td>\n",
       "      <td>00:00:44.907</td>\n",
       "      <td>46.85</td>\n",
       "      <td>54.64</td>\n",
       "      <td>2342</td>\n",
       "      <td>2732</td>\n",
       "      <td>debone chicken thighs</td>\n",
       "      <td>debone</td>\n",
       "      <td>30</td>\n",
       "      <td>thigh:chicken</td>\n",
       "      <td>57</td>\n",
       "      <td>[thigh:chicken]</td>\n",
       "      <td>[57]</td>\n",
       "    </tr>\n",
       "  </tbody>\n",
       "</table>\n",
       "<p>6068 rows × 14 columns</p>\n",
       "</div>"
      ],
      "text/plain": [
       "     participant_id video_id narration_timestamp  start_timestamp  \\\n",
       "0               P06  P06_101        00:00:02.903             2.20   \n",
       "1               P06  P06_101        00:00:04.654             3.97   \n",
       "2               P06  P06_101        00:00:25.655            25.06   \n",
       "3               P06  P06_101        00:06:01.405           361.78   \n",
       "4               P06  P06_101        00:06:07.904           367.62   \n",
       "...             ...      ...                 ...              ...   \n",
       "6063            P37  P37_103        00:06:16.404           376.42   \n",
       "6064            P37  P37_103        00:06:16.903           377.17   \n",
       "6065            P37  P37_103        00:06:22.154           377.86   \n",
       "6066            P37  P37_103        00:00:41.151            40.57   \n",
       "6067            P37  P37_103        00:00:44.907            46.85   \n",
       "\n",
       "      stop_timestamp  start_frame  stop_frame              narration  \\\n",
       "0               3.95          110         197            open fridge   \n",
       "1               5.70          198         285            pull drawer   \n",
       "2              26.02         1253        1301   pick up sweet potato   \n",
       "3             366.59        18089       18329            chop garlic   \n",
       "4             372.31        18381       18615            chop garlic   \n",
       "...              ...          ...         ...                    ...   \n",
       "6063          377.29        18821       18864             wash hands   \n",
       "6064          377.67        18858       18883           turn off tap   \n",
       "6065          383.77        18893       19188               take pan   \n",
       "6066           44.19         2028        2209  debone chicken thighs   \n",
       "6067           54.64         2342        2732  debone chicken thighs   \n",
       "\n",
       "          verb  verb_class           noun  noun_class        all_nouns  \\\n",
       "0         open           3         fridge          12         [fridge]   \n",
       "1         pull          31         drawer           8         [drawer]   \n",
       "2      pick-up           0   potato:sweet          30   [potato:sweet]   \n",
       "3         chop           7         garlic          51         [garlic]   \n",
       "4         chop           7         garlic          51         [garlic]   \n",
       "...        ...         ...            ...         ...              ...   \n",
       "6063      wash           2           hand          11           [hand]   \n",
       "6064  turn-off           8            tap           0            [tap]   \n",
       "6065      take           0            pan           5            [pan]   \n",
       "6066    debone          30  thigh:chicken          57  [thigh:chicken]   \n",
       "6067    debone          30  thigh:chicken          57  [thigh:chicken]   \n",
       "\n",
       "     all_noun_classes  \n",
       "0                [12]  \n",
       "1                 [8]  \n",
       "2                [30]  \n",
       "3                [51]  \n",
       "4                [51]  \n",
       "...               ...  \n",
       "6063             [11]  \n",
       "6064              [0]  \n",
       "6065              [5]  \n",
       "6066             [57]  \n",
       "6067             [57]  \n",
       "\n",
       "[6068 rows x 14 columns]"
      ]
     },
     "execution_count": 6,
     "metadata": {},
     "output_type": "execute_result"
    }
   ],
   "source": [
    "df_test = pd.read_pickle(os.path.join(annotations_dir, filename_test))\n",
    "df_test = df_test.dropna()\n",
    "df_test = df_test.reset_index(drop=True)\n",
    "df_test"
   ]
  },
  {
   "cell_type": "code",
   "execution_count": null,
   "metadata": {},
   "outputs": [],
   "source": [
    "len(df_valid['verb_class'].sort_values().unique()), len(df_test['verb_class'].sort_values().unique())"
   ]
  },
  {
   "cell_type": "code",
   "execution_count": null,
   "metadata": {},
   "outputs": [],
   "source": [
    "df = pd.concat([df_valid, df_test], ignore_index=True)"
   ]
  },
  {
   "cell_type": "code",
   "execution_count": null,
   "metadata": {},
   "outputs": [],
   "source": [
    "len(df['verb_class'].sort_values().unique())"
   ]
  },
  {
   "cell_type": "code",
   "execution_count": null,
   "metadata": {},
   "outputs": [],
   "source": [
    "len(df_train['verb_class'].sort_values().unique())"
   ]
  },
  {
   "cell_type": "code",
   "execution_count": null,
   "metadata": {},
   "outputs": [],
   "source": [
    "df = pd.read_pickle(os.path.join(annotations_dir, filename_tot))\n",
    "df = df.dropna().reset_index(drop=True)\n",
    "df"
   ]
  },
  {
   "cell_type": "code",
   "execution_count": null,
   "metadata": {},
   "outputs": [],
   "source": [
    "df['verb_class'].sort_values().unique()"
   ]
  },
  {
   "cell_type": "code",
   "execution_count": null,
   "metadata": {},
   "outputs": [],
   "source": [
    "cls = {}\n",
    "[cls.update({c: i}) for i, c in enumerate(df['verb_class'].sort_values().unique())]\n",
    "pkl.dump(cls, open(os.path.join(annotations_dir, 'cls.pkl'), 'wb'))"
   ]
  },
  {
   "cell_type": "code",
   "execution_count": null,
   "metadata": {},
   "outputs": [],
   "source": [
    "len(cls)"
   ]
  },
  {
   "cell_type": "code",
   "execution_count": null,
   "metadata": {},
   "outputs": [],
   "source": [
    "df_valid = pd.read_pickle(os.path.join(annotations_dir, filename_valid))\n",
    "df_valid = df_valid.dropna()\n",
    "df_valid = df_valid.reset_index(drop=True)\n",
    "df_valid"
   ]
  },
  {
   "cell_type": "markdown",
   "metadata": {},
   "source": [
    "# IMU data size"
   ]
  },
  {
   "cell_type": "code",
   "execution_count": null,
   "metadata": {},
   "outputs": [],
   "source": [
    "sz = 0\n",
    "for video_id in df['video_id'].unique():\n",
    "    participant_id = video_id.split('_')[0]\n",
    "    clip_path = os.path.join(root_dir, participant_id, 'meta_data', video_id)\n",
    "    sz += os.path.getsize(clip_path + '-accl.csv') + os.path.getsize(clip_path + '-gyro.csv')\n",
    "\n",
    "last = 'bytes'\n",
    "for x in ['bytes', 'KB', 'MB', 'GB', 'TB']:\n",
    "    if sz < 1024.0:\n",
    "        last = x\n",
    "        break\n",
    "    sz /= 1024.0\n",
    "print(\"Data Size: \", sz, last)"
   ]
  },
  {
   "cell_type": "code",
   "execution_count": null,
   "metadata": {},
   "outputs": [],
   "source": [
    "accl_data = pd.DataFrame(columns=['video_id', 'Milliseconds', 'AcclX', 'AcclY', 'AcclZ'])\n",
    "gyro_data = pd.DataFrame(columns=['video_id', 'Milliseconds', 'GyroX', 'GyroY', 'GyroZ'])"
   ]
  },
  {
   "cell_type": "code",
   "execution_count": null,
   "metadata": {},
   "outputs": [],
   "source": [
    "df[['verb', 'verb_class']].where(df['verb_class'] == 1).dropna()"
   ]
  },
  {
   "cell_type": "markdown",
   "metadata": {},
   "source": [
    "# 1. Actions Duration"
   ]
  },
  {
   "cell_type": "code",
   "execution_count": 22,
   "metadata": {},
   "outputs": [
    {
     "data": {
      "text/plain": [
       "<Axes: title={'center': 'Duration of the training set videos'}, ylabel='Frequency'>"
      ]
     },
     "execution_count": 22,
     "metadata": {},
     "output_type": "execute_result"
    },
    {
     "data": {
      "image/png": "[encoded data removed]",
      "text/plain": [
       "<Figure size 640x480 with 1 Axes>"
      ]
     },
     "metadata": {},
     "output_type": "display_data"
    }
   ],
   "source": [
    "df_duration = pd.DataFrame({'duration': df_train['stop_timestamp'] - df_train['start_timestamp']})\n",
    "df_duration.sort_values(by='duration', ascending=False).plot(y='duration', kind='hist', bins=100, title='Duration of the training set videos')"
   ]
  },
  {
   "cell_type": "markdown",
   "metadata": {},
   "source": [
    "## Discrepanza col dataset\n",
    "Dovrebbero esserci:\n",
    "* verbs: 97\n",
    "* nouns: 300"
   ]
  },
  {
   "cell_type": "code",
   "execution_count": null,
   "metadata": {},
   "outputs": [],
   "source": [
    "len(df['verb_class'].unique()), len(df['verb'].unique())"
   ]
  },
  {
   "cell_type": "code",
   "execution_count": null,
   "metadata": {},
   "outputs": [],
   "source": [
    "len(df['noun_class'].unique()), len(df['noun'].unique())"
   ]
  },
  {
   "cell_type": "code",
   "execution_count": null,
   "metadata": {},
   "outputs": [],
   "source": [
    "tmp_df = df\n",
    "tmp_df['start_timestamp'] = pd.to_datetime(df['start_timestamp'], format='%H:%M:%S.%f')\n",
    "tmp_df['stop_timestamp'] = pd.to_datetime(df['stop_timestamp'], format='%H:%M:%S.%f')\n",
    "\n",
    "diff_df = pd.DataFrame({\n",
    "    'diff': df['stop_timestamp'] - df['start_timestamp'],\n",
    "    'verb': df['verb'],\n",
    "    'verb_class': df['verb_class'],\n",
    "    'noun': df['noun'],\n",
    "    'noun_class': df['noun_class'],\n",
    "})"
   ]
  },
  {
   "cell_type": "code",
   "execution_count": null,
   "metadata": {},
   "outputs": [],
   "source": [
    "diff_df"
   ]
  },
  {
   "cell_type": "code",
   "execution_count": null,
   "metadata": {},
   "outputs": [],
   "source": [
    "diff_df['diff'].describe()"
   ]
  },
  {
   "cell_type": "code",
   "execution_count": null,
   "metadata": {},
   "outputs": [],
   "source": [
    "from scipy.stats import norm\n",
    "import matplotlib.pyplot as plt\n",
    "\n",
    "# Calculate mean and standard deviation\n",
    "mean = diff_df['diff'].mean().total_seconds()\n",
    "std = diff_df['diff'].std().total_seconds()\n",
    "\n",
    "# Generate x values for the Gaussian curve\n",
    "x = np.linspace(mean - 3*std, mean + 3*std, 100)\n",
    "\n",
    "# Calculate y values using the Gaussian distribution\n",
    "y = norm.pdf(x, mean, std)\n",
    "\n",
    "# Plot the Gaussian curve\n",
    "plt.plot(x, y)\n",
    "plt.xlabel('Duration (seconds)')\n",
    "plt.ylabel('Probability Density')\n",
    "plt.title('Gaussian Distribution of Durations')\n",
    "plt.xlim(left=0)\n",
    "plt.show()\n",
    "plt.savefig(os.path.join(img_dir, 'duration_distribution_pdf.svg'))\n"
   ]
  },
  {
   "cell_type": "code",
   "execution_count": null,
   "metadata": {},
   "outputs": [],
   "source": [
    "diff_df['diff'].dt.total_seconds().describe()"
   ]
  },
  {
   "cell_type": "code",
   "execution_count": null,
   "metadata": {},
   "outputs": [],
   "source": [
    "import matplotlib.pyplot as plt\n",
    "\n",
    "stats = np.ceil(diff_df['diff'].dt.total_seconds().to_numpy()).astype(int)\n",
    "limit = 20\n",
    "\n",
    "labels, counts = np.unique(stats, return_counts=True)\n",
    "x = np.arange(labels.max())\n",
    "# Plot the distribution of 'diff' column\n",
    "plt.bar(labels.astype(str), counts, data=counts, align='center')\n",
    "plt.xlabel('Duration (seconds)')\n",
    "plt.ylabel('Frequency')\n",
    "plt.title('Distribution of Durations')\n",
    "plt.margins(x=0.01, y=0.1)\n",
    "plt.xlim(0, 20)\n",
    "plt.show()\n",
    "plt.savefig(os.path.join(img_dir, 'duration_distribution_bar.svg'))"
   ]
  },
  {
   "cell_type": "markdown",
   "metadata": {},
   "source": [
    "# Label frequencies"
   ]
  },
  {
   "cell_type": "code",
   "execution_count": null,
   "metadata": {},
   "outputs": [],
   "source": [
    "df['verb_class'].value_counts().head(20).plot(kind='bar')"
   ]
  },
  {
   "cell_type": "markdown",
   "metadata": {},
   "source": [
    "# IMU splits"
   ]
  },
  {
   "cell_type": "markdown",
   "metadata": {},
   "source": []
  },
  {
   "cell_type": "code",
   "execution_count": 1,
   "metadata": {},
   "outputs": [
    {
     "name": "stdout",
     "output_type": "stream",
     "text": [
      "/home/gatanasio/SSPT_IMU\n"
     ]
    },
    {
     "name": "stderr",
     "output_type": "stream",
     "text": [
      "/home/gatanasio/miniconda3/envs/audio-mae/lib/python3.11/site-packages/IPython/core/magics/osm.py:417: UserWarning: using dhist requires you to install the `pickleshare` library.\n",
      "  self.shell.db['dhist'] = compress_dhist(dhist)[-100:]\n"
     ]
    }
   ],
   "source": [
    "%cd .."
   ]
  },
  {
   "cell_type": "code",
   "execution_count": 2,
   "metadata": {},
   "outputs": [
    {
     "name": "stdout",
     "output_type": "stream",
     "text": [
      "/home/gatanasio/SSPT_IMU/src\n"
     ]
    }
   ],
   "source": [
    "%cd src"
   ]
  },
  {
   "cell_type": "code",
   "execution_count": 3,
   "metadata": {},
   "outputs": [],
   "source": [
    "from data.epic_dataset import EpicDataset\n",
    "import os"
   ]
  },
  {
   "cell_type": "code",
   "execution_count": 4,
   "metadata": {},
   "outputs": [],
   "source": [
    "root_dir = os.path.join('/data', 'EPIC-KITCHENS')\n",
    "annotations_dir = os.path.join('..', 'data', 'annotations')\n",
    "train = True\n",
    "filename_train = 'EPIC_100_train_clean.pkl'"
   ]
  },
  {
   "cell_type": "code",
   "execution_count": 8,
   "metadata": {},
   "outputs": [
    {
     "name": "stdout",
     "output_type": "stream",
     "text": [
      "37279\n"
     ]
    }
   ],
   "source": [
    "dataset = EpicDataset(\n",
    "    src_dir=root_dir,\n",
    "    annotations=annotations_dir,\n",
    "    filename=filename_train,\n",
    ")\n",
    "\n",
    "annotations = dataset.annotations"
   ]
  },
  {
   "cell_type": "code",
   "execution_count": 9,
   "metadata": {},
   "outputs": [
    {
     "data": {
      "text/plain": [
       "37279"
      ]
     },
     "execution_count": 9,
     "metadata": {},
     "output_type": "execute_result"
    }
   ],
   "source": [
    "del dataset\n",
    "len(annotations)"
   ]
  },
  {
   "cell_type": "code",
   "execution_count": 30,
   "metadata": {},
   "outputs": [
    {
     "data": {
      "text/plain": [
       "verb_class\n",
       "0     8952\n",
       "1     7238\n",
       "2     3524\n",
       "3     2367\n",
       "4     1814\n",
       "      ... \n",
       "58       3\n",
       "94       3\n",
       "85       2\n",
       "88       1\n",
       "95       1\n",
       "Name: count, Length: 89, dtype: int64"
      ]
     },
     "execution_count": 30,
     "metadata": {},
     "output_type": "execute_result"
    }
   ],
   "source": [
    "actions_count_per_pid = annotations['verb_class'].value_counts()\n",
    "actions_count_per_pid"
   ]
  },
  {
   "cell_type": "code",
   "execution_count": 36,
   "metadata": {},
   "outputs": [
    {
     "data": {
      "text/plain": [
       "'Filtered labels with more than 100 instances: 35'"
      ]
     },
     "execution_count": 36,
     "metadata": {},
     "output_type": "execute_result"
    }
   ],
   "source": [
    "threshold = 100\n",
    "actions_count_per_pid = actions_count_per_pid[actions_count_per_pid > threshold]\n",
    "f'Filtered labels with more than {threshold} instances: {len(actions_count_per_pid)}'"
   ]
  },
  {
   "cell_type": "code",
   "execution_count": 37,
   "metadata": {},
   "outputs": [
    {
     "data": {
      "text/plain": [
       "'Filtered dataset length: 35598'"
      ]
     },
     "execution_count": 37,
     "metadata": {},
     "output_type": "execute_result"
    }
   ],
   "source": [
    "all = annotations.loc[annotations['verb_class'].isin(actions_count_per_pid.index)]\n",
    "f'Filtered dataset length: {len(all)}'"
   ]
  },
  {
   "cell_type": "code",
   "execution_count": 38,
   "metadata": {},
   "outputs": [
    {
     "data": {
      "text/plain": [
       "<Axes: xlabel='verb_class', ylabel='# actions'>"
      ]
     },
     "execution_count": 38,
     "metadata": {},
     "output_type": "execute_result"
    },
    {
     "data": {
      "image/png": "[encoded data removed]",
      "text/plain": [
       "<Figure size 2000x1000 with 1 Axes>"
      ]
     },
     "metadata": {},
     "output_type": "display_data"
    }
   ],
   "source": [
    "actions_count_per_pid.plot(kind='bar', ylabel='# actions', figsize=(20,10))"
   ]
  },
  {
   "cell_type": "code",
   "execution_count": null,
   "metadata": {},
   "outputs": [],
   "source": [
    "total = len(annotations)\n",
    "val = int(total * 0.1)\n",
    "test = int(total * 0.15)\n",
    "train = total - (val + test)\n",
    "f'{total=}, {train=}, {val=}, {test=}'"
   ]
  },
  {
   "cell_type": "code",
   "execution_count": null,
   "metadata": {},
   "outputs": [],
   "source": [
    "train + val + test"
   ]
  },
  {
   "cell_type": "code",
   "execution_count": null,
   "metadata": {},
   "outputs": [],
   "source": [
    "from copy import deepcopy\n",
    "\n",
    "train_split = {\n",
    "    'sum': 0,\n",
    "    'pid_arr': []\n",
    "}\n",
    "val_split = deepcopy(train_split)\n",
    "test_split = deepcopy(train_split)\n",
    "\n",
    "def create_split(obj: dict, split_num: int):\n",
    "    for (pid, value) in actions_count_per_pid.items():\n",
    "        tmp_sum = obj['sum'] + value\n",
    "        if tmp_sum < split_num:\n",
    "            obj['sum'] = tmp_sum\n",
    "            obj['pid_arr'].append(pid)\n",
    "            actions_count_per_pid.drop(pid, inplace=True)\n",
    "        else:\n",
    "            break\n",
    "    return obj\n",
    "\n",
    "train_split = create_split(train_split, train)\n",
    "val_split = create_split(val_split, val)\n",
    "test_split = create_split(test_split, test)\n",
    "train_split, val_split, test_split, actions_count_per_pid"
   ]
  },
  {
   "cell_type": "code",
   "execution_count": null,
   "metadata": {},
   "outputs": [],
   "source": [
    "actions_count_per_pid"
   ]
  },
  {
   "cell_type": "code",
   "execution_count": null,
   "metadata": {},
   "outputs": [],
   "source": [
    "train_split['sum'] = actions_count_per_pid['P11']\n",
    "train_split['pid_arr'].append('P11')\n",
    "\n",
    "val_split['sum'] = actions_count_per_pid['P09']\n",
    "val_split['pid_arr'].append('P09')\n",
    "\n",
    "test_split['sum'] = actions_count_per_pid['P37']\n",
    "test_split['pid_arr'].append('P37')"
   ]
  },
  {
   "cell_type": "code",
   "execution_count": null,
   "metadata": {},
   "outputs": [],
   "source": [
    "train_df = annotations.loc[annotations['participant_id'].isin(train_split['pid_arr'])]\n",
    "val_df = annotations.loc[annotations['participant_id'].isin(val_split['pid_arr'])]\n",
    "test_df = annotations.loc[annotations['participant_id'].isin(test_split['pid_arr'])]"
   ]
  },
  {
   "cell_type": "code",
   "execution_count": null,
   "metadata": {},
   "outputs": [],
   "source": [
    "train_df.to_pickle(os.path.join(annotations_dir, 'EPIC_100_train_clean_split.pkl'))\n",
    "val_df.to_pickle(os.path.join(annotations_dir, 'EPIC_100_validation_split.pkl'))\n",
    "test_df.to_pickle(os.path.join(annotations_dir, 'EPIC_100_test_split.pkl'))"
   ]
  },
  {
   "cell_type": "markdown",
   "metadata": {},
   "source": [
    "## Annotations per label"
   ]
  },
  {
   "cell_type": "markdown",
   "metadata": {},
   "source": [
    "actions_count_per_pid = annotations['participant_id'].value_counts()\n",
    "actions_count_per_pid"
   ]
  }
 ],
 "metadata": {
  "kernelspec": {
   "display_name": "audio-mae",
   "language": "python",
   "name": "python3"
  },
  "language_info": {
   "codemirror_mode": {
    "name": "ipython",
    "version": 3
   },
   "file_extension": ".py",
   "mimetype": "text/x-python",
   "name": "python",
   "nbconvert_exporter": "python",
   "pygments_lexer": "ipython3",
   "version": "3.11.0"
  }
 },
 "nbformat": 4,
 "nbformat_minor": 2
}
