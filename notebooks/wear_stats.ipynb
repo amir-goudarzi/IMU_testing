{
 "cells": [
  {
   "cell_type": "code",
   "execution_count": 3,
   "metadata": {},
   "outputs": [
    {
     "name": "stdout",
     "output_type": "stream",
     "text": [
      "cuda:0\n"
     ]
    }
   ],
   "source": [
    "import os\n",
    "import pandas as pd\n",
    "\n",
    "import torch\n",
    "import torch.nn as nn\n",
    "import torchaudio.transforms as T\n",
    "import torchvision, torchaudio\n",
    "import torch.optim as optim\n",
    "import scipy as sp\n",
    "import pandas as pd\n",
    "from torch.utils.data import Dataset, DataLoader\n",
    "import numpy as np\n",
    "import datetime\n",
    "import matplotlib.pyplot as plt\n",
    "\n",
    "DEVICE = torch.device(\"cuda:0\" if torch.cuda.is_available() else \"cpu\")\n",
    "print(DEVICE)"
   ]
  },
  {
   "cell_type": "code",
   "execution_count": 4,
   "metadata": {},
   "outputs": [
    {
     "name": "stdout",
     "output_type": "stream",
     "text": [
      "/home/gatanasio/SSPT_IMU\n"
     ]
    },
    {
     "name": "stderr",
     "output_type": "stream",
     "text": [
      "/home/gatanasio/miniconda3/envs/audio-mae/lib/python3.11/site-packages/IPython/core/magics/osm.py:417: UserWarning: using dhist requires you to install the `pickleshare` library.\n",
      "  self.shell.db['dhist'] = compress_dhist(dhist)[-100:]\n"
     ]
    }
   ],
   "source": [
    "%cd .."
   ]
  },
  {
   "cell_type": "code",
   "execution_count": 5,
   "metadata": {},
   "outputs": [],
   "source": [
    "root_dir = os.path.join('/data2', 'WEAR')\n",
    "'''\n",
    "Annotations:\n",
    "    - wear_split_1.json\n",
    "    - wear_split_2.json\n",
    "    - wear_split_3.json\n",
    "'''\n",
    "annotations_dir = os.path.join(root_dir, 'annotations')\n",
    "inertial_dir = os.path.join(root_dir, 'raw', 'inertial')\n",
    "annotations_file = 'wear_split_1.json'\n",
    "\n",
    "train = True"
   ]
  },
  {
   "cell_type": "code",
   "execution_count": 6,
   "metadata": {},
   "outputs": [],
   "source": [
    "df_ann1 = pd.read_json(os.path.join(annotations_dir, annotations_file))\n",
    "df_ann2 = pd.read_json(os.path.join(annotations_dir, 'wear_split_2.json'))\n",
    "df_ann3 = pd.read_json(os.path.join(annotations_dir, 'wear_split_3.json'))\n"
   ]
  },
  {
   "cell_type": "code",
   "execution_count": null,
   "metadata": {},
   "outputs": [],
   "source": [
    "len(df_ann1), len(df_ann2), len(df_ann3)"
   ]
  },
  {
   "cell_type": "code",
   "execution_count": null,
   "metadata": {},
   "outputs": [],
   "source": [
    "df_ann1"
   ]
  },
  {
   "cell_type": "code",
   "execution_count": null,
   "metadata": {},
   "outputs": [],
   "source": [
    "df_ann2"
   ]
  },
  {
   "cell_type": "code",
   "execution_count": null,
   "metadata": {},
   "outputs": [],
   "source": [
    "df_ann3"
   ]
  },
  {
   "cell_type": "code",
   "execution_count": null,
   "metadata": {},
   "outputs": [],
   "source": [
    "labels = df_ann1[df_ann1['label_dict'].notna()]\n",
    "labels = labels.drop(columns=['version', 'database'])\n",
    "labels"
   ]
  },
  {
   "cell_type": "code",
   "execution_count": null,
   "metadata": {},
   "outputs": [],
   "source": [
    "df_clean_split = pd.DataFrame(columns=['file', 'label', 'split'])"
   ]
  },
  {
   "cell_type": "code",
   "execution_count": null,
   "metadata": {},
   "outputs": [],
   "source": [
    "src_dir = os.path.join('data', 'WEAR', 'annotations')\n",
    "cls_file = 'wear_cls.pkl'\n",
    "os.makedirs(src_dir, exist_ok=True)\n",
    "pd.to_pickle(labels, os.path.join(src_dir, cls_file))"
   ]
  },
  {
   "cell_type": "code",
   "execution_count": null,
   "metadata": {},
   "outputs": [],
   "source": [
    "df = df_ann1['database'].iloc[0]\n",
    "df = pd.DataFrame(df)"
   ]
  },
  {
   "cell_type": "code",
   "execution_count": null,
   "metadata": {},
   "outputs": [],
   "source": [
    "df"
   ]
  },
  {
   "cell_type": "code",
   "execution_count": null,
   "metadata": {},
   "outputs": [],
   "source": [
    "df.query('subset == \"Training\"')"
   ]
  },
  {
   "cell_type": "code",
   "execution_count": null,
   "metadata": {},
   "outputs": [],
   "source": [
    "df.loc[0, 'annotations']"
   ]
  },
  {
   "cell_type": "markdown",
   "metadata": {},
   "source": [
    "# Splits creation"
   ]
  },
  {
   "cell_type": "code",
   "execution_count": 5,
   "metadata": {},
   "outputs": [],
   "source": [
    "def prepare_df(df):\n",
    "    df_start = df[df['label_dict'].isna()].drop(columns=['version', 'label_dict'])\n",
    "    df_start['sbj_id'] = df_start.index\n",
    "    df_start.reset_index(drop=True, inplace=True)\n",
    "    return df_start"
   ]
  },
  {
   "cell_type": "code",
   "execution_count": 6,
   "metadata": {},
   "outputs": [],
   "source": [
    "def extract_annotations(df):\n",
    "    df_refactored = pd.DataFrame(columns=['sbj_id', 'subset', 'label_id', 'start_s', 'stop_s', 'start_frame', 'stop_frame'])\n",
    "    \n",
    "    df = prepare_df(df)\n",
    "\n",
    "    for idx, row in df.iterrows():\n",
    "        sbj_id = row['sbj_id']\n",
    "        database = pd.DataFrame(row['database'])\n",
    "        new_cols = {\n",
    "            'start_s': database['annotations'].apply(lambda x: x['segment'][0]),\n",
    "            'stop_s': database['annotations'].apply(lambda x: x['segment'][1]),\n",
    "            'start_frame': database['annotations'].apply(lambda x: x['segment (frames)'][0]),\n",
    "            'stop_frame': database['annotations'].apply(lambda x: x['segment (frames)'][1]),\n",
    "            'label_id': database['annotations'].apply(lambda x: x['label_id'])\n",
    "        }\n",
    "        database = database.assign(**new_cols)\n",
    "        database['sbj_id'] = sbj_id\n",
    "        database = database.drop(columns=['annotations', 'fps'])\n",
    "        df_refactored = pd.concat([df_refactored, database])\n",
    "\n",
    "    df_refactored.reset_index(drop=True, inplace=True)\n",
    "    return df_refactored"
   ]
  },
  {
   "cell_type": "code",
   "execution_count": 7,
   "metadata": {},
   "outputs": [
    {
     "name": "stderr",
     "output_type": "stream",
     "text": [
      "/tmp/ipykernel_1761805/2257380593.py:19: FutureWarning: The behavior of DataFrame concatenation with empty or all-NA entries is deprecated. In a future version, this will no longer exclude empty or all-NA columns when determining the result dtypes. To retain the old behavior, exclude the relevant entries before the concat operation.\n",
      "  df_refactored = pd.concat([df_refactored, database])\n",
      "/tmp/ipykernel_1761805/2257380593.py:19: FutureWarning: The behavior of DataFrame concatenation with empty or all-NA entries is deprecated. In a future version, this will no longer exclude empty or all-NA columns when determining the result dtypes. To retain the old behavior, exclude the relevant entries before the concat operation.\n",
      "  df_refactored = pd.concat([df_refactored, database])\n",
      "/tmp/ipykernel_1761805/2257380593.py:19: FutureWarning: The behavior of DataFrame concatenation with empty or all-NA entries is deprecated. In a future version, this will no longer exclude empty or all-NA columns when determining the result dtypes. To retain the old behavior, exclude the relevant entries before the concat operation.\n",
      "  df_refactored = pd.concat([df_refactored, database])\n"
     ]
    }
   ],
   "source": [
    "df_ann1_new = extract_annotations(df_ann1)\n",
    "df_ann2_new = extract_annotations(df_ann2)\n",
    "df_ann3_new = extract_annotations(df_ann3)"
   ]
  },
  {
   "cell_type": "code",
   "execution_count": null,
   "metadata": {},
   "outputs": [],
   "source": [
    "df_ann1_new"
   ]
  },
  {
   "cell_type": "code",
   "execution_count": 9,
   "metadata": {},
   "outputs": [],
   "source": [
    "src_dir = os.path.join('data', 'WEAR', 'annotations')\n",
    "df_ann1_new.to_pickle(os.path.join(src_dir, 'crossval_refactored', 'wear_split_1.pkl'))\n",
    "df_ann2_new.to_pickle(os.path.join(src_dir, 'crossval_refactored', 'wear_split_2.pkl'))\n",
    "df_ann3_new.to_pickle(os.path.join(src_dir, 'crossval_refactored', 'wear_split_3.pkl'))"
   ]
  },
  {
   "cell_type": "code",
   "execution_count": 5,
   "metadata": {},
   "outputs": [
    {
     "ename": "NameError",
     "evalue": "name 'df_new' is not defined",
     "output_type": "error",
     "traceback": [
      "\u001b[0;31m---------------------------------------------------------------------------\u001b[0m",
      "\u001b[0;31mNameError\u001b[0m                                 Traceback (most recent call last)",
      "Cell \u001b[0;32mIn[5], line 2\u001b[0m\n\u001b[1;32m      1\u001b[0m filename_refactored \u001b[38;5;241m=\u001b[39m \u001b[38;5;124m'\u001b[39m\u001b[38;5;124mwear_annotations_refactored.pkl\u001b[39m\u001b[38;5;124m'\u001b[39m\n\u001b[0;32m----> 2\u001b[0m pd\u001b[38;5;241m.\u001b[39mto_pickle(df_new, os\u001b[38;5;241m.\u001b[39mpath\u001b[38;5;241m.\u001b[39mjoin(src_dir, filename_refactored))\n",
      "\u001b[0;31mNameError\u001b[0m: name 'df_new' is not defined"
     ]
    }
   ],
   "source": [
    "filename_refactored = 'wear_annotations_refactored.pkl'\n",
    "pd.to_pickle(df_new, os.path.join(src_dir, filename_refactored))"
   ]
  },
  {
   "cell_type": "code",
   "execution_count": null,
   "metadata": {},
   "outputs": [],
   "source": [
    "# create training split\n",
    "df_tmp = df_new\n",
    "df_tmp['sbj_id'][df_tmp['subset']=='Validation'].unique()"
   ]
  },
  {
   "cell_type": "code",
   "execution_count": null,
   "metadata": {},
   "outputs": [],
   "source": [
    "for sbj_id in ['sbj_0', 'sbj_1', 'sbj_2']:\n",
    "    df_tmp.loc[df_tmp['sbj_id']==sbj_id, 'subset'] = 'Training'"
   ]
  },
  {
   "cell_type": "code",
   "execution_count": null,
   "metadata": {},
   "outputs": [],
   "source": [
    "df_train = df_tmp[df_tmp['subset']=='Training'].drop(columns=['subset'])\n",
    "df_val = df_tmp[df_tmp['subset']=='Validation'].drop(columns=['subset'])"
   ]
  },
  {
   "cell_type": "code",
   "execution_count": null,
   "metadata": {},
   "outputs": [],
   "source": [
    "pd.to_pickle(df_train, os.path.join(src_dir, 'wear_annotations_refactored_train.pkl'))\n",
    "pd.to_pickle(df_val, os.path.join(src_dir, 'wear_annotations_refactored_val.pkl'))"
   ]
  },
  {
   "cell_type": "code",
   "execution_count": null,
   "metadata": {},
   "outputs": [],
   "source": [
    "f'# Training: {len(df_train)}, #Validation: {len(df_val)}'"
   ]
  },
  {
   "cell_type": "code",
   "execution_count": null,
   "metadata": {},
   "outputs": [],
   "source": [
    "df_train"
   ]
  },
  {
   "cell_type": "code",
   "execution_count": null,
   "metadata": {},
   "outputs": [],
   "source": [
    "sbj_duration = df_train[['sbj_id', 'duration']]"
   ]
  },
  {
   "cell_type": "code",
   "execution_count": null,
   "metadata": {},
   "outputs": [],
   "source": [
    "len(df_train[['sbj_id', 'duration']].drop_duplicates())"
   ]
  },
  {
   "cell_type": "code",
   "execution_count": null,
   "metadata": {},
   "outputs": [],
   "source": [
    "df_train['sbj_id', 'duration'].unique()"
   ]
  },
  {
   "cell_type": "markdown",
   "metadata": {},
   "source": [
    "# Data Visualization"
   ]
  },
  {
   "cell_type": "code",
   "execution_count": 5,
   "metadata": {},
   "outputs": [],
   "source": [
    "\n",
    "annotations_dir = os.path.join('data', 'WEAR', 'annotations')\n",
    "annotations_file = 'wear_annotations_refactored.pkl'\n",
    "df_ann = pd.read_pickle(os.path.join(annotations_dir, annotations_file))"
   ]
  },
  {
   "cell_type": "code",
   "execution_count": 6,
   "metadata": {},
   "outputs": [
    {
     "data": {
      "text/plain": [
       "sbj_id\n",
       "sbj_10    40\n",
       "sbj_13    38\n",
       "sbj_17    34\n",
       "sbj_12    32\n",
       "sbj_14    31\n",
       "sbj_7     29\n",
       "sbj_6     27\n",
       "sbj_16    26\n",
       "sbj_9     24\n",
       "sbj_8     23\n",
       "sbj_15    22\n",
       "sbj_11    20\n",
       "Name: count, dtype: int64"
      ]
     },
     "execution_count": 6,
     "metadata": {},
     "output_type": "execute_result"
    }
   ],
   "source": [
    "df_ann[df_ann['subset']=='Training'].sbj_id.value_counts()"
   ]
  },
  {
   "cell_type": "code",
   "execution_count": null,
   "metadata": {},
   "outputs": [],
   "source": [
    "df_ann.keys()"
   ]
  },
  {
   "cell_type": "code",
   "execution_count": null,
   "metadata": {},
   "outputs": [],
   "source": [
    "df_ann['start_s']"
   ]
  },
  {
   "cell_type": "code",
   "execution_count": null,
   "metadata": {},
   "outputs": [],
   "source": [
    "durations = df_ann['stop_s'] - df_ann['start_s']\n",
    "max_duration = durations.max()\n",
    "bin_width = 1 #seconds\n",
    "bins = list(range(0, int(max_duration) + 1, int(bin_width)))\n",
    "durations.sort_values().plot(kind='hist', bins=bins, density=True, title='Duration of the training set videos')"
   ]
  },
  {
   "cell_type": "markdown",
   "metadata": {},
   "source": [
    "# Considerazioni\n",
    "Gli split 1, 2 e 3 sono la stessa cosa, ma cambiano nel tipo 'training-validation' per fare un 3-fold."
   ]
  },
  {
   "cell_type": "markdown",
   "metadata": {},
   "source": [
    "# Feature extraction - IMU"
   ]
  },
  {
   "cell_type": "code",
   "execution_count": 7,
   "metadata": {},
   "outputs": [],
   "source": [
    "imu_file = 'sbj_10.csv'\n",
    "sample_rate = 50 #Hz, source\n",
    "downsampling_rate = 50 #Hz, target\n",
    "wsize = 5 #seconds\n",
    "woverlap = 2.5 #seconds\n"
   ]
  },
  {
   "cell_type": "code",
   "execution_count": 8,
   "metadata": {},
   "outputs": [
    {
     "data": {
      "text/html": [
       "<div>\n",
       "<style scoped>\n",
       "    .dataframe tbody tr th:only-of-type {\n",
       "        vertical-align: middle;\n",
       "    }\n",
       "\n",
       "    .dataframe tbody tr th {\n",
       "        vertical-align: top;\n",
       "    }\n",
       "\n",
       "    .dataframe thead th {\n",
       "        text-align: right;\n",
       "    }\n",
       "</style>\n",
       "<table border=\"1\" class=\"dataframe\">\n",
       "  <thead>\n",
       "    <tr style=\"text-align: right;\">\n",
       "      <th></th>\n",
       "      <th>sbj_id</th>\n",
       "      <th>right_arm_acc_x</th>\n",
       "      <th>right_arm_acc_y</th>\n",
       "      <th>right_arm_acc_z</th>\n",
       "      <th>right_leg_acc_x</th>\n",
       "      <th>right_leg_acc_y</th>\n",
       "      <th>right_leg_acc_z</th>\n",
       "      <th>left_leg_acc_x</th>\n",
       "      <th>left_leg_acc_y</th>\n",
       "      <th>left_leg_acc_z</th>\n",
       "      <th>left_arm_acc_x</th>\n",
       "      <th>left_arm_acc_y</th>\n",
       "      <th>left_arm_acc_z</th>\n",
       "    </tr>\n",
       "  </thead>\n",
       "  <tbody>\n",
       "    <tr>\n",
       "      <th>0</th>\n",
       "      <td>10</td>\n",
       "      <td>0.981982</td>\n",
       "      <td>0.371020</td>\n",
       "      <td>0.025510</td>\n",
       "      <td>0.988918</td>\n",
       "      <td>0.065501</td>\n",
       "      <td>0.148098</td>\n",
       "      <td>0.982915</td>\n",
       "      <td>-0.083130</td>\n",
       "      <td>0.021120</td>\n",
       "      <td>-0.950163</td>\n",
       "      <td>0.274206</td>\n",
       "      <td>0.111081</td>\n",
       "    </tr>\n",
       "    <tr>\n",
       "      <th>1</th>\n",
       "      <td>10</td>\n",
       "      <td>0.983750</td>\n",
       "      <td>0.345706</td>\n",
       "      <td>-0.010884</td>\n",
       "      <td>0.990056</td>\n",
       "      <td>0.064240</td>\n",
       "      <td>0.149030</td>\n",
       "      <td>0.987285</td>\n",
       "      <td>-0.079543</td>\n",
       "      <td>0.018310</td>\n",
       "      <td>-0.955690</td>\n",
       "      <td>0.279296</td>\n",
       "      <td>0.099610</td>\n",
       "    </tr>\n",
       "    <tr>\n",
       "      <th>2</th>\n",
       "      <td>10</td>\n",
       "      <td>0.971634</td>\n",
       "      <td>0.340019</td>\n",
       "      <td>-0.030786</td>\n",
       "      <td>0.989048</td>\n",
       "      <td>0.064956</td>\n",
       "      <td>0.147591</td>\n",
       "      <td>0.992469</td>\n",
       "      <td>-0.082871</td>\n",
       "      <td>0.015696</td>\n",
       "      <td>-0.961587</td>\n",
       "      <td>0.284993</td>\n",
       "      <td>0.094157</td>\n",
       "    </tr>\n",
       "    <tr>\n",
       "      <th>3</th>\n",
       "      <td>10</td>\n",
       "      <td>0.958144</td>\n",
       "      <td>0.354297</td>\n",
       "      <td>-0.030645</td>\n",
       "      <td>0.988378</td>\n",
       "      <td>0.068118</td>\n",
       "      <td>0.146044</td>\n",
       "      <td>0.993909</td>\n",
       "      <td>-0.085662</td>\n",
       "      <td>0.013044</td>\n",
       "      <td>-0.965589</td>\n",
       "      <td>0.289072</td>\n",
       "      <td>0.089787</td>\n",
       "    </tr>\n",
       "    <tr>\n",
       "      <th>4</th>\n",
       "      <td>10</td>\n",
       "      <td>0.957273</td>\n",
       "      <td>0.373711</td>\n",
       "      <td>-0.021169</td>\n",
       "      <td>0.990330</td>\n",
       "      <td>0.070336</td>\n",
       "      <td>0.146870</td>\n",
       "      <td>0.990640</td>\n",
       "      <td>-0.088543</td>\n",
       "      <td>0.017493</td>\n",
       "      <td>-0.966240</td>\n",
       "      <td>0.291954</td>\n",
       "      <td>0.085833</td>\n",
       "    </tr>\n",
       "    <tr>\n",
       "      <th>...</th>\n",
       "      <td>...</td>\n",
       "      <td>...</td>\n",
       "      <td>...</td>\n",
       "      <td>...</td>\n",
       "      <td>...</td>\n",
       "      <td>...</td>\n",
       "      <td>...</td>\n",
       "      <td>...</td>\n",
       "      <td>...</td>\n",
       "      <td>...</td>\n",
       "      <td>...</td>\n",
       "      <td>...</td>\n",
       "      <td>...</td>\n",
       "    </tr>\n",
       "    <tr>\n",
       "      <th>199245</th>\n",
       "      <td>10</td>\n",
       "      <td>0.893520</td>\n",
       "      <td>-0.358096</td>\n",
       "      <td>-0.841556</td>\n",
       "      <td>0.443600</td>\n",
       "      <td>-0.568360</td>\n",
       "      <td>1.082030</td>\n",
       "      <td>0.932721</td>\n",
       "      <td>-0.029403</td>\n",
       "      <td>0.479873</td>\n",
       "      <td>-0.994943</td>\n",
       "      <td>0.025287</td>\n",
       "      <td>-0.149729</td>\n",
       "    </tr>\n",
       "    <tr>\n",
       "      <th>199246</th>\n",
       "      <td>10</td>\n",
       "      <td>0.890451</td>\n",
       "      <td>-0.281284</td>\n",
       "      <td>-0.788299</td>\n",
       "      <td>0.352229</td>\n",
       "      <td>-0.708798</td>\n",
       "      <td>0.813478</td>\n",
       "      <td>0.880057</td>\n",
       "      <td>-0.023242</td>\n",
       "      <td>0.485883</td>\n",
       "      <td>-1.018028</td>\n",
       "      <td>0.119410</td>\n",
       "      <td>-0.202391</td>\n",
       "    </tr>\n",
       "    <tr>\n",
       "      <th>199247</th>\n",
       "      <td>10</td>\n",
       "      <td>0.941280</td>\n",
       "      <td>-0.182932</td>\n",
       "      <td>-0.720960</td>\n",
       "      <td>0.252565</td>\n",
       "      <td>-0.903455</td>\n",
       "      <td>0.553040</td>\n",
       "      <td>0.833505</td>\n",
       "      <td>0.025358</td>\n",
       "      <td>0.484819</td>\n",
       "      <td>-1.054722</td>\n",
       "      <td>0.070287</td>\n",
       "      <td>-0.196611</td>\n",
       "    </tr>\n",
       "    <tr>\n",
       "      <th>199248</th>\n",
       "      <td>10</td>\n",
       "      <td>1.004967</td>\n",
       "      <td>-0.166500</td>\n",
       "      <td>-0.824787</td>\n",
       "      <td>0.192560</td>\n",
       "      <td>-0.903387</td>\n",
       "      <td>0.544455</td>\n",
       "      <td>0.906807</td>\n",
       "      <td>0.048203</td>\n",
       "      <td>0.411519</td>\n",
       "      <td>-1.099370</td>\n",
       "      <td>0.011230</td>\n",
       "      <td>-0.173830</td>\n",
       "    </tr>\n",
       "    <tr>\n",
       "      <th>199249</th>\n",
       "      <td>10</td>\n",
       "      <td>0.970526</td>\n",
       "      <td>0.018000</td>\n",
       "      <td>-1.145054</td>\n",
       "      <td>0.239296</td>\n",
       "      <td>-0.859234</td>\n",
       "      <td>0.679474</td>\n",
       "      <td>1.038864</td>\n",
       "      <td>0.026637</td>\n",
       "      <td>0.319164</td>\n",
       "      <td>-1.181880</td>\n",
       "      <td>-0.012450</td>\n",
       "      <td>-0.127930</td>\n",
       "    </tr>\n",
       "  </tbody>\n",
       "</table>\n",
       "<p>199250 rows × 13 columns</p>\n",
       "</div>"
      ],
      "text/plain": [
       "        sbj_id  right_arm_acc_x  right_arm_acc_y  right_arm_acc_z  \\\n",
       "0           10         0.981982         0.371020         0.025510   \n",
       "1           10         0.983750         0.345706        -0.010884   \n",
       "2           10         0.971634         0.340019        -0.030786   \n",
       "3           10         0.958144         0.354297        -0.030645   \n",
       "4           10         0.957273         0.373711        -0.021169   \n",
       "...        ...              ...              ...              ...   \n",
       "199245      10         0.893520        -0.358096        -0.841556   \n",
       "199246      10         0.890451        -0.281284        -0.788299   \n",
       "199247      10         0.941280        -0.182932        -0.720960   \n",
       "199248      10         1.004967        -0.166500        -0.824787   \n",
       "199249      10         0.970526         0.018000        -1.145054   \n",
       "\n",
       "        right_leg_acc_x  right_leg_acc_y  right_leg_acc_z  left_leg_acc_x  \\\n",
       "0              0.988918         0.065501         0.148098        0.982915   \n",
       "1              0.990056         0.064240         0.149030        0.987285   \n",
       "2              0.989048         0.064956         0.147591        0.992469   \n",
       "3              0.988378         0.068118         0.146044        0.993909   \n",
       "4              0.990330         0.070336         0.146870        0.990640   \n",
       "...                 ...              ...              ...             ...   \n",
       "199245         0.443600        -0.568360         1.082030        0.932721   \n",
       "199246         0.352229        -0.708798         0.813478        0.880057   \n",
       "199247         0.252565        -0.903455         0.553040        0.833505   \n",
       "199248         0.192560        -0.903387         0.544455        0.906807   \n",
       "199249         0.239296        -0.859234         0.679474        1.038864   \n",
       "\n",
       "        left_leg_acc_y  left_leg_acc_z  left_arm_acc_x  left_arm_acc_y  \\\n",
       "0            -0.083130        0.021120       -0.950163        0.274206   \n",
       "1            -0.079543        0.018310       -0.955690        0.279296   \n",
       "2            -0.082871        0.015696       -0.961587        0.284993   \n",
       "3            -0.085662        0.013044       -0.965589        0.289072   \n",
       "4            -0.088543        0.017493       -0.966240        0.291954   \n",
       "...                ...             ...             ...             ...   \n",
       "199245       -0.029403        0.479873       -0.994943        0.025287   \n",
       "199246       -0.023242        0.485883       -1.018028        0.119410   \n",
       "199247        0.025358        0.484819       -1.054722        0.070287   \n",
       "199248        0.048203        0.411519       -1.099370        0.011230   \n",
       "199249        0.026637        0.319164       -1.181880       -0.012450   \n",
       "\n",
       "        left_arm_acc_z  \n",
       "0             0.111081  \n",
       "1             0.099610  \n",
       "2             0.094157  \n",
       "3             0.089787  \n",
       "4             0.085833  \n",
       "...                ...  \n",
       "199245       -0.149729  \n",
       "199246       -0.202391  \n",
       "199247       -0.196611  \n",
       "199248       -0.173830  \n",
       "199249       -0.127930  \n",
       "\n",
       "[199250 rows x 13 columns]"
      ]
     },
     "execution_count": 8,
     "metadata": {},
     "output_type": "execute_result"
    }
   ],
   "source": [
    "sensors = pd.read_csv(os.path.join(inertial_dir, imu_file))\n",
    "sensors = sensors.drop(columns=['label'])\n",
    "sensors"
   ]
  },
  {
   "cell_type": "code",
   "execution_count": 9,
   "metadata": {},
   "outputs": [
    {
     "data": {
      "text/plain": [
       "sbj_id             False\n",
       "right_arm_acc_x    False\n",
       "right_arm_acc_y    False\n",
       "right_arm_acc_z    False\n",
       "right_leg_acc_x    False\n",
       "right_leg_acc_y    False\n",
       "right_leg_acc_z    False\n",
       "left_leg_acc_x     False\n",
       "left_leg_acc_y     False\n",
       "left_leg_acc_z     False\n",
       "left_arm_acc_x      True\n",
       "left_arm_acc_y      True\n",
       "left_arm_acc_z      True\n",
       "dtype: bool"
      ]
     },
     "execution_count": 9,
     "metadata": {},
     "output_type": "execute_result"
    }
   ],
   "source": [
    "sensors.isna().any()"
   ]
  },
  {
   "cell_type": "code",
   "execution_count": 12,
   "metadata": {},
   "outputs": [
    {
     "data": {
      "text/plain": [
       "torch.Size([3, 199250])"
      ]
     },
     "execution_count": 12,
     "metadata": {},
     "output_type": "execute_result"
    }
   ],
   "source": [
    "right_arm_acc = sensors[['right_arm_acc_x', 'right_arm_acc_y', 'right_arm_acc_z']]\n",
    "right_arm_acc = torch.tensor(right_arm_acc.values.T, dtype=torch.float32)\n",
    "right_arm_acc.shape"
   ]
  },
  {
   "cell_type": "code",
   "execution_count": 13,
   "metadata": {},
   "outputs": [],
   "source": [
    "import librosa\n",
    "\n",
    "def plot_waveform(waveform, sr, title=\"Waveform\", ax=None):\n",
    "    waveform = waveform.numpy()\n",
    "\n",
    "    num_frames = waveform.shape[0]\n",
    "    time_axis = torch.arange(0, num_frames) / sr\n",
    "\n",
    "    ax.plot(time_axis, waveform, linewidth=1)\n",
    "    ax.grid(True)\n",
    "    ax.set_xlim([0, time_axis[-1]])\n",
    "    ax.set_title(title)\n",
    "\n",
    "def plot_spectrogram(specgram, title=None, ylabel=\"freq_bin\", ax=None):\n",
    "    if ax is None:\n",
    "        _, ax = plt.subplots(1, 1)\n",
    "    if title is not None:\n",
    "        ax.set_title(title)\n",
    "    ax.set_ylabel(ylabel)\n",
    "    ax.imshow(specgram, origin=\"lower\", aspect=\"auto\", interpolation=\"nearest\")"
   ]
  },
  {
   "cell_type": "code",
   "execution_count": 14,
   "metadata": {},
   "outputs": [
    {
     "data": {
      "image/png": "[encoded data removed]",
      "text/plain": [
       "<Figure size 640x480 with 3 Axes>"
      ]
     },
     "metadata": {},
     "output_type": "display_data"
    }
   ],
   "source": [
    "fig, axs = plt.subplots(3,1)\n",
    "plot_waveform(right_arm_acc[0, :], sample_rate, ax=axs[0])\n",
    "plot_waveform(right_arm_acc[1, :], sample_rate, ax=axs[1])\n",
    "plot_waveform(right_arm_acc[2, :], sample_rate, ax=axs[2])\n",
    "plt.show()"
   ]
  },
  {
   "cell_type": "code",
   "execution_count": null,
   "metadata": {},
   "outputs": [],
   "source": [
    "accl_fft = torch.fft.fft(\n",
    "    right_arm_acc,\n",
    "    dim=1,\n",
    ")"
   ]
  },
  {
   "cell_type": "code",
   "execution_count": null,
   "metadata": {},
   "outputs": [],
   "source": [
    "def plot_fft(accl_fft):\n",
    "    # Plotting the real part of accl_fft\n",
    "    plt.plot(accl_fft.real)\n",
    "    plt.xlabel('f (Hz)')\n",
    "    plt.ylabel('|fft(X)|')\n",
    "    plt.title('Real part of accl_fft')\n",
    "    plt.show()\n"
   ]
  },
  {
   "cell_type": "code",
   "execution_count": null,
   "metadata": {},
   "outputs": [],
   "source": [
    "fs = sample_rate\n",
    "fc = 5  # Cut-off frequency of the filter\n",
    "w = fc / (fs / 2) # Normalize the frequency\n",
    "b, a = sp.signal.butter(5, w, 'low')\n",
    "output = sp.signal.filtfilt(b, a, right_arm_acc[0].numpy())\n",
    "plt.plot(output, label='filtered')\n",
    "plt.legend()\n",
    "plt.show()"
   ]
  },
  {
   "cell_type": "code",
   "execution_count": 15,
   "metadata": {},
   "outputs": [
    {
     "ename": "NameError",
     "evalue": "name 'output' is not defined",
     "output_type": "error",
     "traceback": [
      "\u001b[0;31m---------------------------------------------------------------------------\u001b[0m",
      "\u001b[0;31mNameError\u001b[0m                                 Traceback (most recent call last)",
      "Cell \u001b[0;32mIn[15], line 1\u001b[0m\n\u001b[0;32m----> 1\u001b[0m right_arm_acc_x_filtered \u001b[38;5;241m=\u001b[39m torch\u001b[38;5;241m.\u001b[39mfrom_numpy(np\u001b[38;5;241m.\u001b[39mfloat32(output)\u001b[38;5;241m.\u001b[39mcopy())\n\u001b[1;32m      2\u001b[0m right_arm_acc_x_filtered\u001b[38;5;241m.\u001b[39mshape\n",
      "\u001b[0;31mNameError\u001b[0m: name 'output' is not defined"
     ]
    }
   ],
   "source": [
    "right_arm_acc_x_filtered = torch.from_numpy(np.float32(output).copy())\n",
    "right_arm_acc_x_filtered.shape"
   ]
  },
  {
   "cell_type": "code",
   "execution_count": null,
   "metadata": {},
   "outputs": [],
   "source": [
    "right_arm_acc_x_filtered.dtype"
   ]
  },
  {
   "cell_type": "code",
   "execution_count": null,
   "metadata": {},
   "outputs": [],
   "source": [
    "resampled = T.Resample(sample_rate, downsampling_rate)(right_arm_acc_x_filtered)\n",
    "accl_fft = torch.fft.fft(\n",
    "    resampled\n",
    ")\n",
    "plot_fft(accl_fft)"
   ]
  },
  {
   "cell_type": "markdown",
   "metadata": {},
   "source": [
    "# Spectrogram"
   ]
  },
  {
   "cell_type": "code",
   "execution_count": 16,
   "metadata": {},
   "outputs": [],
   "source": [
    "def normalize_tensor(tensor):\n",
    "    tensor = torch.from_numpy(tensor)\n",
    "    min_value = torch.min(tensor)\n",
    "    max_value = torch.max(tensor)\n",
    "    normalized_tensor = (tensor - min_value) / (max_value - min_value)\n",
    "    return normalized_tensor\n",
    "\n",
    "def cut_and_pad(signal, sampling_rate, seconds):\n",
    "    padded_signal = torch.zeros(sampling_rate * seconds)\n",
    "    if signal.shape[0] < sampling_rate * seconds:\n",
    "        padded_signal = torch.zeros(sampling_rate * seconds)\n",
    "        padded_signal[:signal.shape[0]] = signal\n",
    "    else:\n",
    "        padded_signal = signal[:sampling_rate * seconds]\n",
    "\n",
    "    return padded_signal"
   ]
  },
  {
   "cell_type": "code",
   "execution_count": 42,
   "metadata": {},
   "outputs": [
    {
     "ename": "RuntimeError",
     "evalue": "Argument #4: Padding size should be less than the corresponding input dimension, but got: padding (128, 128) at dimension 2 of input [1, 3, 100]",
     "output_type": "error",
     "traceback": [
      "\u001b[0;31m---------------------------------------------------------------------------\u001b[0m",
      "\u001b[0;31mRuntimeError\u001b[0m                              Traceback (most recent call last)",
      "Cell \u001b[0;32mIn[42], line 30\u001b[0m\n\u001b[1;32m     25\u001b[0m spectrogram\u001b[38;5;241m.\u001b[39mdouble()\n\u001b[1;32m     27\u001b[0m \u001b[38;5;66;03m# 1. spettrogramma\u001b[39;00m\n\u001b[1;32m     28\u001b[0m \u001b[38;5;66;03m# 2. da amplitude a dB\u001b[39;00m\n\u001b[1;32m     29\u001b[0m \u001b[38;5;66;03m# 3. normalizzare [0,1]\u001b[39;00m\n\u001b[0;32m---> 30\u001b[0m prova \u001b[38;5;241m=\u001b[39m spectrogram(prova_2s)\n\u001b[1;32m     31\u001b[0m prova \u001b[38;5;241m=\u001b[39m librosa\u001b[38;5;241m.\u001b[39mpower_to_db(prova)\n\u001b[1;32m     32\u001b[0m \u001b[38;5;66;03m# prova = normalize_tensor(prova)\u001b[39;00m\n",
      "File \u001b[0;32m~/miniconda3/envs/audio-mae/lib/python3.11/site-packages/torch/nn/modules/module.py:1511\u001b[0m, in \u001b[0;36mModule._wrapped_call_impl\u001b[0;34m(self, *args, **kwargs)\u001b[0m\n\u001b[1;32m   1509\u001b[0m     \u001b[38;5;28;01mreturn\u001b[39;00m \u001b[38;5;28mself\u001b[39m\u001b[38;5;241m.\u001b[39m_compiled_call_impl(\u001b[38;5;241m*\u001b[39margs, \u001b[38;5;241m*\u001b[39m\u001b[38;5;241m*\u001b[39mkwargs)  \u001b[38;5;66;03m# type: ignore[misc]\u001b[39;00m\n\u001b[1;32m   1510\u001b[0m \u001b[38;5;28;01melse\u001b[39;00m:\n\u001b[0;32m-> 1511\u001b[0m     \u001b[38;5;28;01mreturn\u001b[39;00m \u001b[38;5;28mself\u001b[39m\u001b[38;5;241m.\u001b[39m_call_impl(\u001b[38;5;241m*\u001b[39margs, \u001b[38;5;241m*\u001b[39m\u001b[38;5;241m*\u001b[39mkwargs)\n",
      "File \u001b[0;32m~/miniconda3/envs/audio-mae/lib/python3.11/site-packages/torch/nn/modules/module.py:1520\u001b[0m, in \u001b[0;36mModule._call_impl\u001b[0;34m(self, *args, **kwargs)\u001b[0m\n\u001b[1;32m   1515\u001b[0m \u001b[38;5;66;03m# If we don't have any hooks, we want to skip the rest of the logic in\u001b[39;00m\n\u001b[1;32m   1516\u001b[0m \u001b[38;5;66;03m# this function, and just call forward.\u001b[39;00m\n\u001b[1;32m   1517\u001b[0m \u001b[38;5;28;01mif\u001b[39;00m \u001b[38;5;129;01mnot\u001b[39;00m (\u001b[38;5;28mself\u001b[39m\u001b[38;5;241m.\u001b[39m_backward_hooks \u001b[38;5;129;01mor\u001b[39;00m \u001b[38;5;28mself\u001b[39m\u001b[38;5;241m.\u001b[39m_backward_pre_hooks \u001b[38;5;129;01mor\u001b[39;00m \u001b[38;5;28mself\u001b[39m\u001b[38;5;241m.\u001b[39m_forward_hooks \u001b[38;5;129;01mor\u001b[39;00m \u001b[38;5;28mself\u001b[39m\u001b[38;5;241m.\u001b[39m_forward_pre_hooks\n\u001b[1;32m   1518\u001b[0m         \u001b[38;5;129;01mor\u001b[39;00m _global_backward_pre_hooks \u001b[38;5;129;01mor\u001b[39;00m _global_backward_hooks\n\u001b[1;32m   1519\u001b[0m         \u001b[38;5;129;01mor\u001b[39;00m _global_forward_hooks \u001b[38;5;129;01mor\u001b[39;00m _global_forward_pre_hooks):\n\u001b[0;32m-> 1520\u001b[0m     \u001b[38;5;28;01mreturn\u001b[39;00m forward_call(\u001b[38;5;241m*\u001b[39margs, \u001b[38;5;241m*\u001b[39m\u001b[38;5;241m*\u001b[39mkwargs)\n\u001b[1;32m   1522\u001b[0m \u001b[38;5;28;01mtry\u001b[39;00m:\n\u001b[1;32m   1523\u001b[0m     result \u001b[38;5;241m=\u001b[39m \u001b[38;5;28;01mNone\u001b[39;00m\n",
      "File \u001b[0;32m~/miniconda3/envs/audio-mae/lib/python3.11/site-packages/torchaudio/transforms/_transforms.py:110\u001b[0m, in \u001b[0;36mSpectrogram.forward\u001b[0;34m(self, waveform)\u001b[0m\n\u001b[1;32m    100\u001b[0m \u001b[38;5;28;01mdef\u001b[39;00m \u001b[38;5;21mforward\u001b[39m(\u001b[38;5;28mself\u001b[39m, waveform: Tensor) \u001b[38;5;241m-\u001b[39m\u001b[38;5;241m>\u001b[39m Tensor:\n\u001b[1;32m    101\u001b[0m \u001b[38;5;250m    \u001b[39m\u001b[38;5;124mr\u001b[39m\u001b[38;5;124;03m\"\"\"\u001b[39;00m\n\u001b[1;32m    102\u001b[0m \u001b[38;5;124;03m    Args:\u001b[39;00m\n\u001b[1;32m    103\u001b[0m \u001b[38;5;124;03m        waveform (Tensor): Tensor of audio of dimension (..., time).\u001b[39;00m\n\u001b[0;32m   (...)\u001b[0m\n\u001b[1;32m    108\u001b[0m \u001b[38;5;124;03m        Fourier bins, and time is the number of window hops (n_frame).\u001b[39;00m\n\u001b[1;32m    109\u001b[0m \u001b[38;5;124;03m    \"\"\"\u001b[39;00m\n\u001b[0;32m--> 110\u001b[0m     \u001b[38;5;28;01mreturn\u001b[39;00m F\u001b[38;5;241m.\u001b[39mspectrogram(\n\u001b[1;32m    111\u001b[0m         waveform,\n\u001b[1;32m    112\u001b[0m         \u001b[38;5;28mself\u001b[39m\u001b[38;5;241m.\u001b[39mpad,\n\u001b[1;32m    113\u001b[0m         \u001b[38;5;28mself\u001b[39m\u001b[38;5;241m.\u001b[39mwindow,\n\u001b[1;32m    114\u001b[0m         \u001b[38;5;28mself\u001b[39m\u001b[38;5;241m.\u001b[39mn_fft,\n\u001b[1;32m    115\u001b[0m         \u001b[38;5;28mself\u001b[39m\u001b[38;5;241m.\u001b[39mhop_length,\n\u001b[1;32m    116\u001b[0m         \u001b[38;5;28mself\u001b[39m\u001b[38;5;241m.\u001b[39mwin_length,\n\u001b[1;32m    117\u001b[0m         \u001b[38;5;28mself\u001b[39m\u001b[38;5;241m.\u001b[39mpower,\n\u001b[1;32m    118\u001b[0m         \u001b[38;5;28mself\u001b[39m\u001b[38;5;241m.\u001b[39mnormalized,\n\u001b[1;32m    119\u001b[0m         \u001b[38;5;28mself\u001b[39m\u001b[38;5;241m.\u001b[39mcenter,\n\u001b[1;32m    120\u001b[0m         \u001b[38;5;28mself\u001b[39m\u001b[38;5;241m.\u001b[39mpad_mode,\n\u001b[1;32m    121\u001b[0m         \u001b[38;5;28mself\u001b[39m\u001b[38;5;241m.\u001b[39monesided,\n\u001b[1;32m    122\u001b[0m     )\n",
      "File \u001b[0;32m~/miniconda3/envs/audio-mae/lib/python3.11/site-packages/torchaudio/functional/functional.py:126\u001b[0m, in \u001b[0;36mspectrogram\u001b[0;34m(waveform, pad, window, n_fft, hop_length, win_length, power, normalized, center, pad_mode, onesided, return_complex)\u001b[0m\n\u001b[1;32m    123\u001b[0m waveform \u001b[38;5;241m=\u001b[39m waveform\u001b[38;5;241m.\u001b[39mreshape(\u001b[38;5;241m-\u001b[39m\u001b[38;5;241m1\u001b[39m, shape[\u001b[38;5;241m-\u001b[39m\u001b[38;5;241m1\u001b[39m])\n\u001b[1;32m    125\u001b[0m \u001b[38;5;66;03m# default values are consistent with librosa.core.spectrum._spectrogram\u001b[39;00m\n\u001b[0;32m--> 126\u001b[0m spec_f \u001b[38;5;241m=\u001b[39m torch\u001b[38;5;241m.\u001b[39mstft(\n\u001b[1;32m    127\u001b[0m     \u001b[38;5;28minput\u001b[39m\u001b[38;5;241m=\u001b[39mwaveform,\n\u001b[1;32m    128\u001b[0m     n_fft\u001b[38;5;241m=\u001b[39mn_fft,\n\u001b[1;32m    129\u001b[0m     hop_length\u001b[38;5;241m=\u001b[39mhop_length,\n\u001b[1;32m    130\u001b[0m     win_length\u001b[38;5;241m=\u001b[39mwin_length,\n\u001b[1;32m    131\u001b[0m     window\u001b[38;5;241m=\u001b[39mwindow,\n\u001b[1;32m    132\u001b[0m     center\u001b[38;5;241m=\u001b[39mcenter,\n\u001b[1;32m    133\u001b[0m     pad_mode\u001b[38;5;241m=\u001b[39mpad_mode,\n\u001b[1;32m    134\u001b[0m     normalized\u001b[38;5;241m=\u001b[39mframe_length_norm,\n\u001b[1;32m    135\u001b[0m     onesided\u001b[38;5;241m=\u001b[39monesided,\n\u001b[1;32m    136\u001b[0m     return_complex\u001b[38;5;241m=\u001b[39m\u001b[38;5;28;01mTrue\u001b[39;00m,\n\u001b[1;32m    137\u001b[0m )\n\u001b[1;32m    139\u001b[0m \u001b[38;5;66;03m# unpack batch\u001b[39;00m\n\u001b[1;32m    140\u001b[0m spec_f \u001b[38;5;241m=\u001b[39m spec_f\u001b[38;5;241m.\u001b[39mreshape(shape[:\u001b[38;5;241m-\u001b[39m\u001b[38;5;241m1\u001b[39m] \u001b[38;5;241m+\u001b[39m spec_f\u001b[38;5;241m.\u001b[39mshape[\u001b[38;5;241m-\u001b[39m\u001b[38;5;241m2\u001b[39m:])\n",
      "File \u001b[0;32m~/miniconda3/envs/audio-mae/lib/python3.11/site-packages/torch/functional.py:658\u001b[0m, in \u001b[0;36mstft\u001b[0;34m(input, n_fft, hop_length, win_length, window, center, pad_mode, normalized, onesided, return_complex)\u001b[0m\n\u001b[1;32m    656\u001b[0m     extended_shape \u001b[38;5;241m=\u001b[39m [\u001b[38;5;241m1\u001b[39m] \u001b[38;5;241m*\u001b[39m (\u001b[38;5;241m3\u001b[39m \u001b[38;5;241m-\u001b[39m signal_dim) \u001b[38;5;241m+\u001b[39m \u001b[38;5;28mlist\u001b[39m(\u001b[38;5;28minput\u001b[39m\u001b[38;5;241m.\u001b[39msize())\n\u001b[1;32m    657\u001b[0m     pad \u001b[38;5;241m=\u001b[39m \u001b[38;5;28mint\u001b[39m(n_fft \u001b[38;5;241m/\u001b[39m\u001b[38;5;241m/\u001b[39m \u001b[38;5;241m2\u001b[39m)\n\u001b[0;32m--> 658\u001b[0m     \u001b[38;5;28minput\u001b[39m \u001b[38;5;241m=\u001b[39m F\u001b[38;5;241m.\u001b[39mpad(\u001b[38;5;28minput\u001b[39m\u001b[38;5;241m.\u001b[39mview(extended_shape), [pad, pad], pad_mode)\n\u001b[1;32m    659\u001b[0m     \u001b[38;5;28minput\u001b[39m \u001b[38;5;241m=\u001b[39m \u001b[38;5;28minput\u001b[39m\u001b[38;5;241m.\u001b[39mview(\u001b[38;5;28minput\u001b[39m\u001b[38;5;241m.\u001b[39mshape[\u001b[38;5;241m-\u001b[39msignal_dim:])\n\u001b[1;32m    660\u001b[0m \u001b[38;5;28;01mreturn\u001b[39;00m _VF\u001b[38;5;241m.\u001b[39mstft(\u001b[38;5;28minput\u001b[39m, n_fft, hop_length, win_length, window,  \u001b[38;5;66;03m# type: ignore[attr-defined]\u001b[39;00m\n\u001b[1;32m    661\u001b[0m                 normalized, onesided, return_complex)\n",
      "File \u001b[0;32m~/miniconda3/envs/audio-mae/lib/python3.11/site-packages/torch/nn/functional.py:4495\u001b[0m, in \u001b[0;36mpad\u001b[0;34m(input, pad, mode, value)\u001b[0m\n\u001b[1;32m   4488\u001b[0m         \u001b[38;5;28;01mif\u001b[39;00m \u001b[38;5;28mlen\u001b[39m(pad) \u001b[38;5;241m==\u001b[39m \u001b[38;5;241m4\u001b[39m \u001b[38;5;129;01mand\u001b[39;00m (\u001b[38;5;28minput\u001b[39m\u001b[38;5;241m.\u001b[39mdim() \u001b[38;5;241m==\u001b[39m \u001b[38;5;241m3\u001b[39m \u001b[38;5;129;01mor\u001b[39;00m \u001b[38;5;28minput\u001b[39m\u001b[38;5;241m.\u001b[39mdim() \u001b[38;5;241m==\u001b[39m \u001b[38;5;241m4\u001b[39m) \u001b[38;5;129;01mand\u001b[39;00m mode \u001b[38;5;241m==\u001b[39m \u001b[38;5;124m'\u001b[39m\u001b[38;5;124mreplicate\u001b[39m\u001b[38;5;124m'\u001b[39m:\n\u001b[1;32m   4489\u001b[0m             \u001b[38;5;66;03m# Use slow decomp whose backward will be in terms of index_put.\u001b[39;00m\n\u001b[1;32m   4490\u001b[0m             \u001b[38;5;66;03m# importlib is required because the import cannot be top level\u001b[39;00m\n\u001b[1;32m   4491\u001b[0m             \u001b[38;5;66;03m# (cycle) and cannot be nested (TS doesn't support)\u001b[39;00m\n\u001b[1;32m   4492\u001b[0m             \u001b[38;5;28;01mreturn\u001b[39;00m importlib\u001b[38;5;241m.\u001b[39mimport_module(\u001b[38;5;124m'\u001b[39m\u001b[38;5;124mtorch._decomp.decompositions\u001b[39m\u001b[38;5;124m'\u001b[39m)\u001b[38;5;241m.\u001b[39mreplication_pad2d(\n\u001b[1;32m   4493\u001b[0m                 \u001b[38;5;28minput\u001b[39m, pad\n\u001b[1;32m   4494\u001b[0m             )\n\u001b[0;32m-> 4495\u001b[0m \u001b[38;5;28;01mreturn\u001b[39;00m torch\u001b[38;5;241m.\u001b[39m_C\u001b[38;5;241m.\u001b[39m_nn\u001b[38;5;241m.\u001b[39mpad(\u001b[38;5;28minput\u001b[39m, pad, mode, value)\n",
      "\u001b[0;31mRuntimeError\u001b[0m: Argument #4: Padding size should be less than the corresponding input dimension, but got: padding (128, 128) at dimension 2 of input [1, 3, 100]"
     ]
    }
   ],
   "source": [
    "focus = 1000\n",
    "sec = 2 # con 2 e 5 secondi non funziona\n",
    "downsampling_rate = 50 # 25\n",
    "prova_2s = right_arm_acc[:, focus:focus + int(sample_rate * sec)]\n",
    "prova_2s = torchaudio.functional.resample(prova_2s, sample_rate, sample_rate)\n",
    "# prova_2s = accl_x_interp_torch\n",
    "# prova_2s = normalize_tensor(prova_2s.numpy())\n",
    "# \n",
    "\n",
    "# n_ffts = [32, 64, 128, 256]\n",
    "n_ffts = [256]\n",
    "hop_length = [2, 4, 8, 16]\n",
    "\n",
    "specs = []\n",
    "for i, n_fft in enumerate(n_ffts):\n",
    "    spectrogram = T.Spectrogram(\n",
    "        n_fft=n_fft,\n",
    "        win_length=24,\n",
    "        hop_length=1,\n",
    "        center=True,\n",
    "        pad_mode=\"reflect\",\n",
    "        power=2.0,\n",
    "        normalized=True,\n",
    "    )\n",
    "    spectrogram.double()\n",
    "\n",
    "    # 1. spettrogramma\n",
    "    # 2. da amplitude a dB\n",
    "    # 3. normalizzare [0,1]\n",
    "    prova = spectrogram(prova_2s)\n",
    "    prova = librosa.power_to_db(prova)\n",
    "    # prova = normalize_tensor(prova)\n",
    "    specs.append(prova)"
   ]
  },
  {
   "cell_type": "code",
   "execution_count": 26,
   "metadata": {},
   "outputs": [],
   "source": [
    "focus = 1000\n",
    "sec = 2 # con 2 e 5 secondi non funziona\n",
    "sample_rate = 50\n",
    "downsampling_rate = 50\n",
    "waveform = right_arm_acc[:, focus:focus + int(sample_rate * sec)]\n",
    "waveform = torchaudio.transforms.Resample(sample_rate, downsampling_rate)(waveform)\n",
    "spectrogram_transform = torchaudio.transforms.Spectrogram(\n",
    "            n_fft=256, \n",
    "            win_length=24,\n",
    "            hop_length=1, \n",
    "            # window_fn=torch.hann_window \n",
    "        )\n",
    "\n",
    "Fs = downsampling_rate\n",
    "resample_ratio = 320/waveform.shape[1]\n",
    "resample_target = int(Fs*resample_ratio)\n",
    "waveform = torchaudio.transforms.Resample(downsampling_rate, resample_target)(waveform)\n",
    "spectrogram = spectrogram_transform(waveform) # from [1,320] to [1,129,321]\n",
    "spectrogram_db = torchaudio.transforms.AmplitudeToDB()(spectrogram)\n",
    "fbank = spectrogram_db.squeeze(0).transpose(0,1)[:,:128]"
   ]
  },
  {
   "cell_type": "code",
   "execution_count": 41,
   "metadata": {},
   "outputs": [
    {
     "data": {
      "text/plain": [
       "3.2"
      ]
     },
     "execution_count": 41,
     "metadata": {},
     "output_type": "execute_result"
    }
   ],
   "source": [
    "resample_ratio"
   ]
  },
  {
   "cell_type": "code",
   "execution_count": 18,
   "metadata": {},
   "outputs": [
    {
     "data": {
      "text/plain": [
       "torch.Size([3, 129, 321])"
      ]
     },
     "execution_count": 18,
     "metadata": {},
     "output_type": "execute_result"
    }
   ],
   "source": [
    "spectrogram_db.shape"
   ]
  },
  {
   "cell_type": "code",
   "execution_count": 27,
   "metadata": {},
   "outputs": [
    {
     "data": {
      "image/png": "[encoded data removed]",
      "text/plain": [
       "<Figure size 640x480 with 1 Axes>"
      ]
     },
     "metadata": {},
     "output_type": "display_data"
    }
   ],
   "source": [
    "plot_spectrogram(spectrogram_db[2], title='Spectrogram', ylabel='Frequency', ax=None)"
   ]
  },
  {
   "cell_type": "code",
   "execution_count": 22,
   "metadata": {},
   "outputs": [
    {
     "name": "stdout",
     "output_type": "stream",
     "text": [
      "(3, 17, 51)\n",
      "(3, 33, 51)\n",
      "(3, 65, 51)\n"
     ]
    }
   ],
   "source": [
    "for i in range(len(specs)):\n",
    "    print(specs[i].shape) "
   ]
  },
  {
   "cell_type": "code",
   "execution_count": 23,
   "metadata": {},
   "outputs": [
    {
     "data": {
      "image/png": "[encoded data removed]",
      "text/plain": [
       "<Figure size 2000x400 with 3 Axes>"
      ]
     },
     "metadata": {},
     "output_type": "display_data"
    }
   ],
   "source": [
    "fig, axs = plt.subplots(1, len(specs), figsize=(20,4))\n",
    "for i, (spec, n_fft) in enumerate(zip(specs, n_ffts)):\n",
    "    plot_spectrogram(spec[0], ylabel=f\"{n_fft=}\", ax=axs[i])\n",
    "    axs[i].set_xlabel(None)"
   ]
  },
  {
   "cell_type": "code",
   "execution_count": null,
   "metadata": {},
   "outputs": [],
   "source": [
    "resized_spec = torchvision.transforms.Resize((64, 64))(torch.tensor(specs[2]))"
   ]
  },
  {
   "cell_type": "code",
   "execution_count": null,
   "metadata": {},
   "outputs": [],
   "source": [
    "fig, axs = plt.subplots(1, 1, figsize=(10, 10))\n",
    "plot_spectrogram(resized_spec[0], ylabel=f\"{n_ffts[2]=}\", ax=axs)"
   ]
  },
  {
   "cell_type": "markdown",
   "metadata": {},
   "source": [
    "# Mel Spectrogram"
   ]
  },
  {
   "cell_type": "code",
   "execution_count": null,
   "metadata": {},
   "outputs": [],
   "source": [
    "n_ffts = [32, 64, 128, 256]\n",
    "hop_length = [2, 4, 8, 16]\n",
    "downsampling_rate = sample_rate\n",
    "specs_mel = []\n",
    "for i, n_fft in enumerate(n_ffts):\n",
    "    mel_spectrogram = T.MelSpectrogram(\n",
    "        n_mels=25,\n",
    "        sample_rate=downsampling_rate,\n",
    "        n_fft=n_fft,\n",
    "        hop_length=4,\n",
    "        center=True,\n",
    "        pad_mode=\"reflect\",\n",
    "        power=2.0,\n",
    "        normalized=True,\n",
    "    )\n",
    "    mel_spectrogram.double()\n",
    "\n",
    "    # 1. spettrogramma\n",
    "    # 2. da amplitude a dB\n",
    "    # 3. normalizzare [0,1]\n",
    "    prova = mel_spectrogram(prova_2s)\n",
    "    prova = librosa.power_to_db(prova)\n",
    "    prova = normalize_tensor(prova)\n",
    "    specs_mel.append(prova)"
   ]
  },
  {
   "cell_type": "code",
   "execution_count": null,
   "metadata": {},
   "outputs": [],
   "source": [
    "for spec in specs_mel:\n",
    "    print(spec.shape)"
   ]
  },
  {
   "cell_type": "code",
   "execution_count": null,
   "metadata": {},
   "outputs": [],
   "source": [
    "fig, axs = plt.subplots(1, len(specs_mel), figsize=(20,4))\n",
    "for i, (spec, n_fft) in enumerate(zip(specs_mel, n_ffts)):\n",
    "    plot_spectrogram(spec[0], ylabel=f\"{n_fft=}\", ax=axs[i])\n",
    "    axs[i].set_xlabel(None)\n",
    "fig.tight_layout()"
   ]
  },
  {
   "cell_type": "markdown",
   "metadata": {},
   "source": [
    "# SSL split\n",
    "\n",
    "Create annotations for SSL split\n",
    "\n",
    "- window = 10 s\n",
    "- overlap = 50%"
   ]
  },
  {
   "cell_type": "code",
   "execution_count": null,
   "metadata": {},
   "outputs": [],
   "source": [
    "annotations_ssl_wear = 'annotations_ssl_wear.pkl'\n",
    "\n",
    "df_ssl_wear = pd.DataFrame(columns=[\n",
    "    'subject',\n",
    "    'start_s',\n",
    "    'stop_s'\n",
    "])"
   ]
  },
  {
   "cell_type": "code",
   "execution_count": null,
   "metadata": {},
   "outputs": [],
   "source": [
    "aux = {}\n",
    "\n",
    "for i, row in df_ann1.iterrows():\n",
    "    \n",
    "    if  i.startswith('sbj') and (i not in aux) and (row['database']['subset'] == 'Training'):\n",
    "        print(i, row['database']['subset'])\n",
    "        aux[i] = {\n",
    "            'duration_s': row['database']['duration']\n",
    "        }\n"
   ]
  },
  {
   "cell_type": "code",
   "execution_count": null,
   "metadata": {},
   "outputs": [],
   "source": [
    "aux"
   ]
  },
  {
   "cell_type": "code",
   "execution_count": null,
   "metadata": {},
   "outputs": [],
   "source": [
    "overlap_in_s = 5\n",
    "window_size = 10\n",
    "sampling_rate_accl = 50\n",
    "\n",
    "for i, row in aux.items():\n",
    "    duration = row['duration_s']\n",
    "    n_windows = int((duration * (window_size / overlap_in_s)) / window_size)\n",
    "\n",
    "    print(f'{i=}, {n_windows=}')\n",
    "\n",
    "    for j in range(n_windows):\n",
    "        start = j * overlap_in_s\n",
    "        stop = start + window_size\n",
    "\n",
    "        df_ssl_wear.loc[len(df_ssl_wear.index)] = [i, start, stop]\n",
    "df_ssl_wear"
   ]
  },
  {
   "cell_type": "code",
   "execution_count": null,
   "metadata": {},
   "outputs": [],
   "source": [
    "len(df_ssl_wear.query('subject == \"sbj_6\"'))"
   ]
  },
  {
   "cell_type": "code",
   "execution_count": null,
   "metadata": {},
   "outputs": [],
   "source": []
  }
 ],
 "metadata": {
  "kernelspec": {
   "display_name": "audio-mae",
   "language": "python",
   "name": "python3"
  },
  "language_info": {
   "codemirror_mode": {
    "name": "ipython",
    "version": 3
   },
   "file_extension": ".py",
   "mimetype": "text/x-python",
   "name": "python",
   "nbconvert_exporter": "python",
   "pygments_lexer": "ipython3",
   "version": "3.11.0"
  }
 },
 "nbformat": 4,
 "nbformat_minor": 2
}
