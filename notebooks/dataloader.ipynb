{
 "cells": [
  {
   "cell_type": "code",
   "execution_count": 1,
   "metadata": {},
   "outputs": [
    {
     "name": "stdout",
     "output_type": "stream",
     "text": [
      "cuda:0\n"
     ]
    }
   ],
   "source": [
    "import os\n",
    "import pandas as pd\n",
    "\n",
    "import torch\n",
    "import torch.nn as nn\n",
    "import torchaudio.transforms as T\n",
    "import torchvision\n",
    "import torch.optim as optim\n",
    "import scipy as sp\n",
    "import pandas as pd\n",
    "from torch.utils.data import Dataset, DataLoader\n",
    "import numpy as np\n",
    "import datetime\n",
    "\n",
    "DEVICE = torch.device(\"cuda:0\" if torch.cuda.is_available() else \"cpu\")\n",
    "print(DEVICE)"
   ]
  },
  {
   "cell_type": "code",
   "execution_count": 2,
   "metadata": {},
   "outputs": [],
   "source": [
    "root_dir = os.path.join('/data', 'EPIC-KITCHENS')\n",
    "annotations_dir = os.path.join('..', 'data', 'annotations')\n",
    "train = True\n",
    "filename = 'EPIC_100_train_clean.pkl'"
   ]
  },
  {
   "cell_type": "code",
   "execution_count": 3,
   "metadata": {},
   "outputs": [],
   "source": [
    "def load_data(filename):\n",
    "    '''\n",
    "    Load the WAV file and its label.\n",
    "    Args :\n",
    "        • filename: str. The path of a WAV file.\n",
    "    Returns A tuple of two Pandas DataFrame objects:\n",
    "        • signals: A DataFrame with the following columns:\n",
    "            • seconds: The time in seconds.\n",
    "            • AcclX: The acceleration along the x-axis.\n",
    "            • AcclY: The acceleration along the y-axis.\n",
    "            • AcclZ: The acceleration along the z-axis.\n",
    "            • GyroX: The angular velocity along the x-axis.\n",
    "            • GyroY: The angular velocity along the y-axis.\n",
    "            • GyroZ: The angular velocity along the z-axis.\n",
    "        • sampling_rate: The sampling rate of the WAV file.\n",
    "    '''\n",
    "    # TODO: Load the WAV file and its label\n",
    "    df_accl, df_gyro = pd.read_csv(filename + '-accl.csv'), pd.read_csv(filename + '-gyro.csv')\n",
    "    # seconds = df_accl['Milliseconds'] / 1000.0\n",
    "    seconds = df_accl['Milliseconds']\n",
    "    seconds.name = \"seconds\"\n",
    "    sampling_rate = int(len(df_accl) / (seconds.iloc[-1] - seconds.iloc[0]))\n",
    "    seconds = torch.tensor(seconds.values, dtype=torch.float32)\n",
    "    accl, gyro = df_accl[[\"AcclX\", \"AcclY\", \"AcclZ\"]], df_gyro[[\"GyroX\", \"GyroY\", \"GyroZ\"]]\n",
    "    accl = torch.tensor(\n",
    "        np.array([\n",
    "            accl['AcclX'].to_numpy(),\n",
    "            accl['AcclY'].to_numpy(),\n",
    "            accl['AcclZ'].to_numpy()\n",
    "        ]), dtype=torch.float32)\n",
    "    gyro = torch.tensor(\n",
    "        np.array([\n",
    "            gyro['GyroX'].to_numpy(),\n",
    "            gyro['GyroY'].to_numpy(),\n",
    "            gyro['GyroZ'].to_numpy()\n",
    "        ]), dtype=torch.float32)\n",
    "    return seconds, (accl, gyro), sampling_rate"
   ]
  },
  {
   "cell_type": "code",
   "execution_count": 4,
   "metadata": {},
   "outputs": [],
   "source": [
    "def trim_data(data, downsampling_rate, ws=3):\n",
    "    '''\n",
    "    Trim the data to a fixed window size.\n",
    "    Args:\n",
    "        • data: A tuple of two torch.Tensor objects. The first tensor is the milliseconds data and the second tensor is the acceleration data.\n",
    "        • downsampling_rate: int. The desired downsampling rate.\n",
    "        • ws: int. The window size in seconds.\n",
    "    Returns:\n",
    "        • accl: The acceleration data with shape (3, ws * downsampling_rate).\n",
    "        • downsampling_rate: The new downsampling rate.\n",
    "\n",
    "    '''\n",
    "    milliseconds, amplitudes = data\n",
    "    ws_extended = ws * downsampling_rate\n",
    "    start = 0\n",
    "    end = ws_extended\n",
    "    \n",
    "    "
   ]
  },
  {
   "cell_type": "code",
   "execution_count": 5,
   "metadata": {},
   "outputs": [
    {
     "data": {
      "text/html": [
       "<div>\n",
       "<style scoped>\n",
       "    .dataframe tbody tr th:only-of-type {\n",
       "        vertical-align: middle;\n",
       "    }\n",
       "\n",
       "    .dataframe tbody tr th {\n",
       "        vertical-align: top;\n",
       "    }\n",
       "\n",
       "    .dataframe thead th {\n",
       "        text-align: right;\n",
       "    }\n",
       "</style>\n",
       "<table border=\"1\" class=\"dataframe\">\n",
       "  <thead>\n",
       "    <tr style=\"text-align: right;\">\n",
       "      <th></th>\n",
       "      <th>participant_id</th>\n",
       "      <th>video_id</th>\n",
       "      <th>narration_timestamp</th>\n",
       "      <th>start_timestamp</th>\n",
       "      <th>stop_timestamp</th>\n",
       "      <th>start_frame</th>\n",
       "      <th>stop_frame</th>\n",
       "      <th>narration</th>\n",
       "      <th>verb</th>\n",
       "      <th>verb_class</th>\n",
       "      <th>noun</th>\n",
       "      <th>noun_class</th>\n",
       "      <th>all_nouns</th>\n",
       "      <th>all_noun_classes</th>\n",
       "    </tr>\n",
       "  </thead>\n",
       "  <tbody>\n",
       "    <tr>\n",
       "      <th>0</th>\n",
       "      <td>P01</td>\n",
       "      <td>P01_102</td>\n",
       "      <td>00:00:01.100</td>\n",
       "      <td>00:00:00.54</td>\n",
       "      <td>00:00:02.23</td>\n",
       "      <td>27</td>\n",
       "      <td>111</td>\n",
       "      <td>take knife and plate</td>\n",
       "      <td>take</td>\n",
       "      <td>0</td>\n",
       "      <td>knife</td>\n",
       "      <td>4</td>\n",
       "      <td>[knife, plate]</td>\n",
       "      <td>[4, 2]</td>\n",
       "    </tr>\n",
       "    <tr>\n",
       "      <th>1</th>\n",
       "      <td>P01</td>\n",
       "      <td>P01_102</td>\n",
       "      <td>00:00:07.600</td>\n",
       "      <td>00:00:07.49</td>\n",
       "      <td>00:00:09.05</td>\n",
       "      <td>374</td>\n",
       "      <td>452</td>\n",
       "      <td>move spatula and colander</td>\n",
       "      <td>move</td>\n",
       "      <td>11</td>\n",
       "      <td>spatula</td>\n",
       "      <td>20</td>\n",
       "      <td>[spatula, colander]</td>\n",
       "      <td>[20, 39]</td>\n",
       "    </tr>\n",
       "    <tr>\n",
       "      <th>2</th>\n",
       "      <td>P01</td>\n",
       "      <td>P01_102</td>\n",
       "      <td>00:00:29.851</td>\n",
       "      <td>00:00:29.66</td>\n",
       "      <td>00:00:30.84</td>\n",
       "      <td>1483</td>\n",
       "      <td>1542</td>\n",
       "      <td>take knife</td>\n",
       "      <td>take</td>\n",
       "      <td>0</td>\n",
       "      <td>knife</td>\n",
       "      <td>4</td>\n",
       "      <td>[knife]</td>\n",
       "      <td>[4]</td>\n",
       "    </tr>\n",
       "    <tr>\n",
       "      <th>3</th>\n",
       "      <td>P01</td>\n",
       "      <td>P01_102</td>\n",
       "      <td>00:03:44.600</td>\n",
       "      <td>00:03:44.45</td>\n",
       "      <td>00:03:45.00</td>\n",
       "      <td>11222</td>\n",
       "      <td>11250</td>\n",
       "      <td>wipe surface</td>\n",
       "      <td>wipe</td>\n",
       "      <td>2</td>\n",
       "      <td>surface</td>\n",
       "      <td>42</td>\n",
       "      <td>[surface]</td>\n",
       "      <td>[42]</td>\n",
       "    </tr>\n",
       "    <tr>\n",
       "      <th>4</th>\n",
       "      <td>P01</td>\n",
       "      <td>P01_102</td>\n",
       "      <td>00:03:45.600</td>\n",
       "      <td>00:03:45.61</td>\n",
       "      <td>00:03:46.01</td>\n",
       "      <td>11280</td>\n",
       "      <td>11300</td>\n",
       "      <td>move glass</td>\n",
       "      <td>move</td>\n",
       "      <td>11</td>\n",
       "      <td>glass</td>\n",
       "      <td>10</td>\n",
       "      <td>[glass]</td>\n",
       "      <td>[10]</td>\n",
       "    </tr>\n",
       "    <tr>\n",
       "      <th>...</th>\n",
       "      <td>...</td>\n",
       "      <td>...</td>\n",
       "      <td>...</td>\n",
       "      <td>...</td>\n",
       "      <td>...</td>\n",
       "      <td>...</td>\n",
       "      <td>...</td>\n",
       "      <td>...</td>\n",
       "      <td>...</td>\n",
       "      <td>...</td>\n",
       "      <td>...</td>\n",
       "      <td>...</td>\n",
       "      <td>...</td>\n",
       "      <td>...</td>\n",
       "    </tr>\n",
       "    <tr>\n",
       "      <th>37450</th>\n",
       "      <td>P37</td>\n",
       "      <td>P37_103</td>\n",
       "      <td>00:06:16.903</td>\n",
       "      <td>00:06:17.17</td>\n",
       "      <td>00:06:17.67</td>\n",
       "      <td>18858</td>\n",
       "      <td>18883</td>\n",
       "      <td>turn off tap</td>\n",
       "      <td>turn-off</td>\n",
       "      <td>8</td>\n",
       "      <td>tap</td>\n",
       "      <td>0</td>\n",
       "      <td>[tap]</td>\n",
       "      <td>[0]</td>\n",
       "    </tr>\n",
       "    <tr>\n",
       "      <th>37451</th>\n",
       "      <td>P37</td>\n",
       "      <td>P37_103</td>\n",
       "      <td>00:06:22.154</td>\n",
       "      <td>00:06:17.86</td>\n",
       "      <td>00:06:23.77</td>\n",
       "      <td>18893</td>\n",
       "      <td>19188</td>\n",
       "      <td>take pan</td>\n",
       "      <td>take</td>\n",
       "      <td>0</td>\n",
       "      <td>pan</td>\n",
       "      <td>5</td>\n",
       "      <td>[pan]</td>\n",
       "      <td>[5]</td>\n",
       "    </tr>\n",
       "    <tr>\n",
       "      <th>37452</th>\n",
       "      <td>P37</td>\n",
       "      <td>P37_103</td>\n",
       "      <td>00:06:26.404</td>\n",
       "      <td>00:06:23.45</td>\n",
       "      <td>00:06:32.66</td>\n",
       "      <td>19172</td>\n",
       "      <td>19633</td>\n",
       "      <td>pour out boiled water</td>\n",
       "      <td>pour-out</td>\n",
       "      <td>9</td>\n",
       "      <td>water:boiled</td>\n",
       "      <td>27</td>\n",
       "      <td>[water:boiled]</td>\n",
       "      <td>[27]</td>\n",
       "    </tr>\n",
       "    <tr>\n",
       "      <th>37453</th>\n",
       "      <td>P37</td>\n",
       "      <td>P37_103</td>\n",
       "      <td>00:00:41.151</td>\n",
       "      <td>00:00:40.57</td>\n",
       "      <td>00:00:44.19</td>\n",
       "      <td>2028</td>\n",
       "      <td>2209</td>\n",
       "      <td>debone chicken thighs</td>\n",
       "      <td>debone</td>\n",
       "      <td>30</td>\n",
       "      <td>thigh:chicken</td>\n",
       "      <td>57</td>\n",
       "      <td>[thigh:chicken]</td>\n",
       "      <td>[57]</td>\n",
       "    </tr>\n",
       "    <tr>\n",
       "      <th>37454</th>\n",
       "      <td>P37</td>\n",
       "      <td>P37_103</td>\n",
       "      <td>00:00:44.907</td>\n",
       "      <td>00:00:46.85</td>\n",
       "      <td>00:00:54.64</td>\n",
       "      <td>2342</td>\n",
       "      <td>2732</td>\n",
       "      <td>debone chicken thighs</td>\n",
       "      <td>debone</td>\n",
       "      <td>30</td>\n",
       "      <td>thigh:chicken</td>\n",
       "      <td>57</td>\n",
       "      <td>[thigh:chicken]</td>\n",
       "      <td>[57]</td>\n",
       "    </tr>\n",
       "  </tbody>\n",
       "</table>\n",
       "<p>37455 rows × 14 columns</p>\n",
       "</div>"
      ],
      "text/plain": [
       "      participant_id video_id narration_timestamp start_timestamp  \\\n",
       "0                P01  P01_102        00:00:01.100     00:00:00.54   \n",
       "1                P01  P01_102        00:00:07.600     00:00:07.49   \n",
       "2                P01  P01_102        00:00:29.851     00:00:29.66   \n",
       "3                P01  P01_102        00:03:44.600     00:03:44.45   \n",
       "4                P01  P01_102        00:03:45.600     00:03:45.61   \n",
       "...              ...      ...                 ...             ...   \n",
       "37450            P37  P37_103        00:06:16.903     00:06:17.17   \n",
       "37451            P37  P37_103        00:06:22.154     00:06:17.86   \n",
       "37452            P37  P37_103        00:06:26.404     00:06:23.45   \n",
       "37453            P37  P37_103        00:00:41.151     00:00:40.57   \n",
       "37454            P37  P37_103        00:00:44.907     00:00:46.85   \n",
       "\n",
       "      stop_timestamp  start_frame  stop_frame                  narration  \\\n",
       "0        00:00:02.23           27         111       take knife and plate   \n",
       "1        00:00:09.05          374         452  move spatula and colander   \n",
       "2        00:00:30.84         1483        1542                 take knife   \n",
       "3        00:03:45.00        11222       11250               wipe surface   \n",
       "4        00:03:46.01        11280       11300                 move glass   \n",
       "...              ...          ...         ...                        ...   \n",
       "37450    00:06:17.67        18858       18883               turn off tap   \n",
       "37451    00:06:23.77        18893       19188                   take pan   \n",
       "37452    00:06:32.66        19172       19633      pour out boiled water   \n",
       "37453    00:00:44.19         2028        2209      debone chicken thighs   \n",
       "37454    00:00:54.64         2342        2732      debone chicken thighs   \n",
       "\n",
       "           verb  verb_class           noun  noun_class            all_nouns  \\\n",
       "0          take           0          knife           4       [knife, plate]   \n",
       "1          move          11        spatula          20  [spatula, colander]   \n",
       "2          take           0          knife           4              [knife]   \n",
       "3          wipe           2        surface          42            [surface]   \n",
       "4          move          11          glass          10              [glass]   \n",
       "...         ...         ...            ...         ...                  ...   \n",
       "37450  turn-off           8            tap           0                [tap]   \n",
       "37451      take           0            pan           5                [pan]   \n",
       "37452  pour-out           9   water:boiled          27       [water:boiled]   \n",
       "37453    debone          30  thigh:chicken          57      [thigh:chicken]   \n",
       "37454    debone          30  thigh:chicken          57      [thigh:chicken]   \n",
       "\n",
       "      all_noun_classes  \n",
       "0               [4, 2]  \n",
       "1             [20, 39]  \n",
       "2                  [4]  \n",
       "3                 [42]  \n",
       "4                 [10]  \n",
       "...                ...  \n",
       "37450              [0]  \n",
       "37451              [5]  \n",
       "37452             [27]  \n",
       "37453             [57]  \n",
       "37454             [57]  \n",
       "\n",
       "[37455 rows x 14 columns]"
      ]
     },
     "execution_count": 5,
     "metadata": {},
     "output_type": "execute_result"
    }
   ],
   "source": [
    "df = pd.read_pickle(os.path.join(annotations_dir, filename))\n",
    "df = df.dropna()\n",
    "df = df.reset_index(drop=True)\n",
    "df"
   ]
  },
  {
   "cell_type": "code",
   "execution_count": 6,
   "metadata": {},
   "outputs": [
    {
     "data": {
      "text/plain": [
       "Timedelta('0 days 00:00:01.690000')"
      ]
     },
     "execution_count": 6,
     "metadata": {},
     "output_type": "execute_result"
    }
   ],
   "source": [
    "line = df.iloc[0, :]\n",
    "start = pd.Timestamp(line['start_timestamp'])\n",
    "stop = pd.Timestamp(line['stop_timestamp'])\n",
    "\n",
    "stop - start"
   ]
  },
  {
   "cell_type": "markdown",
   "metadata": {},
   "source": [
    "### Controllo sulla durata\n",
    "Controllo fatto per vedere se l'ultimo stop_timestamp combacia con l'effettiva durata dei timestamp nel file dell'accelerometro."
   ]
  },
  {
   "cell_type": "code",
   "execution_count": 7,
   "metadata": {},
   "outputs": [
    {
     "data": {
      "text/html": [
       "<div>\n",
       "<style scoped>\n",
       "    .dataframe tbody tr th:only-of-type {\n",
       "        vertical-align: middle;\n",
       "    }\n",
       "\n",
       "    .dataframe tbody tr th {\n",
       "        vertical-align: top;\n",
       "    }\n",
       "\n",
       "    .dataframe thead th {\n",
       "        text-align: right;\n",
       "    }\n",
       "</style>\n",
       "<table border=\"1\" class=\"dataframe\">\n",
       "  <thead>\n",
       "    <tr style=\"text-align: right;\">\n",
       "      <th></th>\n",
       "      <th>participant_id</th>\n",
       "      <th>video_id</th>\n",
       "      <th>narration_timestamp</th>\n",
       "      <th>start_timestamp</th>\n",
       "      <th>stop_timestamp</th>\n",
       "      <th>start_frame</th>\n",
       "      <th>stop_frame</th>\n",
       "      <th>narration</th>\n",
       "      <th>verb</th>\n",
       "      <th>verb_class</th>\n",
       "      <th>noun</th>\n",
       "      <th>noun_class</th>\n",
       "      <th>all_nouns</th>\n",
       "      <th>all_noun_classes</th>\n",
       "    </tr>\n",
       "  </thead>\n",
       "  <tbody>\n",
       "    <tr>\n",
       "      <th>0</th>\n",
       "      <td>P01</td>\n",
       "      <td>P01_102</td>\n",
       "      <td>00:00:01.100</td>\n",
       "      <td>00:00:00.54</td>\n",
       "      <td>00:00:02.23</td>\n",
       "      <td>27.0</td>\n",
       "      <td>111.0</td>\n",
       "      <td>take knife and plate</td>\n",
       "      <td>take</td>\n",
       "      <td>0.0</td>\n",
       "      <td>knife</td>\n",
       "      <td>4.0</td>\n",
       "      <td>[knife, plate]</td>\n",
       "      <td>[4, 2]</td>\n",
       "    </tr>\n",
       "    <tr>\n",
       "      <th>1</th>\n",
       "      <td>P01</td>\n",
       "      <td>P01_102</td>\n",
       "      <td>00:00:07.600</td>\n",
       "      <td>00:00:07.49</td>\n",
       "      <td>00:00:09.05</td>\n",
       "      <td>374.0</td>\n",
       "      <td>452.0</td>\n",
       "      <td>move spatula and colander</td>\n",
       "      <td>move</td>\n",
       "      <td>11.0</td>\n",
       "      <td>spatula</td>\n",
       "      <td>20.0</td>\n",
       "      <td>[spatula, colander]</td>\n",
       "      <td>[20, 39]</td>\n",
       "    </tr>\n",
       "    <tr>\n",
       "      <th>39</th>\n",
       "      <td>P01</td>\n",
       "      <td>P01_102</td>\n",
       "      <td>00:00:10.350</td>\n",
       "      <td>00:00:09.66</td>\n",
       "      <td>00:00:10.84</td>\n",
       "      <td>483.0</td>\n",
       "      <td>542.0</td>\n",
       "      <td>open bin</td>\n",
       "      <td>open</td>\n",
       "      <td>3.0</td>\n",
       "      <td>bin</td>\n",
       "      <td>36.0</td>\n",
       "      <td>[bin]</td>\n",
       "      <td>[36]</td>\n",
       "    </tr>\n",
       "    <tr>\n",
       "      <th>50</th>\n",
       "      <td>P01</td>\n",
       "      <td>P01_102</td>\n",
       "      <td>00:00:11.600</td>\n",
       "      <td>00:00:11.09</td>\n",
       "      <td>00:00:11.94</td>\n",
       "      <td>554.0</td>\n",
       "      <td>597.0</td>\n",
       "      <td>take knife</td>\n",
       "      <td>take</td>\n",
       "      <td>0.0</td>\n",
       "      <td>knife</td>\n",
       "      <td>4.0</td>\n",
       "      <td>[knife]</td>\n",
       "      <td>[4]</td>\n",
       "    </tr>\n",
       "    <tr>\n",
       "      <th>61</th>\n",
       "      <td>P01</td>\n",
       "      <td>P01_102</td>\n",
       "      <td>00:00:12.600</td>\n",
       "      <td>00:00:12.00</td>\n",
       "      <td>00:00:13.00</td>\n",
       "      <td>600.0</td>\n",
       "      <td>650.0</td>\n",
       "      <td>move orange skin into the bin</td>\n",
       "      <td>move-into</td>\n",
       "      <td>11.0</td>\n",
       "      <td>skin:orange</td>\n",
       "      <td>48.0</td>\n",
       "      <td>[skin:orange, bin]</td>\n",
       "      <td>[48, 36]</td>\n",
       "    </tr>\n",
       "    <tr>\n",
       "      <th>...</th>\n",
       "      <td>...</td>\n",
       "      <td>...</td>\n",
       "      <td>...</td>\n",
       "      <td>...</td>\n",
       "      <td>...</td>\n",
       "      <td>...</td>\n",
       "      <td>...</td>\n",
       "      <td>...</td>\n",
       "      <td>...</td>\n",
       "      <td>...</td>\n",
       "      <td>...</td>\n",
       "      <td>...</td>\n",
       "      <td>...</td>\n",
       "      <td>...</td>\n",
       "    </tr>\n",
       "    <tr>\n",
       "      <th>27</th>\n",
       "      <td>P01</td>\n",
       "      <td>P01_102</td>\n",
       "      <td>00:04:27.100</td>\n",
       "      <td>00:04:25.30</td>\n",
       "      <td>00:04:29.37</td>\n",
       "      <td>13265.0</td>\n",
       "      <td>13468.0</td>\n",
       "      <td>close lid</td>\n",
       "      <td>close</td>\n",
       "      <td>4.0</td>\n",
       "      <td>lid</td>\n",
       "      <td>6.0</td>\n",
       "      <td>[lid]</td>\n",
       "      <td>[6]</td>\n",
       "    </tr>\n",
       "    <tr>\n",
       "      <th>28</th>\n",
       "      <td>P01</td>\n",
       "      <td>P01_102</td>\n",
       "      <td>00:04:29.101</td>\n",
       "      <td>00:04:29.39</td>\n",
       "      <td>00:04:30.69</td>\n",
       "      <td>13469.0</td>\n",
       "      <td>13534.0</td>\n",
       "      <td>take container</td>\n",
       "      <td>take</td>\n",
       "      <td>0.0</td>\n",
       "      <td>container</td>\n",
       "      <td>21.0</td>\n",
       "      <td>[container]</td>\n",
       "      <td>[21]</td>\n",
       "    </tr>\n",
       "    <tr>\n",
       "      <th>29</th>\n",
       "      <td>P01</td>\n",
       "      <td>P01_102</td>\n",
       "      <td>00:04:30.100</td>\n",
       "      <td>00:04:30.05</td>\n",
       "      <td>00:04:31.49</td>\n",
       "      <td>13502.0</td>\n",
       "      <td>13574.0</td>\n",
       "      <td>open fridge</td>\n",
       "      <td>open</td>\n",
       "      <td>3.0</td>\n",
       "      <td>fridge</td>\n",
       "      <td>12.0</td>\n",
       "      <td>[fridge]</td>\n",
       "      <td>[12]</td>\n",
       "    </tr>\n",
       "    <tr>\n",
       "      <th>30</th>\n",
       "      <td>P01</td>\n",
       "      <td>P01_102</td>\n",
       "      <td>00:04:31.100</td>\n",
       "      <td>00:04:30.85</td>\n",
       "      <td>00:04:32.10</td>\n",
       "      <td>13542.0</td>\n",
       "      <td>13605.0</td>\n",
       "      <td>put container into fridge</td>\n",
       "      <td>put-into</td>\n",
       "      <td>5.0</td>\n",
       "      <td>container</td>\n",
       "      <td>21.0</td>\n",
       "      <td>[container, fridge]</td>\n",
       "      <td>[21, 12]</td>\n",
       "    </tr>\n",
       "    <tr>\n",
       "      <th>31</th>\n",
       "      <td>P01</td>\n",
       "      <td>P01_102</td>\n",
       "      <td>00:04:32.100</td>\n",
       "      <td>00:04:32.10</td>\n",
       "      <td>00:04:33.05</td>\n",
       "      <td>13605.0</td>\n",
       "      <td>13652.0</td>\n",
       "      <td>close fridge</td>\n",
       "      <td>close</td>\n",
       "      <td>4.0</td>\n",
       "      <td>fridge</td>\n",
       "      <td>12.0</td>\n",
       "      <td>[fridge]</td>\n",
       "      <td>[12]</td>\n",
       "    </tr>\n",
       "  </tbody>\n",
       "</table>\n",
       "<p>127 rows × 14 columns</p>\n",
       "</div>"
      ],
      "text/plain": [
       "   participant_id video_id narration_timestamp start_timestamp stop_timestamp  \\\n",
       "0             P01  P01_102        00:00:01.100     00:00:00.54    00:00:02.23   \n",
       "1             P01  P01_102        00:00:07.600     00:00:07.49    00:00:09.05   \n",
       "39            P01  P01_102        00:00:10.350     00:00:09.66    00:00:10.84   \n",
       "50            P01  P01_102        00:00:11.600     00:00:11.09    00:00:11.94   \n",
       "61            P01  P01_102        00:00:12.600     00:00:12.00    00:00:13.00   \n",
       "..            ...      ...                 ...             ...            ...   \n",
       "27            P01  P01_102        00:04:27.100     00:04:25.30    00:04:29.37   \n",
       "28            P01  P01_102        00:04:29.101     00:04:29.39    00:04:30.69   \n",
       "29            P01  P01_102        00:04:30.100     00:04:30.05    00:04:31.49   \n",
       "30            P01  P01_102        00:04:31.100     00:04:30.85    00:04:32.10   \n",
       "31            P01  P01_102        00:04:32.100     00:04:32.10    00:04:33.05   \n",
       "\n",
       "    start_frame  stop_frame                      narration       verb  \\\n",
       "0          27.0       111.0           take knife and plate       take   \n",
       "1         374.0       452.0      move spatula and colander       move   \n",
       "39        483.0       542.0                       open bin       open   \n",
       "50        554.0       597.0                     take knife       take   \n",
       "61        600.0       650.0  move orange skin into the bin  move-into   \n",
       "..          ...         ...                            ...        ...   \n",
       "27      13265.0     13468.0                      close lid      close   \n",
       "28      13469.0     13534.0                 take container       take   \n",
       "29      13502.0     13574.0                    open fridge       open   \n",
       "30      13542.0     13605.0      put container into fridge   put-into   \n",
       "31      13605.0     13652.0                   close fridge      close   \n",
       "\n",
       "    verb_class         noun  noun_class            all_nouns all_noun_classes  \n",
       "0          0.0        knife         4.0       [knife, plate]           [4, 2]  \n",
       "1         11.0      spatula        20.0  [spatula, colander]         [20, 39]  \n",
       "39         3.0          bin        36.0                [bin]             [36]  \n",
       "50         0.0        knife         4.0              [knife]              [4]  \n",
       "61        11.0  skin:orange        48.0   [skin:orange, bin]         [48, 36]  \n",
       "..         ...          ...         ...                  ...              ...  \n",
       "27         4.0          lid         6.0                [lid]              [6]  \n",
       "28         0.0    container        21.0          [container]             [21]  \n",
       "29         3.0       fridge        12.0             [fridge]             [12]  \n",
       "30         5.0    container        21.0  [container, fridge]         [21, 12]  \n",
       "31         4.0       fridge        12.0             [fridge]             [12]  \n",
       "\n",
       "[127 rows x 14 columns]"
      ]
     },
     "execution_count": 7,
     "metadata": {},
     "output_type": "execute_result"
    }
   ],
   "source": [
    "df.where(df['video_id'] == 'P01_102').sort_values(by='start_timestamp').dropna()"
   ]
  },
  {
   "cell_type": "code",
   "execution_count": 8,
   "metadata": {},
   "outputs": [],
   "source": [
    "\n",
    "participant_id = df.loc[0, 'participant_id']\n",
    "video_id = df.loc[0, 'video_id']\n",
    "clip_path = os.path.join(root_dir, participant_id, 'meta_data', video_id)\n",
    "seconds, (accl, gyro), sampling_rate = load_data(clip_path)"
   ]
  },
  {
   "cell_type": "code",
   "execution_count": 9,
   "metadata": {},
   "outputs": [
    {
     "data": {
      "text/plain": [
       "tensor([0.0000e+00, 4.4444e+00, 8.8889e+00,  ..., 2.7198e+05, 2.7199e+05,\n",
       "        2.7199e+05])"
      ]
     },
     "execution_count": 9,
     "metadata": {},
     "output_type": "execute_result"
    }
   ],
   "source": [
    "seconds"
   ]
  },
  {
   "cell_type": "code",
   "execution_count": 10,
   "metadata": {},
   "outputs": [
    {
     "data": {
      "text/plain": [
       "0             0.000000\n",
       "1             4.444445\n",
       "2             8.888889\n",
       "3            13.333333\n",
       "4            17.777779\n",
       "             ...      \n",
       "54088    271974.750000\n",
       "54089    271979.812500\n",
       "54090    271984.843750\n",
       "54091    271989.906250\n",
       "54092    271994.937500\n",
       "Length: 54093, dtype: float32"
      ]
     },
     "execution_count": 10,
     "metadata": {},
     "output_type": "execute_result"
    }
   ],
   "source": [
    "seconds_ts = pd.Series(seconds.numpy())\n",
    "seconds_ts"
   ]
  },
  {
   "cell_type": "code",
   "execution_count": 11,
   "metadata": {},
   "outputs": [
    {
     "data": {
      "text/plain": [
       "1        4.444445\n",
       "2        4.444445\n",
       "3        4.444444\n",
       "4        4.444446\n",
       "5        4.444443\n",
       "           ...   \n",
       "54088    5.062500\n",
       "54089    5.062500\n",
       "54090    5.031250\n",
       "54091    5.062500\n",
       "54092    5.031250\n",
       "Length: 54092, dtype: float32"
      ]
     },
     "execution_count": 11,
     "metadata": {},
     "output_type": "execute_result"
    }
   ],
   "source": [
    "diff = seconds_ts.diff()[1:]\n",
    "diff"
   ]
  },
  {
   "cell_type": "markdown",
   "metadata": {},
   "source": [
    "### Osservazione\n",
    "Il seguente grafico ci dice che il sampling non è uniforme. Di seguito sono riportate le statistiche su P01_01_102, mentre il grafico riporta i dati fino a 10k entries per motivi di visualizzazione."
   ]
  },
  {
   "cell_type": "code",
   "execution_count": 12,
   "metadata": {},
   "outputs": [
    {
     "name": "stdout",
     "output_type": "stream",
     "text": [
      "mean: 5.028376579284668\n",
      "median: 5.046875\n",
      "max_min: (5.0625, 4.44439697265625)\n"
     ]
    }
   ],
   "source": [
    "mean, median, max_min = diff.mean(), diff.median(), (diff.max(), diff.min())\n",
    "print(f'mean: {mean}\\nmedian: {median}\\nmax_min: {max_min}')"
   ]
  },
  {
   "cell_type": "code",
   "execution_count": 13,
   "metadata": {},
   "outputs": [
    {
     "data": {
      "image/png": "[encoded data removed]",
      "text/plain": [
       "<Figure size 640x480 with 1 Axes>"
      ]
     },
     "metadata": {},
     "output_type": "display_data"
    }
   ],
   "source": [
    "import matplotlib.pyplot as plt\n",
    "\n",
    "plt.plot(diff[1100:2023])\n",
    "plt.title('Linear Plot of diff')\n",
    "plt.xlabel('milliseconds')\n",
    "plt.ylabel('Value')\n",
    "plt.show()\n"
   ]
  },
  {
   "cell_type": "code",
   "execution_count": 14,
   "metadata": {},
   "outputs": [
    {
     "data": {
      "text/plain": [
       "0        True\n",
       "1        True\n",
       "2        True\n",
       "3        True\n",
       "4        True\n",
       "         ... \n",
       "54088    True\n",
       "54089    True\n",
       "54090    True\n",
       "54091    True\n",
       "54092    True\n",
       "Length: 54093, dtype: bool"
      ]
     },
     "execution_count": 14,
     "metadata": {},
     "output_type": "execute_result"
    }
   ],
   "source": [
    "seconds_ts.between(seconds_ts.iloc[0], seconds_ts.iloc[-1])"
   ]
  },
  {
   "cell_type": "code",
   "execution_count": 15,
   "metadata": {},
   "outputs": [
    {
     "data": {
      "text/plain": [
       "(torch.Size([54093]), torch.Size([3, 54093]), torch.Size([3, 54093]))"
      ]
     },
     "execution_count": 15,
     "metadata": {},
     "output_type": "execute_result"
    }
   ],
   "source": [
    "seconds.shape, accl.shape, gyro.shape"
   ]
  },
  {
   "cell_type": "markdown",
   "metadata": {},
   "source": [
    "### Q1: come si può vedere di seguito, i minuti sono 4, ma in realtà la clip dura 02.23-00.54. Bisogna trimmare l'IMU? "
   ]
  },
  {
   "cell_type": "code",
   "execution_count": 16,
   "metadata": {},
   "outputs": [
    {
     "data": {
      "text/plain": [
       "participant_id                          P01\n",
       "video_id                            P01_102\n",
       "narration_timestamp            00:00:01.100\n",
       "start_timestamp                 00:00:00.54\n",
       "stop_timestamp                  00:00:02.23\n",
       "start_frame                              27\n",
       "stop_frame                              111\n",
       "narration              take knife and plate\n",
       "verb                                   take\n",
       "verb_class                                0\n",
       "noun                                  knife\n",
       "noun_class                                4\n",
       "all_nouns                    [knife, plate]\n",
       "all_noun_classes                     [4, 2]\n",
       "Name: 0, dtype: object"
      ]
     },
     "execution_count": 16,
     "metadata": {},
     "output_type": "execute_result"
    }
   ],
   "source": [
    "df.iloc[0, :]"
   ]
  },
  {
   "cell_type": "code",
   "execution_count": 17,
   "metadata": {},
   "outputs": [
    {
     "data": {
      "text/plain": [
       "tensor(4.5332)"
      ]
     },
     "execution_count": 17,
     "metadata": {},
     "output_type": "execute_result"
    }
   ],
   "source": [
    "duration = seconds[-1] - seconds[0]\n",
    "(duration / 1000.0)/60.0"
   ]
  },
  {
   "cell_type": "markdown",
   "metadata": {},
   "source": [
    "# Data Cleaning\n",
    "Come abbiamo visto nel plot precedente, non tutti i timestamp seguono lo stesso sampling rate. Quindi, per uniformarli, occorre fare un preprocessing. Iniziamo con l'interpolazione."
   ]
  },
  {
   "cell_type": "code",
   "execution_count": 18,
   "metadata": {},
   "outputs": [],
   "source": [
    "from scipy.interpolate import interp1d"
   ]
  },
  {
   "cell_type": "code",
   "execution_count": 19,
   "metadata": {},
   "outputs": [
    {
     "data": {
      "text/plain": [
       "('00:00:01.100', '00:00:02.23')"
      ]
     },
     "execution_count": 19,
     "metadata": {},
     "output_type": "execute_result"
    }
   ],
   "source": [
    "df.loc[0, 'narration_timestamp'], df.loc[0, 'stop_timestamp']"
   ]
  },
  {
   "cell_type": "code",
   "execution_count": 20,
   "metadata": {},
   "outputs": [],
   "source": [
    "def datetime_to_milliseconds(timestamp: str):\n",
    "    time = timestamp.split(':')\n",
    "    seconds, micro = time[2].split('.')\n",
    "    hours = int(time[0])\n",
    "    minutes = int(time[1])\n",
    "    return (hours * 3600 + minutes * 60 + int(seconds)) * 1000 + int(micro)"
   ]
  },
  {
   "cell_type": "code",
   "execution_count": 21,
   "metadata": {},
   "outputs": [
    {
     "name": "stdout",
     "output_type": "stream",
     "text": [
      "1100 2023\n"
     ]
    }
   ],
   "source": [
    "resampling_rate = 200\n",
    "start_timestamp = datetime_to_milliseconds(df.loc[0, 'narration_timestamp'])\n",
    "stop_timestamp = datetime_to_milliseconds(df.loc[0, 'stop_timestamp'])\n",
    "print(start_timestamp, stop_timestamp)\n"
   ]
  },
  {
   "cell_type": "code",
   "execution_count": 22,
   "metadata": {},
   "outputs": [
    {
     "data": {
      "text/plain": [
       "(torch.Size([188]), torch.Size([3, 188]))"
      ]
     },
     "execution_count": 22,
     "metadata": {},
     "output_type": "execute_result"
    }
   ],
   "source": [
    "action_idx = ((seconds >= start_timestamp) & (seconds <= stop_timestamp)).nonzero().flatten()\n",
    "action_ms, action_amplitudes = seconds[action_idx], accl[:, action_idx]\n",
    "action_ms.shape, action_amplitudes.shape"
   ]
  },
  {
   "cell_type": "code",
   "execution_count": 23,
   "metadata": {},
   "outputs": [],
   "source": [
    "secs = action_ms / 1000.0\n",
    "target_time_s = torch.linspace(\n",
    "    secs[0],\n",
    "    secs[-1],\n",
    "    steps=int(torch.round((secs[-1] - secs[0]) * resampling_rate))\n",
    "    )\n",
    "interpolate_accl_x = interp1d(secs, action_amplitudes[0], kind='linear', axis=0)"
   ]
  },
  {
   "cell_type": "code",
   "execution_count": 24,
   "metadata": {},
   "outputs": [],
   "source": [
    "accl_x_interp = interpolate_accl_x(target_time_s)"
   ]
  },
  {
   "cell_type": "code",
   "execution_count": 25,
   "metadata": {},
   "outputs": [
    {
     "data": {
      "text/plain": [
       "(torch.Size([183]), (183,))"
      ]
     },
     "execution_count": 25,
     "metadata": {},
     "output_type": "execute_result"
    }
   ],
   "source": [
    "target_time_s.shape, accl_x_interp.shape"
   ]
  },
  {
   "cell_type": "code",
   "execution_count": 26,
   "metadata": {},
   "outputs": [
    {
     "data": {
      "text/plain": [
       "1      0.004902\n",
       "2      0.004902\n",
       "3      0.004902\n",
       "4      0.004902\n",
       "5      0.004902\n",
       "         ...   \n",
       "183    0.004902\n",
       "184    0.005050\n",
       "185    0.005050\n",
       "186    0.005051\n",
       "187    0.005050\n",
       "Length: 187, dtype: float32"
      ]
     },
     "execution_count": 26,
     "metadata": {},
     "output_type": "execute_result"
    }
   ],
   "source": [
    "diff_interp_accl_x = pd.Series(secs.numpy()).diff()[1:]\n",
    "diff_interp_accl_x"
   ]
  },
  {
   "cell_type": "code",
   "execution_count": 27,
   "metadata": {},
   "outputs": [
    {
     "name": "stdout",
     "output_type": "stream",
     "text": [
      "mean: 0.004905137699097395\n",
      "median: 0.004902005195617676\n",
      "max_min: (0.0050506591796875, 0.004901766777038574)\n"
     ]
    }
   ],
   "source": [
    "mean, median, max_min = diff_interp_accl_x.mean(), diff_interp_accl_x.median(), (diff_interp_accl_x.max(), diff_interp_accl_x.min())\n",
    "print(f'mean: {mean}\\nmedian: {median}\\nmax_min: {max_min}')"
   ]
  },
  {
   "cell_type": "code",
   "execution_count": 28,
   "metadata": {},
   "outputs": [
    {
     "data": {
      "image/png": "[encoded data removed]",
      "text/plain": [
       "<Figure size 640x480 with 1 Axes>"
      ]
     },
     "metadata": {},
     "output_type": "display_data"
    }
   ],
   "source": [
    "plt.plot(diff_interp_accl_x)\n",
    "plt.title('Linear Plot of diff')\n",
    "plt.xlabel('milliseconds')\n",
    "plt.ylabel('Value')\n",
    "plt.show()\n"
   ]
  },
  {
   "cell_type": "code",
   "execution_count": 29,
   "metadata": {},
   "outputs": [],
   "source": [
    "def plot_signal(time, signal, title):\n",
    "    plt.plot(time, signal)\n",
    "    plt.title(title)\n",
    "    plt.xlabel('Time (s)')\n",
    "    plt.ylabel('Amplitude')\n",
    "    plt.show()"
   ]
  },
  {
   "cell_type": "code",
   "execution_count": 30,
   "metadata": {},
   "outputs": [
    {
     "data": {
      "image/png": "[encoded data removed]",
      "text/plain": [
       "<Figure size 640x480 with 1 Axes>"
      ]
     },
     "metadata": {},
     "output_type": "display_data"
    }
   ],
   "source": [
    "import matplotlib.pyplot as plt\n",
    "\n",
    "# Plotting the first signal\n",
    "plt.plot(target_time_s, accl_x_interp, label='Interpolated Accl X')\n",
    "\n",
    "# Plotting the second signal\n",
    "plt.plot(action_ms / 1000.0, action_amplitudes[0].numpy(), label='Original Accl X')\n",
    "\n",
    "# Add labels and title\n",
    "plt.xlabel('Time')\n",
    "plt.ylabel('Amplitude')\n",
    "plt.title('Overlapping Signals')\n",
    "\n",
    "# Add legend\n",
    "plt.legend()\n",
    "\n",
    "# Show the plot\n",
    "plt.show()\n"
   ]
  },
  {
   "cell_type": "markdown",
   "metadata": {},
   "source": [
    "# Spectrogram"
   ]
  },
  {
   "cell_type": "markdown",
   "metadata": {},
   "source": [
    "### TODO: calcolare (\\# frequency bins, \\# frames) in maniera adattiva"
   ]
  },
  {
   "cell_type": "markdown",
   "metadata": {},
   "source": [
    "### Q2: Come comportarsi col tempo?\n",
    "Non tutte le azioni hanno la stessa durata, e la dimensione dello spettrogramma dipendono dai parametri sopra. Questo implica che renderlo quadrato per il ViT è da studiare, perché si intacca la dimensione temporale e può portare a dei bias nel modello."
   ]
  },
  {
   "cell_type": "code",
   "execution_count": 31,
   "metadata": {},
   "outputs": [],
   "source": [
    "downsampling_rate = 160\n",
    "\n",
    "win_length = None\n",
    "hop_length = 16\n",
    "# n_fft = int(downsampling_rate * (win_length / 1000) / 2 + 1)\n",
    "n_fft = 128\n",
    "TIME_CUT = 30 #30\n",
    "\n",
    "spectrogram = T.Spectrogram(\n",
    "    n_fft=n_fft,\n",
    "    win_length=win_length,\n",
    "    hop_length=hop_length,\n",
    "    center=True,\n",
    "    pad_mode=\"reflect\",\n",
    "    power=2.0,\n",
    "    normalized=True\n",
    ")\n",
    "\n",
    "mel_spectrogram = T.MelSpectrogram(\n",
    "    n_mels=10,\n",
    "    sample_rate=downsampling_rate,\n",
    "    n_fft=n_fft,\n",
    "    win_length=win_length,\n",
    "    hop_length=hop_length,\n",
    "    center=True,\n",
    "    pad_mode=\"reflect\",\n",
    "    power=2.0,\n",
    "    normalized=True,\n",
    "    f_min=0,\n",
    "    f_max=80\n",
    ")\n"
   ]
  },
  {
   "cell_type": "code",
   "execution_count": 32,
   "metadata": {},
   "outputs": [],
   "source": [
    "signal = torch.tensor(accl_x_interp, dtype=torch.float32)"
   ]
  },
  {
   "cell_type": "code",
   "execution_count": 33,
   "metadata": {},
   "outputs": [],
   "source": [
    "def normalize_tensor(tensor):\n",
    "    tensor = torch.from_numpy(tensor)\n",
    "    min_value = torch.min(tensor)\n",
    "    max_value = torch.max(tensor)\n",
    "    normalized_tensor = (tensor - min_value) / (max_value - min_value)\n",
    "    return normalized_tensor\n",
    "\n",
    "def cut_and_pad(signal, sampling_rate, seconds):\n",
    "    padded_signal = torch.zeros(sampling_rate * seconds)\n",
    "    if signal.shape[0] < sampling_rate * seconds:\n",
    "        padded_signal = torch.zeros(sampling_rate * seconds)\n",
    "        padded_signal[:signal.shape[0]] = signal\n",
    "    else:\n",
    "        padded_signal = signal[:sampling_rate * seconds]\n",
    "\n",
    "    return padded_signal"
   ]
  },
  {
   "cell_type": "code",
   "execution_count": 34,
   "metadata": {},
   "outputs": [
    {
     "data": {
      "text/plain": [
       "Spectrogram()"
      ]
     },
     "execution_count": 34,
     "metadata": {},
     "output_type": "execute_result"
    }
   ],
   "source": [
    "b, a = sp.signal.iirfilter(4, Wn=5.0, fs=downsampling_rate, btype=\"low\", ftype=\"butter\")\n",
    "mel_spectrogram.double()\n",
    "spectrogram.double()"
   ]
  },
  {
   "cell_type": "code",
   "execution_count": 35,
   "metadata": {},
   "outputs": [],
   "source": [
    "filtered_left = sp.signal.lfilter(b, a, torch.abs(signal))\n",
    "filtered_left = normalize_tensor(filtered_left)\n",
    "filtered_left = cut_and_pad(filtered_left, downsampling_rate, TIME_CUT)\n",
    "#filtered_left = mel_spectrogram(torch.from_numpy(filtered_left.numpy()))"
   ]
  },
  {
   "cell_type": "code",
   "execution_count": 36,
   "metadata": {},
   "outputs": [
    {
     "data": {
      "text/plain": [
       "torch.Size([4800])"
      ]
     },
     "execution_count": 36,
     "metadata": {},
     "output_type": "execute_result"
    }
   ],
   "source": [
    "filtered_left.shape"
   ]
  },
  {
   "cell_type": "code",
   "execution_count": 37,
   "metadata": {},
   "outputs": [
    {
     "data": {
      "text/plain": [
       "torch.Size([65, 301])"
      ]
     },
     "execution_count": 37,
     "metadata": {},
     "output_type": "execute_result"
    }
   ],
   "source": [
    "accl_spectrogram = spectrogram(filtered_left)\n",
    "accl_spectrogram.shape"
   ]
  },
  {
   "cell_type": "code",
   "execution_count": 38,
   "metadata": {},
   "outputs": [
    {
     "data": {
      "text/plain": [
       "(tensor(1.), tensor(0.0313))"
      ]
     },
     "execution_count": 38,
     "metadata": {},
     "output_type": "execute_result"
    }
   ],
   "source": [
    "filtered_left.max(), filtered_left.mean()"
   ]
  },
  {
   "cell_type": "code",
   "execution_count": 39,
   "metadata": {},
   "outputs": [
    {
     "data": {
      "image/png": "[encoded data removed]",
      "text/plain": [
       "<Figure size 640x480 with 2 Axes>"
      ]
     },
     "metadata": {},
     "output_type": "display_data"
    }
   ],
   "source": [
    "import matplotlib.pyplot as plt\n",
    "\n",
    "plt.imshow(accl_spectrogram, aspect='auto', origin='lower')\n",
    "plt.colorbar()\n",
    "plt.title('Accl Spectrogram')\n",
    "plt.xlabel('Time')\n",
    "plt.ylabel('Frequency')\n",
    "plt.show()\n"
   ]
  },
  {
   "cell_type": "code",
   "execution_count": 40,
   "metadata": {},
   "outputs": [
    {
     "data": {
      "image/png": "[encoded data removed]",
      "text/plain": [
       "<Figure size 1200x600 with 2 Axes>"
      ]
     },
     "metadata": {},
     "output_type": "display_data"
    }
   ],
   "source": [
    "plt.subplots(1,1, figsize=(12,6))\n",
    "NFFT=128\n",
    "noverlap = int(0.50*NFFT)\n",
    "powerSpectrum, freqenciesFound, time, imageAxis = plt.specgram(signal, Fs=downsampling_rate, NFFT=NFFT, noverlap=noverlap, window=np.kaiser(NFFT,5),cmap='viridis')\n",
    "plt.xlabel('Time (sec)')\n",
    "plt.ylabel('Frequency')\n",
    "plt.colorbar()\n",
    "plt.show()"
   ]
  },
  {
   "cell_type": "code",
   "execution_count": null,
   "metadata": {},
   "outputs": [],
   "source": []
  }
 ],
 "metadata": {
  "kernelspec": {
   "display_name": "audio-mae",
   "language": "python",
   "name": "python3"
  },
  "language_info": {
   "codemirror_mode": {
    "name": "ipython",
    "version": 3
   },
   "file_extension": ".py",
   "mimetype": "text/x-python",
   "name": "python",
   "nbconvert_exporter": "python",
   "pygments_lexer": "ipython3",
   "version": "3.11.8"
  }
 },
 "nbformat": 4,
 "nbformat_minor": 2
}
